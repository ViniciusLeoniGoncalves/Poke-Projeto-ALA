{
 "cells": [
  {
   "cell_type": "markdown",
   "metadata": {},
   "source": [
    "# **Instalando os pacotes necessários**\n",
    "#### `Antes de utilizar este notebook lembre de baixar o Julia e o Jupyter corretamente em sua máquina`\n",
    "<div class=\"alert alert-block alert-info\">\n",
    "<b>!!!</b> Antes de utilizar este notebook lembre de baixar o Julia e o Jupyter corretamente em sua máquina\n",
    "</div>\n",
    "\n",
    "***\n",
    "\n",
    "`Testanto sintaxe do markdowns`\n",
    "\n",
    "$Testantosintaxedomarkdowns$ \n",
    "\n",
    "$v \\cdot u = v_{1}u_{1} + v_{2}u_{2}$\n",
    "> Testando sintaxe do markdown\n",
    "- Testando sintaxe do markdown\n",
    "-  Testando sintaxe do markdown\n",
    "* Testando sintaxe do markdown\n",
    "\n",
    "***\n",
    "\n",
    "- Testando sintaxe do markdown\n",
    "    - testando sintaxe do markdown\n",
    "\n",
    "***\n",
    "\n",
    "1. Testando sintaxe\n",
    "2. Testando sintaxe \n",
    "3. etc...\n",
    "\n",
    "***\n",
    "\n",
    "<div class=\"alert alert-block alert-danger\">\n",
    "<b>Testando a sintaxe do markdown</b> Testando a sintaxe do markdown\n",
    "</div>\n",
    "\n",
    "<div class=\"alert alert-block alert-warning\">\n",
    "<b>Example:</b> Use yellow boxes for examples that are not \n",
    "inside code cells, or use for mathematical formulas if needed.\n",
    "</div>"
   ]
  },
  {
   "cell_type": "code",
   "execution_count": 1,
   "metadata": {},
   "outputs": [
    {
     "name": "stderr",
     "output_type": "stream",
     "text": [
      "\u001b[32m\u001b[1m    Updating\u001b[22m\u001b[39m registry at `C:\\Users\\Gorguet\\.julia\\registries\\General.toml`\n",
      "\u001b[32m\u001b[1m   Resolving\u001b[22m\u001b[39m package versions...\n",
      "\u001b[32m\u001b[1m  No Changes\u001b[22m\u001b[39m to `C:\\Users\\Gorguet\\.julia\\environments\\v1.11\\Project.toml`\n",
      "\u001b[32m\u001b[1m  No Changes\u001b[22m\u001b[39m to `C:\\Users\\Gorguet\\.julia\\environments\\v1.11\\Manifest.toml`\n",
      "\u001b[32m\u001b[1m   Resolving\u001b[22m\u001b[39m package versions...\n",
      "\u001b[32m\u001b[1m  No Changes\u001b[22m\u001b[39m to `C:\\Users\\Gorguet\\.julia\\environments\\v1.11\\Project.toml`\n",
      "\u001b[32m\u001b[1m  No Changes\u001b[22m\u001b[39m to `C:\\Users\\Gorguet\\.julia\\environments\\v1.11\\Manifest.toml`\n",
      "\u001b[32m\u001b[1m   Resolving\u001b[22m\u001b[39m package versions...\n",
      "\u001b[32m\u001b[1m  No Changes\u001b[22m\u001b[39m to `C:\\Users\\Gorguet\\.julia\\environments\\v1.11\\Project.toml`\n",
      "\u001b[32m\u001b[1m  No Changes\u001b[22m\u001b[39m to `C:\\Users\\Gorguet\\.julia\\environments\\v1.11\\Manifest.toml`\n"
     ]
    }
   ],
   "source": [
    "#Execute este bloco de código apenas uma vez\n",
    "\n",
    "using Pkg\n",
    "\n",
    "#digitando comentario\n",
    "\n",
    "# Instalar pacotes\n",
    "Pkg.add(\"HTTP\")\n",
    "Pkg.add(\"JSON\")\n",
    "Pkg.add(\"IJulia\")"
   ]
  },
  {
   "cell_type": "markdown",
   "metadata": {},
   "source": [
    "# **Definindos Funções**\n",
    " Estamos utilizando aqui os conceitos que aprendemos em Algebra linear Algorítmica para trabalhar com vetores e entender o quão próximos dois vetores estão.\n"
   ]
  },
  {
   "cell_type": "code",
   "execution_count": null,
   "metadata": {},
   "outputs": [
    {
     "name": "stdout",
     "output_type": "stream",
     "text": [
      "[0, 1, 0]\n",
      "[0 1 0]\n",
      "0.0\n",
      "90.0\n"
     ]
    }
   ],
   "source": [
    "using LinearAlgebra\n",
    "\n",
    "function cos_calc(v1, v2)\n",
    "\n",
    "  return (dot(v1,v2)/(norm(v1)*norm(v2)))\n",
    "\n",
    "end\n",
    "\n",
    "function calc_angle(v1, v2)\n",
    "  return (((180)/pi)*(acos(cos_calc(v1, v2))))\n",
    "\n",
    "end\n",
    "\n",
    "function mult_matrix(v1, m)\n",
    "  \n",
    "\n",
    "end\n",
    "\n",
    "v1 = [1,0,0]\n",
    "v2 = [0,1,0]\n",
    "\n",
    "v3 = transpose(v2)\n",
    "\n",
    "println(v2)\n",
    "println(v3)\n",
    "\n",
    "println(cos_calc(v1, v2))\n",
    "println(calc_angle(v1, v2))\n"
   ]
  }
 ],
 "metadata": {
  "kernelspec": {
   "display_name": "Julia 1.11.1",
   "language": "julia",
   "name": "julia-1.11"
  },
  "language_info": {
   "file_extension": ".jl",
   "mimetype": "application/julia",
   "name": "julia",
   "version": "1.11.1"
  }
 },
 "nbformat": 4,
 "nbformat_minor": 2
}
