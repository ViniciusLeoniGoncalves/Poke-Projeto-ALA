{
 "cells": [
  {
   "cell_type": "markdown",
   "metadata": {},
   "source": [
    "# ![title](title_IAP_ALA.png)\n",
    "\n",
    "**AUTORES:**\n",
    "- Ian Mascaro Salomão - DRE: *123162270*\n",
    "- Vinícius Leoni Gonçalves - DRE: *121083446*\n",
    "\n",
    "**BEM VINDO, TREINADOR!**\n",
    "***\n",
    "Este é o Gerador de Índice de Afinidade Pokémon (IAP)!\n",
    "O objetivo deste gerador é auxiliar treinadores a identificar os cinco Pokémon com os status base mais semelhantes ao do Pokémon de interesse. O cálculo considera tanto a distribuição dos valores entre os diferentes status quanto a magnitude absoluta de cada um.\n",
    "\n",
    "**APLICABILIDADES REAIS!**\n",
    "- Útil para o treinador que perdeu um de seus companheiros no meio da jornada rumo ao topo de Kanto, o Gerador procura dentre todas as espécies de Pokémon aquelas que têm o perfil mais parecido com o amigo que se foi. Assim, o treinador pode continuar a batalhar com um time que mantenha sua identidade. \n",
    "- Pode ser usado também para substituir um companheiro que tenha desvantagem por causa do seu tipo em uma luta de Ginásio."
   ]
  },
  {
   "cell_type": "markdown",
   "metadata": {},
   "source": [
    "## **Instalando os pacotes necessários**\n",
    "    Antes de utilizar este notebook lembre de baixar o Julia e o Jupyter corretamente em sua máquina\n"
   ]
  },
  {
   "cell_type": "code",
   "execution_count": 12,
   "metadata": {},
   "outputs": [
    {
     "name": "stderr",
     "output_type": "stream",
     "text": [
      "\u001b[32m\u001b[1m   Resolving\u001b[22m\u001b[39m package versions...\n",
      "\u001b[32m\u001b[1m  No Changes\u001b[22m\u001b[39m to `C:\\Users\\Gorguet\\.julia\\environments\\v1.11\\Project.toml`\n",
      "\u001b[32m\u001b[1m  No Changes\u001b[22m\u001b[39m to `C:\\Users\\Gorguet\\.julia\\environments\\v1.11\\Manifest.toml`\n",
      "\u001b[32m\u001b[1m   Resolving\u001b[22m\u001b[39m package versions...\n",
      "\u001b[32m\u001b[1m  No Changes\u001b[22m\u001b[39m to `C:\\Users\\Gorguet\\.julia\\environments\\v1.11\\Project.toml`\n",
      "\u001b[32m\u001b[1m  No Changes\u001b[22m\u001b[39m to `C:\\Users\\Gorguet\\.julia\\environments\\v1.11\\Manifest.toml`\n",
      "\u001b[32m\u001b[1m   Resolving\u001b[22m\u001b[39m package versions...\n",
      "\u001b[32m\u001b[1m  No Changes\u001b[22m\u001b[39m to `C:\\Users\\Gorguet\\.julia\\environments\\v1.11\\Project.toml`\n",
      "\u001b[32m\u001b[1m  No Changes\u001b[22m\u001b[39m to `C:\\Users\\Gorguet\\.julia\\environments\\v1.11\\Manifest.toml`\n",
      "\u001b[32m\u001b[1m   Resolving\u001b[22m\u001b[39m package versions...\n",
      "\u001b[32m\u001b[1m  No Changes\u001b[22m\u001b[39m to `C:\\Users\\Gorguet\\.julia\\environments\\v1.11\\Project.toml`\n",
      "\u001b[32m\u001b[1m  No Changes\u001b[22m\u001b[39m to `C:\\Users\\Gorguet\\.julia\\environments\\v1.11\\Manifest.toml`\n",
      "\u001b[32m\u001b[1m   Resolving\u001b[22m\u001b[39m package versions...\n",
      "\u001b[32m\u001b[1m  No Changes\u001b[22m\u001b[39m to `C:\\Users\\Gorguet\\.julia\\environments\\v1.11\\Project.toml`\n",
      "\u001b[32m\u001b[1m  No Changes\u001b[22m\u001b[39m to `C:\\Users\\Gorguet\\.julia\\environments\\v1.11\\Manifest.toml`\n"
     ]
    }
   ],
   "source": [
    "#Execute este bloco de código apenas uma vez\n",
    "#Galo!!!\n",
    "#FLU!!!\n",
    "using Pkg\n",
    "\n",
    "Pkg.add(\"HTTP\")\n",
    "Pkg.add(\"JSON\")\n",
    "Pkg.add(\"LinearAlgebra\")\n",
    "Pkg.add(\"IJulia\")\n",
    "Pkg.add(\"PlotlyJS\")"
   ]
  },
  {
   "cell_type": "markdown",
   "metadata": {},
   "source": [
    "## Usando a PokeAPI\n",
    "***\n",
    "Vamos aprender a utilizar a PokeAPI. Essa API contém as informações de todos os Pokemóns. Para o nosso projeto, usaremos apenas a 1° Geração. \n",
    "Vamos extrair os nomes e status base dos Pokémons para poder gerar a métrica criada por nós; o **Índice de Afinidade Pokémon (IAP)**.\n",
    "\n",
    "No exemplo abaixo, extraímos os dados dos Pokémons Pikachu e Charmander, utilizando as urls diretamente por seus nomes.\n"
   ]
  },
  {
   "cell_type": "code",
   "execution_count": 5,
   "metadata": {},
   "outputs": [
    {
     "name": "stdout",
     "output_type": "stream",
     "text": [
      "Nome: pikachu\n",
      "Altura: 4\n",
      "Peso: 60\n",
      "Habilidades: [\"static\", \"lightning-rod\"]\n",
      "Status: hp -> Valor Base: 35\n",
      "Status: attack -> Valor Base: 55\n",
      "Status: defense -> Valor Base: 40\n",
      "Status: special-attack -> Valor Base: 50\n",
      "Status: special-defense -> Valor Base: 50\n",
      "Status: speed -> Valor Base: 90\n",
      "\n",
      "Nome: charmander\n",
      "Altura: 6\n",
      "Peso: 85\n",
      "Habilidades: [\"blaze\", \"solar-power\"]\n",
      "Status: hp -> Valor Base: 39\n",
      "Status: attack -> Valor Base: 52\n",
      "Status: defense -> Valor Base: 43\n",
      "Status: special-attack -> Valor Base: 60\n",
      "Status: special-defense -> Valor Base: 50\n",
      "Status: speed -> Valor Base: 65\n",
      "\n"
     ]
    }
   ],
   "source": [
    "#Usando a PokeAPI \n",
    "using HTTP, JSON\n",
    "\n",
    "# URL da PokeAPI para buscar dados do Pikachu\n",
    "url = \"https://pokeapi.co/api/v2/pokemon/pikachu\"\n",
    "# URL DA PokeAPI para buscar dados do Charmander\n",
    "url2 = \"https://pokeapi.co/api/v2/pokemon/charmander\"\n",
    "\n",
    "# Fazer a requisição GET\n",
    "response = HTTP.get(url)\n",
    "response_2 = HTTP.get(url2)\n",
    "\n",
    "# Parse do conteúdo JSON\n",
    "data = JSON.parse(String(response.body))\n",
    "data_2 = JSON.parse(String(response_2.body))\n",
    "\n",
    "datas = [data, data_2]\n",
    "\n",
    "# Exibir informações sobre o Pikachu\n",
    "for x in datas\n",
    "    println(\"Nome: \", x[\"name\"])\n",
    "    println(\"Altura: \", x[\"height\"])\n",
    "    println(\"Peso: \", x[\"weight\"])\n",
    "    println(\"Habilidades: \", [h[\"ability\"][\"name\"] for h in x[\"abilities\"]])\n",
    "\n",
    "    for h in x[\"stats\"]\n",
    "        println(\"Status: \", h[\"stat\"][\"name\"], \" -> Valor Base: \", h[\"base_stat\"])\n",
    "    end\n",
    "    \n",
    "    \n",
    "end\n"
   ]
  },
  {
   "cell_type": "markdown",
   "metadata": {},
   "source": [
    "## Capturando da PokeAPI os status de todos os pokemons da 1° Geração em uma matriz\n",
    "***\n",
    "No universo de Pokémon em que estamos trabalhando, todos Pokémons possuem 6 status base, os quais estaremos interpretando como vetores.\n",
    "\n",
    "Aqui criaremos nossas matrizes principais. Os nomes dos 151 Pokemóns originais serão armazenados no vetor ***NAMES_VECTOR***, ordenado pelo número do Pokedéx, e o vetor de status de cada um deles será uma coluna da matriz ***STATS_MATRIX***, também ordenada pelo número do Pokedéx.\n",
    "Assim, garantimos que acessar a posição $i$ do vetor de nomes nos retornará o nome do Pokémon cujo vetor de status é a coluna da posição $i$ da matriz de status.\n",
    "\n",
    "\n",
    "Notamos que é possível acessar os dados dos pokémons pela API utilizando o código do Pokédex. Como esse código é um número de 1-3 dígitos inteiro que começa em 1 e vai até 151, a consulta se torna iterável."
   ]
  },
  {
   "cell_type": "code",
   "execution_count": 2,
   "metadata": {},
   "outputs": [
    {
     "data": {
      "text/plain": [
       "151-element Vector{String}:\n",
       " \"bulbasaur\"\n",
       " \"ivysaur\"\n",
       " \"venusaur\"\n",
       " \"charmander\"\n",
       " \"charmeleon\"\n",
       " \"charizard\"\n",
       " \"squirtle\"\n",
       " \"wartortle\"\n",
       " \"blastoise\"\n",
       " \"caterpie\"\n",
       " ⋮\n",
       " \"snorlax\"\n",
       " \"articuno\"\n",
       " \"zapdos\"\n",
       " \"moltres\"\n",
       " \"dratini\"\n",
       " \"dragonair\"\n",
       " \"dragonite\"\n",
       " \"mewtwo\"\n",
       " \"mew\""
      ]
     },
     "metadata": {},
     "output_type": "display_data"
    }
   ],
   "source": [
    "using HTTP, JSON\n",
    "\n",
    "#Função para obter informações de um Pokémon por ID\n",
    "function get_pokemon_data(id::Int)\n",
    "    url = \"https://pokeapi.co/api/v2/pokemon/$id\"\n",
    "    response = HTTP.get(url)\n",
    "    data = JSON.parse(String(response.body))\n",
    "    return data\n",
    "end\n",
    "\n",
    "function create_pokemon_stats_matrix(qt_pkmn::Int)\n",
    "    matriz_stats = zeros(6, 0)  #Matriz com 6 linhas e 0 colunas\n",
    "    vetor_nomes = String[] #Matriz com os nomes dos Pokémons\n",
    "    \n",
    "    \n",
    "    for id in 1:qt_pkmn\n",
    "        data = get_pokemon_data(id)\n",
    "        nova_coluna = Int[]\n",
    "        for h in data[\"stats\"]\n",
    "            push!(nova_coluna, h[\"base_stat\"]) \n",
    "        end\n",
    "\n",
    "        push!(vetor_nomes, data[\"name\"]) \n",
    "        \n",
    "        matriz_stats = hcat(matriz_stats, nova_coluna)\n",
    "    end\n",
    "\n",
    "    return matriz_stats , vetor_nomes\n",
    "end\n",
    "\n",
    "MOTHER_MATRIX = create_pokemon_stats_matrix(151)\n",
    "STATS_MATRIX = MOTHER_MATRIX[1]\n",
    "NAMES_VECTOR = MOTHER_MATRIX[2]\n",
    "\n"
   ]
  },
  {
   "cell_type": "markdown",
   "metadata": {},
   "source": [
    "## Definindos Funções de Algebra Linear\n",
    "***\n",
    " Estamos utilizando aqui os conceitos que aprendemos em Algebra Linear Algorítmica para trabalhar com vetores e entender o quão próximos dois vetores estão sob duas métricas - _Distância Angular_ e _Distância Euclidiana_. \n",
    " \n",
    "\n",
    "\n",
    "\n",
    "   **Calculando a Distância Angular**\n",
    "  \n",
    "    A distância angular entre dois vetores u e v é dada pela divisão do produto interno entre eles pelo produto da norma deles. Ou seja: \n",
    "\n",
    "   $ D = cos(\\theta) = \\frac{u \\cdot v}{∥u∥\\cdot∥v∥} $ \n",
    "\n",
    "   **Calculando a Distância Euclidiana**\n",
    "  \n",
    "    A distância euclidiana entre dois vetores u e v é dada pela norma de u-v. Ou seja: \n",
    "\n",
    "   $ D = \\sqrt[]{u-v} $ "
   ]
  },
  {
   "cell_type": "code",
   "execution_count": 3,
   "metadata": {},
   "outputs": [
    {
     "name": "stdout",
     "output_type": "stream",
     "text": [
      "[0, 1, 0]\n",
      "[0 1 0]\n",
      "1.4142135623730951\n",
      "0.0\n",
      "90.0\n"
     ]
    }
   ],
   "source": [
    "using LinearAlgebra\n",
    "\n",
    "function cos_calc(v1, v2)\n",
    "\n",
    "  return (dot(v1,v2)/(norm(v1)*norm(v2)))\n",
    "\n",
    "end\n",
    "\n",
    "function euclidian_dist(v1, v2)\n",
    "  # ||v1-v2||\n",
    "\n",
    "  return norm(v1-v2)\n",
    "end\n",
    "\n",
    "function calc_angle(v1, v2)\n",
    "  return (((180)/pi)*(acos(cos_calc(v1, v2))))\n",
    "\n",
    "end\n",
    "\n",
    "v1 = [1,0,0]\n",
    "v2 = [0,1,0] #Note que v2 é ortogonal em v1, e são correspondentes ao eixo X e Y em ℝ³\n",
    "\n",
    "v3 = transpose(v2)\n",
    "\n",
    "println(v2)\n",
    "println(v3)\n",
    "\n",
    "println(euclidian_dist(v1, v2)) #Esperado é raiz quadrada de dois \n",
    "println(cos_calc(v1, v2)) #Esperado é 0\n",
    "println(calc_angle(v1, v2)) #Esperado é 90 graus\n"
   ]
  },
  {
   "cell_type": "markdown",
   "metadata": {},
   "source": [
    "## Tratando da análise e manipulação dos dados extraídos\n",
    "***\n",
    "Agora, vamos implementar as funções do nosso código que relacionarão a Algebra Linear com os Pokémon. \n",
    "Essa parte do projeto implementa funções para:\n",
    " \n",
    "- Obter vetores de status pelo número do Pokédex\n",
    "- Obter vetores de status pelo número do Pokédex\n",
    "- Buscar pokemóns pelo número do Pokédex\n",
    "- Buscar pokemóns pelo número do Pokédex,\n",
    "- Obter o número do Pokédex pelo nome do Pokémon\n",
    "- Calcular a proximidade de dado Pokemón entre os outros\n",
    "- Organizar o vetor onde as proximidades foram armazenadas,\n",
    "- Encontrar os Pokémons extremos.\n",
    "\n",
    "Todas essas funções são auxiliares para que possamos alcançar o objetivo do projeto, que é recomendar os 5 Pokémons mais próximos ao Pokémon indicado pelo usuário. \n",
    "\n",
    "**EXPLICANDO O CÁLCULO DO ÍNDICE DE AFINIDADE POKÉMON (IAP)**\n",
    "\n",
    "Para o cálculo do **IAP** nós multiplicamos a distância angular e distância euclidiana. Obtemos, assim, um valor que dirá o quão próximo os status de um pokémon  está de outro, tanto pela distribuição dos status, quanto pela magnitude dos valores dos status. Isso evita tanto que o programa indique Pokémons muito fracos mas com uma distribuição similar de status, ou Pokémons próximos em força mas que tenham perfis de status completamente diferentes."
   ]
  },
  {
   "cell_type": "code",
   "execution_count": 4,
   "metadata": {},
   "outputs": [
    {
     "data": {
      "text/plain": [
       "find_5_pokemon_alike (generic function with 1 method)"
      ]
     },
     "metadata": {},
     "output_type": "display_data"
    }
   ],
   "source": [
    "function find_pokemon_stats_by_dex_num(pokemon_ID:: Int)\n",
    "    pokemon_stats = STATS_MATRIX[:, pokemon_ID] #Obtém o vetor na posição pokemon_ID\n",
    "    return pokemon_stats\n",
    "end\n",
    "\n",
    "function find_pokemon_name_by_dex_num(pokemon_ID:: Int)\n",
    "    pokemon_name = NAMES_VECTOR[pokemon_ID, :] #Obtém o nome do Pokémon com o pokemon_ID\n",
    "    return pokemon_name\n",
    "end\n",
    "\n",
    "function find_dex_num_by_name(name:: String)\n",
    "   return findfirst(==(name), NAMES_VECTOR) #Retorna o a posicao do nome no Vetor dos nomes que é o mesmo número na Pokedex\n",
    "end\n",
    "\n",
    "function build_pokemon_distances_vector(pokemon_ID:: Int)\n",
    "    #Mede a distancia entre esse Pokémon com todos os outros, usa a matriz de status dos pokemons\n",
    "    distances_vector = Float64[] #Matriz das distancias com 1 linha e 0 colunas\n",
    "    stats_vector = find_pokemon_stats_by_dex_num(pokemon_ID)\n",
    "    \n",
    "    for i in 1:151\n",
    "        if(i == pokemon_ID) continue\n",
    "        end\n",
    "            v = STATS_MATRIX[:,i] #Extrair vetor Pokémon da matriz de status dos pokemons\n",
    "            push!(distances_vector, (cos_calc(stats_vector, v)*euclidian_dist(stats_vector, v))) #Inserir distancia na matriz de distancias\n",
    "        \n",
    "    end\n",
    "    return distances_vector\n",
    "end \n",
    "\n",
    "function delete_name_from_vector(pokemon_ID:: Int, names_vector)\n",
    "    deleteat!(names_vector, pokemon_ID) #Remove o nome do Pokémon do vetor de nomes\n",
    "end\n",
    "\n",
    "function sort_distances(distances_vector,names_vector) #Organiza o vetor de distâncias por BubbleSort\n",
    "    troca = true\n",
    "    \n",
    "    while troca\n",
    "        troca = false\n",
    "        for i in 1:149\n",
    "            if distances_vector[i] > distances_vector[i+1]\n",
    "                # Troca os elementos no vetor de distâncias\n",
    "                distances_vector[i], distances_vector[i+1] = distances_vector[i+1], distances_vector[i]\n",
    "                # Troca os elementos no vetor de nomes\n",
    "                names_vector[i], names_vector[i+1] = names_vector[i+1], names_vector[i]\n",
    "                troca = true\n",
    "            end\n",
    "        end\n",
    "    end\n",
    "    return distances_vector[1:5], names_vector[1:5]\n",
    "end\n",
    "\n",
    "function acha_mais_distante() #Encontra o Pokémon com maior média de distância para os 5 mais próximos, o Pokémon mais \"excêntrico\"\n",
    "    media = 0\n",
    "    maior_media = 0\n",
    "    pokemon_dist = nothing\n",
    "    for pokemon in NAMES_VECTOR\n",
    "        media = sum(find_5_pokemon_alike(pokemon)[1])/5\n",
    "        if(media > maior_media)\n",
    "            maior_media = media\n",
    "            pokemon_dist = pokemon \n",
    "        end\n",
    "    end\n",
    "\n",
    "    return pokemon_dist\n",
    "end \n",
    "\n",
    "function acha_mais_próximo() #Encontra o Pokémon com menor média de distância para os 5 mais próximos, o Pokémon mais \"genérico\"\n",
    "    media = 0\n",
    "    maior_media = 10000\n",
    "    pokemon_dist = nothing\n",
    "    for pokemon in NAMES_VECTOR\n",
    "        media = sum(find_5_pokemon_alike(pokemon)[1])/5\n",
    "        if(media < maior_media)\n",
    "            maior_media = media\n",
    "            pokemon_dist = pokemon \n",
    "        end\n",
    "    end\n",
    "\n",
    "    return pokemon_dist\n",
    "end \n",
    "\n",
    "function find_5_pokemon_alike(name:: String)\n",
    "    this_dex_num = find_dex_num_by_name(name)\n",
    "\n",
    "    aux_names_vector = copy(NAMES_VECTOR)\n",
    "    delete_name_from_vector(this_dex_num, aux_names_vector)\n",
    "\n",
    "    this_distances_vector = build_pokemon_distances_vector(this_dex_num)\n",
    "    sort_distances(this_distances_vector, aux_names_vector)\n",
    "    return this_distances_vector[1:5], aux_names_vector[1:5], name\n",
    "end"
   ]
  },
  {
   "cell_type": "code",
   "execution_count": 6,
   "metadata": {},
   "outputs": [
    {
     "name": "stdout",
     "output_type": "stream",
     "text": [
      "Entrada 1: scyther\n",
      "Os 5 mais próximos deste pokemon são: [\"dodrio\", \"primeape\", \"tauros\", \"rapidash\", \"aerodactyl\"]\n",
      "Com respectivo score de:[25.325408527316416, 25.874726914612243, 26.24550369807204, 28.870809777672637, 31.686552318730808]\n",
      "\n",
      "Entrada 2: rapidash\n",
      "Entrada 3: venusaur\n",
      "\n",
      "chansey é o pokémon mais excêntrico com IAPs mais próximos sendo: [90.67999253817123, 97.60210349561514, 98.55292622391164, 99.36489657519904, 104.11589457686831]\n",
      "e\n",
      "ditto é o pokémon mais genérico com IAPs mais próximos sendo: [15.457282052582125, 16.60112748800147, 17.70658757436876, 17.87641098752202, 18.920534723362]\n"
     ]
    }
   ],
   "source": [
    "#Calculando o Índice de Afinidade Pokémon (IAP) \n",
    "\n",
    "teste1 = find_5_pokemon_alike(\"scyther\")\n",
    "teste2 = find_5_pokemon_alike(\"rapidash\")\n",
    "teste3 = find_5_pokemon_alike(\"venusaur\")\n",
    "most_excentric = acha_mais_distante()\n",
    "most_generic = acha_mais_próximo()\n",
    "\n",
    "most_excentric_dist = find_5_pokemon_alike(most_excentric)\n",
    "most_generic_dist = find_5_pokemon_alike(most_generic)\n",
    "println(\"Entrada 1: \", teste1[3])\n",
    "print(\"Os 5 mais próximos deste pokemon são: \") \n",
    "println(teste1[2])\n",
    "print(\"Com respectivo score de:\")\n",
    "println(teste1[1])\n",
    "println(\"\\nEntrada 2: \", teste2[3])\n",
    "println(\"Entrada 3: \", teste3[3], \"\\n\")\n",
    "println(most_excentric_dist[3], \" é o pokémon mais excêntrico com IAPs mais próximos sendo: \", most_excentric_dist[1], \"\\ne\\n\", most_generic_dist[3], \" é o pokémon mais genérico com IAPs mais próximos sendo: \", most_generic_dist[1])"
   ]
  },
  {
   "cell_type": "markdown",
   "metadata": {},
   "source": [
    "## Exibindo os resultados em um gráfico\n",
    "***\n",
    "Com os resultados calculados, vamos interpretar em um mapa de calor a distância dos Pokémons sugeridos para o Pokémon selecionado. Os gráficos foram gerados utilizando a biblioteca PlotlyJS. "
   ]
  },
  {
   "cell_type": "code",
   "execution_count": 7,
   "metadata": {},
   "outputs": [
    {
     "data": {
      "text/plain": [
       "plot_graphic (generic function with 1 method)"
      ]
     },
     "metadata": {},
     "output_type": "display_data"
    }
   ],
   "source": [
    "function plot_graphic(distances_vector, names_vector, pokemon_name)\n",
    "    \n",
    "    images = [\n",
    "        Dict(\"source\" => \"https://raw.githubusercontent.com/PokeAPI/sprites/master/sprites/pokemon/$(find_dex_num_by_name(names_vector[1])).png\",\n",
    "                \"xref\" => \"x\", \"yref\" => \"y\", \"x\" => 0, \"y\" => 0, \"sizex\" => 1.35, \"sizey\" => 1.35, \"xanchor\" => \"center\", \"yanchor\" => \"middle\"),\n",
    "        Dict(\"source\" => \"https://raw.githubusercontent.com/PokeAPI/sprites/master/sprites/pokemon/$(find_dex_num_by_name(names_vector[2])).png\",\n",
    "                \"xref\" => \"x\", \"yref\" => \"y\", \"x\" => 1, \"y\" => 0, \"sizex\" => 1.35, \"sizey\" => 1.35, \"xanchor\" => \"center\", \"yanchor\" => \"middle\"),\n",
    "        Dict(\"source\" => \"https://raw.githubusercontent.com/PokeAPI/sprites/master/sprites/pokemon/$(find_dex_num_by_name(names_vector[3])).png\",\n",
    "                \"xref\" => \"x\", \"yref\" => \"y\", \"x\" => 2, \"y\" => 0, \"sizex\" => 1.35, \"sizey\" => 1.35, \"xanchor\" => \"center\", \"yanchor\" => \"middle\"),\n",
    "        Dict(\"source\" => \"https://raw.githubusercontent.com/PokeAPI/sprites/master/sprites/pokemon/$(find_dex_num_by_name(names_vector[4])).png\",\n",
    "                \"xref\" => \"x\", \"yref\" => \"y\", \"x\" => 3, \"y\" => 0, \"sizex\" => 1.35, \"sizey\" => 1.35, \"xanchor\" => \"center\", \"yanchor\" => \"middle\"),\n",
    "        Dict(\"source\" => \"https://raw.githubusercontent.com/PokeAPI/sprites/master/sprites/pokemon/$(find_dex_num_by_name(names_vector[5])).png\",\n",
    "                \"xref\" => \"x\", \"yref\" => \"y\", \"x\" => 4, \"y\" => 0, \"sizex\" => 1.35, \"sizey\" => 1.35, \"xanchor\" => \"center\", \"yanchor\" => \"middle\")\n",
    "    ]\n",
    "\n",
    "\n",
    "    annotations = []\n",
    "        for (i, value) in enumerate(distances_vector)\n",
    "        push!(annotations, Dict(\n",
    "            \"x\" => i - 1, \n",
    "            \"y\" => 0.35,  \n",
    "            \"xref\" => \"x\",\n",
    "            \"yref\" => \"y\",\n",
    "            \"text\" => string(round(value, digits = 4)),\n",
    "            \"showarrow\" => false,\n",
    "            \"yshift\" => 20,  \n",
    "            \"font\" => Dict(\"color\" => \"black\", \"size\" => 14)\n",
    "            ))\n",
    "        end\n",
    "\n",
    "    PlotlyJS.plot(\n",
    "        PlotlyJS.heatmap(\n",
    "            x=[\"1º $(names_vector[1])\", \"2º $(names_vector[2])\", \"3º $(names_vector[3])\", \"4º $(names_vector[4])\", \"5º $(names_vector[5])\"],\n",
    "            y=[\"\"],\n",
    "            z=transpose(distances_vector),\n",
    "            zmin=0,\n",
    "            zmax=100,\n",
    "            colorscale=\"Jet\",\n",
    "            showscale=true\n",
    "        ),\n",
    "\n",
    "            \n",
    "        PlotlyJS.Layout(\n",
    "            images=images,\n",
    "            annotations=annotations,\n",
    "            font=attr(family=\"Arial Black\", size=14, color=\"black\"),\n",
    "            title=\"Top 5 pokemons com IAP mais próximos de: \" * pokemon_name,\n",
    "            xaxis=attr(side=\"top\", fixedrange=true),\n",
    "            yaxis=attr(visible=false, fixedrange=true),\n",
    "            paper_bgcolor=\"#EBDBAB\",\n",
    "            width=1000,\n",
    "            height=300,\n",
    "            margin=attr(t=50, l=50, r=50, b=30),\n",
    "            autosize=true,\n",
    "            automargin=true,\n",
    "            coloraxis_colorbar=attr(title=\"IAP\", tickvals=[0, 50, 100], ticktext=[\"Baixo\", \"Médio\", \"Alto\"]),\n",
    "        )\n",
    ")\n",
    "end"
   ]
  },
  {
   "cell_type": "code",
   "execution_count": 344,
   "metadata": {},
   "outputs": [
    {
     "data": {
      "application/vnd.plotly.v1+json": {
       "config": {
        "editable": false,
        "responsive": true,
        "scrollZoom": true,
        "showLink": false,
        "staticPlot": false
       },
       "data": [
        {
         "colorscale": "Jet",
         "showscale": true,
         "transpose": true,
         "type": "heatmap",
         "x": [
          "1º dodrio",
          "2º primeape",
          "3º tauros",
          "4º rapidash",
          "5º aerodactyl"
         ],
         "y": [
          ""
         ],
         "z": [
          [
           25.325408527316416
          ],
          [
           25.874726914612243
          ],
          [
           26.24550369807204
          ],
          [
           28.870809777672637
          ],
          [
           31.686552318730808
          ]
         ],
         "zmax": 100,
         "zmin": 0
        }
       ],
       "frames": [],
       "layout": {
        "annotations": [
         {
          "font": {
           "color": "black",
           "size": 14
          },
          "showarrow": false,
          "text": "25.3254",
          "x": 0,
          "xref": "x",
          "y": 0.35,
          "yref": "y",
          "yshift": 20
         },
         {
          "font": {
           "color": "black",
           "size": 14
          },
          "showarrow": false,
          "text": "25.8747",
          "x": 1,
          "xref": "x",
          "y": 0.35,
          "yref": "y",
          "yshift": 20
         },
         {
          "font": {
           "color": "black",
           "size": 14
          },
          "showarrow": false,
          "text": "26.2455",
          "x": 2,
          "xref": "x",
          "y": 0.35,
          "yref": "y",
          "yshift": 20
         },
         {
          "font": {
           "color": "black",
           "size": 14
          },
          "showarrow": false,
          "text": "28.8708",
          "x": 3,
          "xref": "x",
          "y": 0.35,
          "yref": "y",
          "yshift": 20
         },
         {
          "font": {
           "color": "black",
           "size": 14
          },
          "showarrow": false,
          "text": "31.6866",
          "x": 4,
          "xref": "x",
          "y": 0.35,
          "yref": "y",
          "yshift": 20
         }
        ],
        "automargin": true,
        "autosize": true,
        "coloraxis": {
         "colorbar": {
          "ticktext": [
           "Baixo",
           "Médio",
           "Alto"
          ],
          "tickvals": [
           0,
           50,
           100
          ],
          "title": "IAP"
         }
        },
        "font": {
         "color": "black",
         "family": "Arial Black",
         "size": 14
        },
        "height": 300,
        "images": [
         {
          "sizex": 1.35,
          "sizey": 1.35,
          "source": "https://raw.githubusercontent.com/PokeAPI/sprites/master/sprites/pokemon/85.png",
          "x": 0,
          "xanchor": "center",
          "xref": "x",
          "y": 0,
          "yanchor": "middle",
          "yref": "y"
         },
         {
          "sizex": 1.35,
          "sizey": 1.35,
          "source": "https://raw.githubusercontent.com/PokeAPI/sprites/master/sprites/pokemon/57.png",
          "x": 1,
          "xanchor": "center",
          "xref": "x",
          "y": 0,
          "yanchor": "middle",
          "yref": "y"
         },
         {
          "sizex": 1.35,
          "sizey": 1.35,
          "source": "https://raw.githubusercontent.com/PokeAPI/sprites/master/sprites/pokemon/128.png",
          "x": 2,
          "xanchor": "center",
          "xref": "x",
          "y": 0,
          "yanchor": "middle",
          "yref": "y"
         },
         {
          "sizex": 1.35,
          "sizey": 1.35,
          "source": "https://raw.githubusercontent.com/PokeAPI/sprites/master/sprites/pokemon/78.png",
          "x": 3,
          "xanchor": "center",
          "xref": "x",
          "y": 0,
          "yanchor": "middle",
          "yref": "y"
         },
         {
          "sizex": 1.35,
          "sizey": 1.35,
          "source": "https://raw.githubusercontent.com/PokeAPI/sprites/master/sprites/pokemon/142.png",
          "x": 4,
          "xanchor": "center",
          "xref": "x",
          "y": 0,
          "yanchor": "middle",
          "yref": "y"
         }
        ],
        "margin": {
         "b": 30,
         "l": 50,
         "r": 50,
         "t": 50
        },
        "paper_bgcolor": "#EBDBAB",
        "template": {
         "data": {
          "bar": [
           {
            "error_x": {
             "color": "#2a3f5f"
            },
            "error_y": {
             "color": "#2a3f5f"
            },
            "marker": {
             "line": {
              "color": "#E5ECF6",
              "width": 0.5
             }
            },
            "type": "bar"
           }
          ],
          "barpolar": [
           {
            "marker": {
             "line": {
              "color": "#E5ECF6",
              "width": 0.5
             }
            },
            "type": "barpolar"
           }
          ],
          "carpet": [
           {
            "aaxis": {
             "endlinecolor": "#2a3f5f",
             "gridcolor": "white",
             "linecolor": "white",
             "minorgridcolor": "white",
             "startlinecolor": "#2a3f5f"
            },
            "baxis": {
             "endlinecolor": "#2a3f5f",
             "gridcolor": "white",
             "linecolor": "white",
             "minorgridcolor": "white",
             "startlinecolor": "#2a3f5f"
            },
            "type": "carpet"
           }
          ],
          "choropleth": [
           {
            "colorbar": {
             "outlinewidth": 0,
             "ticks": ""
            },
            "type": "choropleth"
           }
          ],
          "contour": [
           {
            "colorbar": {
             "outlinewidth": 0,
             "ticks": ""
            },
            "colorscale": [
             [
              0,
              "#0d0887"
             ],
             [
              0.1111111111111111,
              "#46039f"
             ],
             [
              0.2222222222222222,
              "#7201a8"
             ],
             [
              0.3333333333333333,
              "#9c179e"
             ],
             [
              0.4444444444444444,
              "#bd3786"
             ],
             [
              0.5555555555555556,
              "#d8576b"
             ],
             [
              0.6666666666666666,
              "#ed7953"
             ],
             [
              0.7777777777777778,
              "#fb9f3a"
             ],
             [
              0.8888888888888888,
              "#fdca26"
             ],
             [
              1,
              "#f0f921"
             ]
            ],
            "type": "contour"
           }
          ],
          "contourcarpet": [
           {
            "colorbar": {
             "outlinewidth": 0,
             "ticks": ""
            },
            "type": "contourcarpet"
           }
          ],
          "heatmap": [
           {
            "colorbar": {
             "outlinewidth": 0,
             "ticks": ""
            },
            "colorscale": [
             [
              0,
              "#0d0887"
             ],
             [
              0.1111111111111111,
              "#46039f"
             ],
             [
              0.2222222222222222,
              "#7201a8"
             ],
             [
              0.3333333333333333,
              "#9c179e"
             ],
             [
              0.4444444444444444,
              "#bd3786"
             ],
             [
              0.5555555555555556,
              "#d8576b"
             ],
             [
              0.6666666666666666,
              "#ed7953"
             ],
             [
              0.7777777777777778,
              "#fb9f3a"
             ],
             [
              0.8888888888888888,
              "#fdca26"
             ],
             [
              1,
              "#f0f921"
             ]
            ],
            "type": "heatmap"
           }
          ],
          "heatmapgl": [
           {
            "colorbar": {
             "outlinewidth": 0,
             "ticks": ""
            },
            "colorscale": [
             [
              0,
              "#0d0887"
             ],
             [
              0.1111111111111111,
              "#46039f"
             ],
             [
              0.2222222222222222,
              "#7201a8"
             ],
             [
              0.3333333333333333,
              "#9c179e"
             ],
             [
              0.4444444444444444,
              "#bd3786"
             ],
             [
              0.5555555555555556,
              "#d8576b"
             ],
             [
              0.6666666666666666,
              "#ed7953"
             ],
             [
              0.7777777777777778,
              "#fb9f3a"
             ],
             [
              0.8888888888888888,
              "#fdca26"
             ],
             [
              1,
              "#f0f921"
             ]
            ],
            "type": "heatmapgl"
           }
          ],
          "histogram": [
           {
            "marker": {
             "colorbar": {
              "outlinewidth": 0,
              "ticks": ""
             }
            },
            "type": "histogram"
           }
          ],
          "histogram2d": [
           {
            "colorbar": {
             "outlinewidth": 0,
             "ticks": ""
            },
            "colorscale": [
             [
              0,
              "#0d0887"
             ],
             [
              0.1111111111111111,
              "#46039f"
             ],
             [
              0.2222222222222222,
              "#7201a8"
             ],
             [
              0.3333333333333333,
              "#9c179e"
             ],
             [
              0.4444444444444444,
              "#bd3786"
             ],
             [
              0.5555555555555556,
              "#d8576b"
             ],
             [
              0.6666666666666666,
              "#ed7953"
             ],
             [
              0.7777777777777778,
              "#fb9f3a"
             ],
             [
              0.8888888888888888,
              "#fdca26"
             ],
             [
              1,
              "#f0f921"
             ]
            ],
            "type": "histogram2d"
           }
          ],
          "histogram2dcontour": [
           {
            "colorbar": {
             "outlinewidth": 0,
             "ticks": ""
            },
            "colorscale": [
             [
              0,
              "#0d0887"
             ],
             [
              0.1111111111111111,
              "#46039f"
             ],
             [
              0.2222222222222222,
              "#7201a8"
             ],
             [
              0.3333333333333333,
              "#9c179e"
             ],
             [
              0.4444444444444444,
              "#bd3786"
             ],
             [
              0.5555555555555556,
              "#d8576b"
             ],
             [
              0.6666666666666666,
              "#ed7953"
             ],
             [
              0.7777777777777778,
              "#fb9f3a"
             ],
             [
              0.8888888888888888,
              "#fdca26"
             ],
             [
              1,
              "#f0f921"
             ]
            ],
            "type": "histogram2dcontour"
           }
          ],
          "mesh3d": [
           {
            "colorbar": {
             "outlinewidth": 0,
             "ticks": ""
            },
            "type": "mesh3d"
           }
          ],
          "parcoords": [
           {
            "line": {
             "colorbar": {
              "outlinewidth": 0,
              "ticks": ""
             }
            },
            "type": "parcoords"
           }
          ],
          "pie": [
           {
            "automargin": true,
            "type": "pie"
           }
          ],
          "scatter": [
           {
            "marker": {
             "colorbar": {
              "outlinewidth": 0,
              "ticks": ""
             }
            },
            "type": "scatter"
           }
          ],
          "scatter3d": [
           {
            "line": {
             "colorbar": {
              "outlinewidth": 0,
              "ticks": ""
             }
            },
            "marker": {
             "colorbar": {
              "outlinewidth": 0,
              "ticks": ""
             }
            },
            "type": "scatter3d"
           }
          ],
          "scattercarpet": [
           {
            "marker": {
             "colorbar": {
              "outlinewidth": 0,
              "ticks": ""
             }
            },
            "type": "scattercarpet"
           }
          ],
          "scattergeo": [
           {
            "marker": {
             "colorbar": {
              "outlinewidth": 0,
              "ticks": ""
             }
            },
            "type": "scattergeo"
           }
          ],
          "scattergl": [
           {
            "marker": {
             "colorbar": {
              "outlinewidth": 0,
              "ticks": ""
             }
            },
            "type": "scattergl"
           }
          ],
          "scattermapbox": [
           {
            "marker": {
             "colorbar": {
              "outlinewidth": 0,
              "ticks": ""
             }
            },
            "type": "scattermapbox"
           }
          ],
          "scatterpolar": [
           {
            "marker": {
             "colorbar": {
              "outlinewidth": 0,
              "ticks": ""
             }
            },
            "type": "scatterpolar"
           }
          ],
          "scatterpolargl": [
           {
            "marker": {
             "colorbar": {
              "outlinewidth": 0,
              "ticks": ""
             }
            },
            "type": "scatterpolargl"
           }
          ],
          "scatterternary": [
           {
            "marker": {
             "colorbar": {
              "outlinewidth": 0,
              "ticks": ""
             }
            },
            "type": "scatterternary"
           }
          ],
          "surface": [
           {
            "colorbar": {
             "outlinewidth": 0,
             "ticks": ""
            },
            "colorscale": [
             [
              0,
              "#0d0887"
             ],
             [
              0.1111111111111111,
              "#46039f"
             ],
             [
              0.2222222222222222,
              "#7201a8"
             ],
             [
              0.3333333333333333,
              "#9c179e"
             ],
             [
              0.4444444444444444,
              "#bd3786"
             ],
             [
              0.5555555555555556,
              "#d8576b"
             ],
             [
              0.6666666666666666,
              "#ed7953"
             ],
             [
              0.7777777777777778,
              "#fb9f3a"
             ],
             [
              0.8888888888888888,
              "#fdca26"
             ],
             [
              1,
              "#f0f921"
             ]
            ],
            "type": "surface"
           }
          ],
          "table": [
           {
            "cells": {
             "fill": {
              "color": "#EBF0F8"
             },
             "line": {
              "color": "white"
             }
            },
            "header": {
             "fill": {
              "color": "#C8D4E3"
             },
             "line": {
              "color": "white"
             }
            },
            "type": "table"
           }
          ]
         },
         "layout": {
          "annotationdefaults": {
           "arrowcolor": "#2a3f5f",
           "arrowhead": 0,
           "arrowwidth": 1
          },
          "autotypenumbers": "strict",
          "coloraxis": {
           "colorbar": {
            "outlinewidth": 0,
            "ticks": ""
           }
          },
          "colorscale": {
           "diverging": [
            [
             0,
             "#8e0152"
            ],
            [
             0.1,
             "#c51b7d"
            ],
            [
             0.2,
             "#de77ae"
            ],
            [
             0.3,
             "#f1b6da"
            ],
            [
             0.4,
             "#fde0ef"
            ],
            [
             0.5,
             "#f7f7f7"
            ],
            [
             0.6,
             "#e6f5d0"
            ],
            [
             0.7,
             "#b8e186"
            ],
            [
             0.8,
             "#7fbc41"
            ],
            [
             0.9,
             "#4d9221"
            ],
            [
             1,
             "#276419"
            ]
           ],
           "sequential": [
            [
             0,
             "#0d0887"
            ],
            [
             0.1111111111111111,
             "#46039f"
            ],
            [
             0.2222222222222222,
             "#7201a8"
            ],
            [
             0.3333333333333333,
             "#9c179e"
            ],
            [
             0.4444444444444444,
             "#bd3786"
            ],
            [
             0.5555555555555556,
             "#d8576b"
            ],
            [
             0.6666666666666666,
             "#ed7953"
            ],
            [
             0.7777777777777778,
             "#fb9f3a"
            ],
            [
             0.8888888888888888,
             "#fdca26"
            ],
            [
             1,
             "#f0f921"
            ]
           ],
           "sequentialminus": [
            [
             0,
             "#0d0887"
            ],
            [
             0.1111111111111111,
             "#46039f"
            ],
            [
             0.2222222222222222,
             "#7201a8"
            ],
            [
             0.3333333333333333,
             "#9c179e"
            ],
            [
             0.4444444444444444,
             "#bd3786"
            ],
            [
             0.5555555555555556,
             "#d8576b"
            ],
            [
             0.6666666666666666,
             "#ed7953"
            ],
            [
             0.7777777777777778,
             "#fb9f3a"
            ],
            [
             0.8888888888888888,
             "#fdca26"
            ],
            [
             1,
             "#f0f921"
            ]
           ]
          },
          "colorway": [
           "#636efa",
           "#EF553B",
           "#00cc96",
           "#ab63fa",
           "#FFA15A",
           "#19d3f3",
           "#FF6692",
           "#B6E880",
           "#FF97FF",
           "#FECB52"
          ],
          "font": {
           "color": "#2a3f5f"
          },
          "geo": {
           "bgcolor": "white",
           "lakecolor": "white",
           "landcolor": "#E5ECF6",
           "showlakes": true,
           "showland": true,
           "subunitcolor": "white"
          },
          "hoverlabel": {
           "align": "left"
          },
          "hovermode": "closest",
          "mapbox": {
           "style": "light"
          },
          "paper_bgcolor": "white",
          "plot_bgcolor": "#E5ECF6",
          "polar": {
           "angularaxis": {
            "gridcolor": "white",
            "linecolor": "white",
            "ticks": ""
           },
           "bgcolor": "#E5ECF6",
           "radialaxis": {
            "gridcolor": "white",
            "linecolor": "white",
            "ticks": ""
           }
          },
          "scene": {
           "xaxis": {
            "backgroundcolor": "#E5ECF6",
            "gridcolor": "white",
            "gridwidth": 2,
            "linecolor": "white",
            "showbackground": true,
            "ticks": "",
            "zerolinecolor": "white"
           },
           "yaxis": {
            "backgroundcolor": "#E5ECF6",
            "gridcolor": "white",
            "gridwidth": 2,
            "linecolor": "white",
            "showbackground": true,
            "ticks": "",
            "zerolinecolor": "white"
           },
           "zaxis": {
            "backgroundcolor": "#E5ECF6",
            "gridcolor": "white",
            "gridwidth": 2,
            "linecolor": "white",
            "showbackground": true,
            "ticks": "",
            "zerolinecolor": "white"
           }
          },
          "shapedefaults": {
           "line": {
            "color": "#2a3f5f"
           }
          },
          "ternary": {
           "aaxis": {
            "gridcolor": "white",
            "linecolor": "white",
            "ticks": ""
           },
           "baxis": {
            "gridcolor": "white",
            "linecolor": "white",
            "ticks": ""
           },
           "bgcolor": "#E5ECF6",
           "caxis": {
            "gridcolor": "white",
            "linecolor": "white",
            "ticks": ""
           }
          },
          "title": {
           "x": 0.05
          },
          "xaxis": {
           "automargin": true,
           "gridcolor": "white",
           "linecolor": "white",
           "ticks": "",
           "title": {
            "standoff": 15
           },
           "zerolinecolor": "white",
           "zerolinewidth": 2
          },
          "yaxis": {
           "automargin": true,
           "gridcolor": "white",
           "linecolor": "white",
           "ticks": "",
           "title": {
            "standoff": 15
           },
           "zerolinecolor": "white",
           "zerolinewidth": 2
          }
         }
        },
        "title": "Top 5 pokemons com IAP mais próximos de: scyther",
        "width": 985,
        "xaxis": {
         "fixedrange": true,
         "side": "top"
        },
        "yaxis": {
         "fixedrange": true,
         "visible": false
        }
       }
      },
      "image/png": "[encoded data removed]",
      "image/svg+xml": [
       "<svg class=\"main-svg\" xmlns=\"http://www.w3.org/2000/svg\" xmlns:xlink=\"http://www.w3.org/1999/xlink\" width=\"700\" height=\"500\" style=\"\" viewBox=\"0 0 700 500\"><rect x=\"0\" y=\"0\" width=\"700\" height=\"500\" style=\"fill: rgb(235, 219, 171); fill-opacity: 1;\"/><defs id=\"defs-c147c7\"><g class=\"clips\"><clipPath id=\"clipc147c7xyplot\" class=\"plotclip\"><rect width=\"548\" height=\"420\"/></clipPath><clipPath class=\"axesclip\" id=\"clipc147c7x\"><rect x=\"50\" y=\"0\" width=\"548\" height=\"500\"/></clipPath><clipPath class=\"axesclip\" id=\"clipc147c7y\"><rect x=\"0\" y=\"50\" width=\"700\" height=\"420\"/></clipPath><clipPath class=\"axesclip\" id=\"clipc147c7xy\"><rect x=\"50\" y=\"50\" width=\"548\" height=\"420\"/></clipPath></g><g class=\"gradients\"><linearGradient x1=\"0\" x2=\"0\" y1=\"1\" y2=\"0\" id=\"gc147c7-cbc08963\"><stop offset=\"0%\" stop-color=\"rgb(0, 0, 131)\" stop-opacity=\"1\"/><stop offset=\"12.5%\" stop-color=\"rgb(0, 60, 170)\" stop-opacity=\"1\"/><stop offset=\"37.5%\" stop-color=\"rgb(5, 255, 255)\" stop-opacity=\"1\"/><stop offset=\"62.5%\" stop-color=\"rgb(255, 255, 0)\" stop-opacity=\"1\"/><stop offset=\"87.5%\" stop-color=\"rgb(250, 0, 0)\" stop-opacity=\"1\"/><stop offset=\"100%\" stop-color=\"rgb(128, 0, 0)\" stop-opacity=\"1\"/></linearGradient></g><g class=\"patterns\"/></defs><g class=\"bglayer\"><rect class=\"bg\" x=\"50\" y=\"50\" width=\"548\" height=\"420\" style=\"fill: rgb(229, 236, 246); fill-opacity: 1; stroke-width: 0;\"/></g><g class=\"layer-below\"><g class=\"imagelayer\"/><g class=\"shapelayer\"/></g><g class=\"cartesianlayer\"><g class=\"subplot xy\"><g class=\"layer-subplot\"><g class=\"shapelayer\"/><g class=\"imagelayer\"/></g><g class=\"gridlayer\"><g class=\"x\"><path class=\"xgrid crisp\" transform=\"translate(104.8,0)\" d=\"M0,50v420\" style=\"stroke: rgb(255, 255, 255); stroke-opacity: 1; stroke-width: 1px;\"/><path class=\"xgrid crisp\" transform=\"translate(214.4,0)\" d=\"M0,50v420\" style=\"stroke: rgb(255, 255, 255); stroke-opacity: 1; stroke-width: 1px;\"/><path class=\"xgrid crisp\" transform=\"translate(324,0)\" d=\"M0,50v420\" style=\"stroke: rgb(255, 255, 255); stroke-opacity: 1; stroke-width: 1px;\"/><path class=\"xgrid crisp\" transform=\"translate(433.6,0)\" d=\"M0,50v420\" style=\"stroke: rgb(255, 255, 255); stroke-opacity: 1; stroke-width: 1px;\"/><path class=\"xgrid crisp\" transform=\"translate(543.2,0)\" d=\"M0,50v420\" style=\"stroke: rgb(255, 255, 255); stroke-opacity: 1; stroke-width: 1px;\"/></g><g class=\"y\"/></g><g class=\"zerolinelayer\"/><path class=\"xlines-below\"/><path class=\"ylines-below\"/><g class=\"overlines-below\"/><g class=\"xaxislayer-below\"/><g class=\"yaxislayer-below\"/><g class=\"overaxes-below\"/><g class=\"plot\" transform=\"translate(50,50)\" clip-path=\"url(#clipc147c7xyplot)\"><g class=\"heatmaplayer mlayer\"><g class=\"hm\"><image xmlns=\"http://www.w3.org/2000/svg\" preserveAspectRatio=\"none\" height=\"420\" width=\"548\" x=\"0\" y=\"0\" xlink:href=\"data:image/png;base64,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\" style=\"opacity: 1;\"/></g></g></g><g class=\"overplot\"/><path class=\"xlines-above crisp\" d=\"M0,0\" style=\"fill: none;\"/><path class=\"ylines-above crisp\" d=\"M0,0\" style=\"fill: none;\"/><g class=\"overlines-above\"/><g class=\"xaxislayer-above\"><g class=\"xtick\"><text text-anchor=\"middle\" x=\"0\" y=\"46.2\" transform=\"translate(104.8,0)\" style=\"font-family: 'Arial Black'; font-size: 14px; fill: rgb(0, 0, 0); fill-opacity: 1; white-space: pre; opacity: 1;\">1º dodrio</text></g><g class=\"xtick\"><text text-anchor=\"middle\" x=\"0\" y=\"46.2\" transform=\"translate(214.4,0)\" style=\"font-family: 'Arial Black'; font-size: 14px; fill: rgb(0, 0, 0); fill-opacity: 1; white-space: pre; opacity: 1;\">2º primeape</text></g><g class=\"xtick\"><text text-anchor=\"middle\" x=\"0\" y=\"46.2\" transform=\"translate(324,0)\" style=\"font-family: 'Arial Black'; font-size: 14px; fill: rgb(0, 0, 0); fill-opacity: 1; white-space: pre; opacity: 1;\">3º tauros</text></g><g class=\"xtick\"><text text-anchor=\"middle\" x=\"0\" y=\"46.2\" transform=\"translate(433.6,0)\" style=\"font-family: 'Arial Black'; font-size: 14px; fill: rgb(0, 0, 0); fill-opacity: 1; white-space: pre; opacity: 1;\">4º rapidash</text></g><g class=\"xtick\"><text text-anchor=\"middle\" x=\"0\" y=\"46.2\" transform=\"translate(543.2,0)\" style=\"font-family: 'Arial Black'; font-size: 14px; fill: rgb(0, 0, 0); fill-opacity: 1; white-space: pre; opacity: 1;\">5º aerodactyl</text></g></g><g class=\"yaxislayer-above\"/><g class=\"overaxes-above\"/></g></g><g class=\"polarlayer\"/><g class=\"ternarylayer\"/><g class=\"geolayer\"/><g class=\"funnelarealayer\"/><g class=\"pielayer\"/><g class=\"iciclelayer\"/><g class=\"treemaplayer\"/><g class=\"sunburstlayer\"/><g class=\"glimages\"/><defs id=\"topdefs-c147c7\"><g class=\"clips\"/></defs><g class=\"layer-above\"><g class=\"imagelayer\"><image xmlns=\"http://www.w3.org/2000/svg\" x=\"30.820000000000007\" y=\"-23.5\" width=\"147.95999999999998\" height=\"567\" preserveAspectRatio=\"xMidYMid\" opacity=\"1\" clip-path=\"url(#clipc147c7xy)\" xlink:href=\"data:image/png;base64,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\"/><image xmlns=\"http://www.w3.org/2000/svg\" x=\"140.42000000000002\" y=\"-23.5\" width=\"147.95999999999998\" height=\"567\" preserveAspectRatio=\"xMidYMid\" opacity=\"1\" clip-path=\"url(#clipc147c7xy)\" xlink:href=\"data:image/png;base64,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\"/><image xmlns=\"http://www.w3.org/2000/svg\" x=\"250.02\" y=\"-23.5\" width=\"147.95999999999998\" height=\"567\" preserveAspectRatio=\"xMidYMid\" opacity=\"1\" clip-path=\"url(#clipc147c7xy)\" xlink:href=\"data:image/png;base64,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\"/><image xmlns=\"http://www.w3.org/2000/svg\" x=\"359.62\" y=\"-23.5\" width=\"147.95999999999998\" height=\"567\" preserveAspectRatio=\"xMidYMid\" opacity=\"1\" clip-path=\"url(#clipc147c7xy)\" xlink:href=\"data:image/png;base64,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\"/><image xmlns=\"http://www.w3.org/2000/svg\" x=\"469.22\" y=\"-23.5\" width=\"147.95999999999998\" height=\"567\" preserveAspectRatio=\"xMidYMid\" opacity=\"1\" clip-path=\"url(#clipc147c7xy)\" xlink:href=\"data:image/png;base64,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\"/></g><g class=\"shapelayer\"/></g><g class=\"infolayer\"><g class=\"cbc08963 colorbar\" transform=\"translate(50,50)\"><rect class=\"cbbg\" x=\"559\" y=\"0\" width=\"78.6875\" height=\"420\" style=\"fill: rgb(0, 0, 0); fill-opacity: 0; stroke: rgb(68, 68, 68); stroke-opacity: 1; stroke-width: 0;\"/><g class=\"cbfills\" transform=\"translate(0,10)\"><rect class=\"cbfill\" x=\"569\" width=\"30\" y=\"0\" height=\"400\" style=\"fill: url('#gc147c7-cbc08963');\"/></g><g class=\"cblines\" transform=\"translate(0,10)\"/><g class=\"cbaxis crisp\" transform=\"translate(0,-50)\"><g class=\"ycbc08963tick\"><text text-anchor=\"start\" x=\"602.3\" y=\"4.8999999999999995\" transform=\"translate(0,460)\" style=\"font-family: 'Arial Black'; font-size: 14px; fill: rgb(0, 0, 0); fill-opacity: 1; white-space: pre; opacity: 1;\">0</text></g><g class=\"ycbc08963tick\"><text text-anchor=\"start\" x=\"602.3\" y=\"4.8999999999999995\" style=\"font-family: 'Arial Black'; font-size: 14px; fill: rgb(0, 0, 0); fill-opacity: 1; white-space: pre; opacity: 1;\" transform=\"translate(0,380)\">20</text></g><g class=\"ycbc08963tick\"><text text-anchor=\"start\" x=\"602.3\" y=\"4.8999999999999995\" style=\"font-family: 'Arial Black'; font-size: 14px; fill: rgb(0, 0, 0); fill-opacity: 1; white-space: pre; opacity: 1;\" transform=\"translate(0,300)\">40</text></g><g class=\"ycbc08963tick\"><text text-anchor=\"start\" x=\"602.3\" y=\"4.8999999999999995\" style=\"font-family: 'Arial Black'; font-size: 14px; fill: rgb(0, 0, 0); fill-opacity: 1; white-space: pre; opacity: 1;\" transform=\"translate(0,220)\">60</text></g><g class=\"ycbc08963tick\"><text text-anchor=\"start\" x=\"602.3\" y=\"4.8999999999999995\" style=\"font-family: 'Arial Black'; font-size: 14px; fill: rgb(0, 0, 0); fill-opacity: 1; white-space: pre; opacity: 1;\" transform=\"translate(0,140)\">80</text></g><g class=\"ycbc08963tick\"><text text-anchor=\"start\" x=\"602.3\" y=\"4.8999999999999995\" style=\"font-family: 'Arial Black'; font-size: 14px; fill: rgb(0, 0, 0); fill-opacity: 1; white-space: pre; opacity: 1;\" transform=\"translate(0,60.000000000000014)\">100</text></g></g><g class=\"cbtitleunshift\" transform=\"translate(-50,-50)\"><g class=\"cbtitle\"/></g><rect class=\"cboutline\" x=\"569\" y=\"10\" width=\"30\" height=\"400\" style=\"stroke: rgb(68, 68, 68); stroke-opacity: 1; fill: none; stroke-width: 0;\"/></g><g class=\"g-gtitle\"><text class=\"gtitle\" x=\"35\" y=\"25\" text-anchor=\"start\" dy=\"0em\" style=\"font-family: 'Arial Black'; font-size: 20px; fill: rgb(0, 0, 0); opacity: 1; font-weight: normal; white-space: pre;\">Top 5 pokemons com IAP mais próximos de: scyther</text></g><g class=\"g-xtitle\"/><g class=\"annotation\" data-index=\"0\" style=\"opacity: 1;\"><g class=\"annotation-text-g\" transform=\"rotate(0,104.8,93)\"><g class=\"cursor-pointer\" transform=\"translate(72,82)\"><rect class=\"bg\" x=\"0.5\" y=\"0.5\" width=\"64\" height=\"22\" style=\"stroke-width: 1px; stroke: rgb(0, 0, 0); stroke-opacity: 0; fill: rgb(0, 0, 0); fill-opacity: 0;\"/><text class=\"annotation-text\" text-anchor=\"middle\" x=\"32.359375\" y=\"17\" style=\"font-family: 'Arial Black'; font-size: 14px; fill: rgb(0, 0, 0); fill-opacity: 1; white-space: pre;\">25.3254</text></g></g></g><g class=\"annotation\" data-index=\"1\" style=\"opacity: 1;\"><g class=\"annotation-text-g\" transform=\"rotate(0,214.4,93)\"><g class=\"cursor-pointer\" transform=\"translate(182,82)\"><rect class=\"bg\" x=\"0.5\" y=\"0.5\" width=\"64\" height=\"22\" style=\"stroke-width: 1px; stroke: rgb(0, 0, 0); stroke-opacity: 0; fill: rgb(0, 0, 0); fill-opacity: 0;\"/><text class=\"annotation-text\" text-anchor=\"middle\" x=\"32.359375\" y=\"17\" style=\"font-family: 'Arial Black'; font-size: 14px; fill: rgb(0, 0, 0); fill-opacity: 1; white-space: pre;\">25.8747</text></g></g></g><g class=\"annotation\" data-index=\"2\" style=\"opacity: 1;\"><g class=\"annotation-text-g\" transform=\"rotate(0,324,93)\"><g class=\"cursor-pointer\" transform=\"translate(292,82)\"><rect class=\"bg\" x=\"0.5\" y=\"0.5\" width=\"64\" height=\"22\" style=\"stroke-width: 1px; stroke: rgb(0, 0, 0); stroke-opacity: 0; fill: rgb(0, 0, 0); fill-opacity: 0;\"/><text class=\"annotation-text\" text-anchor=\"middle\" x=\"32.359375\" y=\"17\" style=\"font-family: 'Arial Black'; font-size: 14px; fill: rgb(0, 0, 0); fill-opacity: 1; white-space: pre;\">26.2455</text></g></g></g><g class=\"annotation\" data-index=\"3\" style=\"opacity: 1;\"><g class=\"annotation-text-g\" transform=\"rotate(0,433.6,93)\"><g class=\"cursor-pointer\" transform=\"translate(401,82)\"><rect class=\"bg\" x=\"0.5\" y=\"0.5\" width=\"64\" height=\"22\" style=\"stroke-width: 1px; stroke: rgb(0, 0, 0); stroke-opacity: 0; fill: rgb(0, 0, 0); fill-opacity: 0;\"/><text class=\"annotation-text\" text-anchor=\"middle\" x=\"32.359375\" y=\"17\" style=\"font-family: 'Arial Black'; font-size: 14px; fill: rgb(0, 0, 0); fill-opacity: 1; white-space: pre;\">28.8708</text></g></g></g><g class=\"annotation\" data-index=\"4\" style=\"opacity: 1;\"><g class=\"annotation-text-g\" transform=\"rotate(0,543.2,93)\"><g class=\"cursor-pointer\" transform=\"translate(511,82)\"><rect class=\"bg\" x=\"0.5\" y=\"0.5\" width=\"64\" height=\"22\" style=\"stroke-width: 1px; stroke: rgb(0, 0, 0); stroke-opacity: 0; fill: rgb(0, 0, 0); fill-opacity: 0;\"/><text class=\"annotation-text\" text-anchor=\"middle\" x=\"32.359375\" y=\"17\" style=\"font-family: 'Arial Black'; font-size: 14px; fill: rgb(0, 0, 0); fill-opacity: 1; white-space: pre;\">31.6866</text></g></g></g></g></svg>"
      ],
      "text/html": [
       "<div\n",
       "    class=\"webio-mountpoint\"\n",
       "    data-webio-mountpoint=\"244403710079058306\"\n",
       ">\n",
       "    <script>\n",
       "    (function(){\n",
       "    // Some integrations (namely, IJulia/Jupyter) use an alternate render pathway than\n",
       "    // just putting the html on the page. If WebIO isn't defined, then it's pretty likely\n",
       "    // that we're in one of those situations and the integration just isn't installed\n",
       "    // correctly.\n",
       "    if (typeof window.WebIO === \"undefined\") {\n",
       "        document\n",
       "            .querySelector('[data-webio-mountpoint=\"244403710079058306\"]')\n",
       "            .innerHTML = (\n",
       "                '<div style=\"padding: 1em; background-color: #f8d6da; border: 1px solid #f5c6cb; font-weight: bold;\">' +\n",
       "                '<p><strong>WebIO not detected.</strong></p>' +\n",
       "                '<p>Please read ' +\n",
       "                '<a href=\"https://juliagizmos.github.io/WebIO.jl/latest/troubleshooting/not-detected/\" target=\"_blank\">the troubleshooting guide</a> ' +\n",
       "                'for more information on how to resolve this issue.</p>' +\n",
       "                '<p><a href=\"https://juliagizmos.github.io/WebIO.jl/latest/troubleshooting/not-detected/\" target=\"_blank\">https://juliagizmos.github.io/WebIO.jl/latest/troubleshooting/not-detected/</a></p>' +\n",
       "                '</div>'\n",
       "            );\n",
       "        return;\n",
       "    }\n",
       "    WebIO.mount(\n",
       "        document.querySelector('[data-webio-mountpoint=\"244403710079058306\"]'),\n",
       "        {\"props\":{},\"nodeType\":\"Scope\",\"type\":\"node\",\"instanceArgs\":{\"imports\":{\"data\":[{\"name\":\"Plotly\",\"type\":\"js\",\"url\":\"\\/assetserver\\/53a7aadb162a8ed394abcda57c2b6e741dfa1bbf-plotly.min.js\"},{\"name\":null,\"type\":\"js\",\"url\":\"\\/assetserver\\/6711c1456783a56df2a429d652f48fa138f5bf84-plotly_webio.bundle.js\"}],\"type\":\"async_block\"},\"id\":\"18294644659147349041\",\"handlers\":{\"_toImage\":[\"(function (options){return this.Plotly.toImage(this.plotElem,options).then((function (data){return WebIO.setval({\\\"name\\\":\\\"image\\\",\\\"scope\\\":\\\"18294644659147349041\\\",\\\"id\\\":\\\"1725\\\",\\\"type\\\":\\\"observable\\\"},data)}))})\"],\"__get_gd_contents\":[\"(function (prop){prop==\\\"data\\\" ? (WebIO.setval({\\\"name\\\":\\\"__gd_contents\\\",\\\"scope\\\":\\\"18294644659147349041\\\",\\\"id\\\":\\\"1726\\\",\\\"type\\\":\\\"observable\\\"},this.plotElem.data)) : undefined; return prop==\\\"layout\\\" ? (WebIO.setval({\\\"name\\\":\\\"__gd_contents\\\",\\\"scope\\\":\\\"18294644659147349041\\\",\\\"id\\\":\\\"1726\\\",\\\"type\\\":\\\"observable\\\"},this.plotElem.layout)) : undefined})\"],\"_downloadImage\":[\"(function (options){return this.Plotly.downloadImage(this.plotElem,options)})\"],\"_commands\":[\"(function (args){var fn=args.shift(); var elem=this.plotElem; var Plotly=this.Plotly; args.unshift(elem); return Plotly[fn].apply(this,args)})\"]},\"systemjs_options\":null,\"mount_callbacks\":[\"function () {\\n    var handler = ((function (Plotly,PlotlyWebIO){PlotlyWebIO.init(WebIO); var gd=this.dom.querySelector(\\\"#plot-81df06c1-9cd1-4504-8050-14ef8d7fbeb9\\\"); this.plotElem=gd; this.Plotly=Plotly; (window.Blink!==undefined) ? (gd.style.width=\\\"100%\\\", gd.style.height=\\\"100vh\\\", gd.style.marginLeft=\\\"0%\\\", gd.style.marginTop=\\\"0vh\\\") : undefined; window.onresize=(function (){return Plotly.Plots.resize(gd)}); Plotly.newPlot(gd,[{\\\"zmax\\\":100,\\\"y\\\":[\\\"\\\"],\\\"type\\\":\\\"heatmap\\\",\\\"zmin\\\":0,\\\"colorscale\\\":\\\"Jet\\\",\\\"z\\\":[[25.325408527316416],[25.874726914612243],[26.24550369807204],[28.870809777672637],[31.686552318730808]],\\\"transpose\\\":true,\\\"showscale\\\":true,\\\"x\\\":[\\\"1º dodrio\\\",\\\"2º primeape\\\",\\\"3º tauros\\\",\\\"4º rapidash\\\",\\\"5º aerodactyl\\\"]}],{\\\"coloraxis\\\":{\\\"colorbar\\\":{\\\"tickvals\\\":[0,50,100],\\\"title\\\":\\\"IAP\\\",\\\"ticktext\\\":[\\\"Baixo\\\",\\\"Médio\\\",\\\"Alto\\\"]}},\\\"xaxis\\\":{\\\"fixedrange\\\":true,\\\"side\\\":\\\"top\\\"},\\\"paper_bgcolor\\\":\\\"#EBDBAB\\\",\\\"template\\\":{\\\"layout\\\":{\\\"coloraxis\\\":{\\\"colorbar\\\":{\\\"ticks\\\":\\\"\\\",\\\"outlinewidth\\\":0}},\\\"xaxis\\\":{\\\"gridcolor\\\":\\\"white\\\",\\\"zerolinewidth\\\":2,\\\"title\\\":{\\\"standoff\\\":15},\\\"ticks\\\":\\\"\\\",\\\"zerolinecolor\\\":\\\"white\\\",\\\"automargin\\\":true,\\\"linecolor\\\":\\\"white\\\"},\\\"hovermode\\\":\\\"closest\\\",\\\"paper_bgcolor\\\":\\\"white\\\",\\\"geo\\\":{\\\"showlakes\\\":true,\\\"showland\\\":true,\\\"landcolor\\\":\\\"#E5ECF6\\\",\\\"bgcolor\\\":\\\"white\\\",\\\"subunitcolor\\\":\\\"white\\\",\\\"lakecolor\\\":\\\"white\\\"},\\\"colorscale\\\":{\\\"sequential\\\":[[0.0,\\\"#0d0887\\\"],[0.1111111111111111,\\\"#46039f\\\"],[0.2222222222222222,\\\"#7201a8\\\"],[0.3333333333333333,\\\"#9c179e\\\"],[0.4444444444444444,\\\"#bd3786\\\"],[0.5555555555555556,\\\"#d8576b\\\"],[0.6666666666666666,\\\"#ed7953\\\"],[0.7777777777777778,\\\"#fb9f3a\\\"],[0.8888888888888888,\\\"#fdca26\\\"],[1.0,\\\"#f0f921\\\"]],\\\"diverging\\\":[[0,\\\"#8e0152\\\"],[0.1,\\\"#c51b7d\\\"],[0.2,\\\"#de77ae\\\"],[0.3,\\\"#f1b6da\\\"],[0.4,\\\"#fde0ef\\\"],[0.5,\\\"#f7f7f7\\\"],[0.6,\\\"#e6f5d0\\\"],[0.7,\\\"#b8e186\\\"],[0.8,\\\"#7fbc41\\\"],[0.9,\\\"#4d9221\\\"],[1,\\\"#276419\\\"]],\\\"sequentialminus\\\":[[0.0,\\\"#0d0887\\\"],[0.1111111111111111,\\\"#46039f\\\"],[0.2222222222222222,\\\"#7201a8\\\"],[0.3333333333333333,\\\"#9c179e\\\"],[0.4444444444444444,\\\"#bd3786\\\"],[0.5555555555555556,\\\"#d8576b\\\"],[0.6666666666666666,\\\"#ed7953\\\"],[0.7777777777777778,\\\"#fb9f3a\\\"],[0.8888888888888888,\\\"#fdca26\\\"],[1.0,\\\"#f0f921\\\"]]},\\\"yaxis\\\":{\\\"gridcolor\\\":\\\"white\\\",\\\"zerolinewidth\\\":2,\\\"title\\\":{\\\"standoff\\\":15},\\\"ticks\\\":\\\"\\\",\\\"zerolinecolor\\\":\\\"white\\\",\\\"automargin\\\":true,\\\"linecolor\\\":\\\"white\\\"},\\\"shapedefaults\\\":{\\\"line\\\":{\\\"color\\\":\\\"#2a3f5f\\\"}},\\\"hoverlabel\\\":{\\\"align\\\":\\\"left\\\"},\\\"mapbox\\\":{\\\"style\\\":\\\"light\\\"},\\\"polar\\\":{\\\"angularaxis\\\":{\\\"gridcolor\\\":\\\"white\\\",\\\"ticks\\\":\\\"\\\",\\\"linecolor\\\":\\\"white\\\"},\\\"bgcolor\\\":\\\"#E5ECF6\\\",\\\"radialaxis\\\":{\\\"gridcolor\\\":\\\"white\\\",\\\"ticks\\\":\\\"\\\",\\\"linecolor\\\":\\\"white\\\"}},\\\"autotypenumbers\\\":\\\"strict\\\",\\\"font\\\":{\\\"color\\\":\\\"#2a3f5f\\\"},\\\"ternary\\\":{\\\"baxis\\\":{\\\"gridcolor\\\":\\\"white\\\",\\\"ticks\\\":\\\"\\\",\\\"linecolor\\\":\\\"white\\\"},\\\"bgcolor\\\":\\\"#E5ECF6\\\",\\\"caxis\\\":{\\\"gridcolor\\\":\\\"white\\\",\\\"ticks\\\":\\\"\\\",\\\"linecolor\\\":\\\"white\\\"},\\\"aaxis\\\":{\\\"gridcolor\\\":\\\"white\\\",\\\"ticks\\\":\\\"\\\",\\\"linecolor\\\":\\\"white\\\"}},\\\"annotationdefaults\\\":{\\\"arrowhead\\\":0,\\\"arrowwidth\\\":1,\\\"arrowcolor\\\":\\\"#2a3f5f\\\"},\\\"plot_bgcolor\\\":\\\"#E5ECF6\\\",\\\"title\\\":{\\\"x\\\":0.05},\\\"scene\\\":{\\\"xaxis\\\":{\\\"gridcolor\\\":\\\"white\\\",\\\"gridwidth\\\":2,\\\"backgroundcolor\\\":\\\"#E5ECF6\\\",\\\"ticks\\\":\\\"\\\",\\\"showbackground\\\":true,\\\"zerolinecolor\\\":\\\"white\\\",\\\"linecolor\\\":\\\"white\\\"},\\\"zaxis\\\":{\\\"gridcolor\\\":\\\"white\\\",\\\"gridwidth\\\":2,\\\"backgroundcolor\\\":\\\"#E5ECF6\\\",\\\"ticks\\\":\\\"\\\",\\\"showbackground\\\":true,\\\"zerolinecolor\\\":\\\"white\\\",\\\"linecolor\\\":\\\"white\\\"},\\\"yaxis\\\":{\\\"gridcolor\\\":\\\"white\\\",\\\"gridwidth\\\":2,\\\"backgroundcolor\\\":\\\"#E5ECF6\\\",\\\"ticks\\\":\\\"\\\",\\\"showbackground\\\":true,\\\"zerolinecolor\\\":\\\"white\\\",\\\"linecolor\\\":\\\"white\\\"}},\\\"colorway\\\":[\\\"#636efa\\\",\\\"#EF553B\\\",\\\"#00cc96\\\",\\\"#ab63fa\\\",\\\"#FFA15A\\\",\\\"#19d3f3\\\",\\\"#FF6692\\\",\\\"#B6E880\\\",\\\"#FF97FF\\\",\\\"#FECB52\\\"]},\\\"data\\\":{\\\"barpolar\\\":[{\\\"type\\\":\\\"barpolar\\\",\\\"marker\\\":{\\\"line\\\":{\\\"color\\\":\\\"#E5ECF6\\\",\\\"width\\\":0.5}}}],\\\"carpet\\\":[{\\\"aaxis\\\":{\\\"gridcolor\\\":\\\"white\\\",\\\"endlinecolor\\\":\\\"#2a3f5f\\\",\\\"minorgridcolor\\\":\\\"white\\\",\\\"startlinecolor\\\":\\\"#2a3f5f\\\",\\\"linecolor\\\":\\\"white\\\"},\\\"type\\\":\\\"carpet\\\",\\\"baxis\\\":{\\\"gridcolor\\\":\\\"white\\\",\\\"endlinecolor\\\":\\\"#2a3f5f\\\",\\\"minorgridcolor\\\":\\\"white\\\",\\\"startlinecolor\\\":\\\"#2a3f5f\\\",\\\"linecolor\\\":\\\"white\\\"}}],\\\"scatterpolar\\\":[{\\\"type\\\":\\\"scatterpolar\\\",\\\"marker\\\":{\\\"colorbar\\\":{\\\"ticks\\\":\\\"\\\",\\\"outlinewidth\\\":0}}}],\\\"parcoords\\\":[{\\\"line\\\":{\\\"colorbar\\\":{\\\"ticks\\\":\\\"\\\",\\\"outlinewidth\\\":0}},\\\"type\\\":\\\"parcoords\\\"}],\\\"scatter\\\":[{\\\"type\\\":\\\"scatter\\\",\\\"marker\\\":{\\\"colorbar\\\":{\\\"ticks\\\":\\\"\\\",\\\"outlinewidth\\\":0}}}],\\\"histogram2dcontour\\\":[{\\\"colorbar\\\":{\\\"ticks\\\":\\\"\\\",\\\"outlinewidth\\\":0},\\\"type\\\":\\\"histogram2dcontour\\\",\\\"colorscale\\\":[[0.0,\\\"#0d0887\\\"],[0.1111111111111111,\\\"#46039f\\\"],[0.2222222222222222,\\\"#7201a8\\\"],[0.3333333333333333,\\\"#9c179e\\\"],[0.4444444444444444,\\\"#bd3786\\\"],[0.5555555555555556,\\\"#d8576b\\\"],[0.6666666666666666,\\\"#ed7953\\\"],[0.7777777777777778,\\\"#fb9f3a\\\"],[0.8888888888888888,\\\"#fdca26\\\"],[1.0,\\\"#f0f921\\\"]]}],\\\"contour\\\":[{\\\"colorbar\\\":{\\\"ticks\\\":\\\"\\\",\\\"outlinewidth\\\":0},\\\"type\\\":\\\"contour\\\",\\\"colorscale\\\":[[0.0,\\\"#0d0887\\\"],[0.1111111111111111,\\\"#46039f\\\"],[0.2222222222222222,\\\"#7201a8\\\"],[0.3333333333333333,\\\"#9c179e\\\"],[0.4444444444444444,\\\"#bd3786\\\"],[0.5555555555555556,\\\"#d8576b\\\"],[0.6666666666666666,\\\"#ed7953\\\"],[0.7777777777777778,\\\"#fb9f3a\\\"],[0.8888888888888888,\\\"#fdca26\\\"],[1.0,\\\"#f0f921\\\"]]}],\\\"scattercarpet\\\":[{\\\"type\\\":\\\"scattercarpet\\\",\\\"marker\\\":{\\\"colorbar\\\":{\\\"ticks\\\":\\\"\\\",\\\"outlinewidth\\\":0}}}],\\\"mesh3d\\\":[{\\\"colorbar\\\":{\\\"ticks\\\":\\\"\\\",\\\"outlinewidth\\\":0},\\\"type\\\":\\\"mesh3d\\\"}],\\\"surface\\\":[{\\\"colorbar\\\":{\\\"ticks\\\":\\\"\\\",\\\"outlinewidth\\\":0},\\\"type\\\":\\\"surface\\\",\\\"colorscale\\\":[[0.0,\\\"#0d0887\\\"],[0.1111111111111111,\\\"#46039f\\\"],[0.2222222222222222,\\\"#7201a8\\\"],[0.3333333333333333,\\\"#9c179e\\\"],[0.4444444444444444,\\\"#bd3786\\\"],[0.5555555555555556,\\\"#d8576b\\\"],[0.6666666666666666,\\\"#ed7953\\\"],[0.7777777777777778,\\\"#fb9f3a\\\"],[0.8888888888888888,\\\"#fdca26\\\"],[1.0,\\\"#f0f921\\\"]]}],\\\"scattermapbox\\\":[{\\\"type\\\":\\\"scattermapbox\\\",\\\"marker\\\":{\\\"colorbar\\\":{\\\"ticks\\\":\\\"\\\",\\\"outlinewidth\\\":0}}}],\\\"scattergeo\\\":[{\\\"type\\\":\\\"scattergeo\\\",\\\"marker\\\":{\\\"colorbar\\\":{\\\"ticks\\\":\\\"\\\",\\\"outlinewidth\\\":0}}}],\\\"histogram\\\":[{\\\"type\\\":\\\"histogram\\\",\\\"marker\\\":{\\\"colorbar\\\":{\\\"ticks\\\":\\\"\\\",\\\"outlinewidth\\\":0}}}],\\\"pie\\\":[{\\\"type\\\":\\\"pie\\\",\\\"automargin\\\":true}],\\\"choropleth\\\":[{\\\"colorbar\\\":{\\\"ticks\\\":\\\"\\\",\\\"outlinewidth\\\":0},\\\"type\\\":\\\"choropleth\\\"}],\\\"heatmapgl\\\":[{\\\"colorbar\\\":{\\\"ticks\\\":\\\"\\\",\\\"outlinewidth\\\":0},\\\"type\\\":\\\"heatmapgl\\\",\\\"colorscale\\\":[[0.0,\\\"#0d0887\\\"],[0.1111111111111111,\\\"#46039f\\\"],[0.2222222222222222,\\\"#7201a8\\\"],[0.3333333333333333,\\\"#9c179e\\\"],[0.4444444444444444,\\\"#bd3786\\\"],[0.5555555555555556,\\\"#d8576b\\\"],[0.6666666666666666,\\\"#ed7953\\\"],[0.7777777777777778,\\\"#fb9f3a\\\"],[0.8888888888888888,\\\"#fdca26\\\"],[1.0,\\\"#f0f921\\\"]]}],\\\"bar\\\":[{\\\"type\\\":\\\"bar\\\",\\\"error_y\\\":{\\\"color\\\":\\\"#2a3f5f\\\"},\\\"error_x\\\":{\\\"color\\\":\\\"#2a3f5f\\\"},\\\"marker\\\":{\\\"line\\\":{\\\"color\\\":\\\"#E5ECF6\\\",\\\"width\\\":0.5}}}],\\\"heatmap\\\":[{\\\"colorbar\\\":{\\\"ticks\\\":\\\"\\\",\\\"outlinewidth\\\":0},\\\"type\\\":\\\"heatmap\\\",\\\"colorscale\\\":[[0.0,\\\"#0d0887\\\"],[0.1111111111111111,\\\"#46039f\\\"],[0.2222222222222222,\\\"#7201a8\\\"],[0.3333333333333333,\\\"#9c179e\\\"],[0.4444444444444444,\\\"#bd3786\\\"],[0.5555555555555556,\\\"#d8576b\\\"],[0.6666666666666666,\\\"#ed7953\\\"],[0.7777777777777778,\\\"#fb9f3a\\\"],[0.8888888888888888,\\\"#fdca26\\\"],[1.0,\\\"#f0f921\\\"]]}],\\\"contourcarpet\\\":[{\\\"colorbar\\\":{\\\"ticks\\\":\\\"\\\",\\\"outlinewidth\\\":0},\\\"type\\\":\\\"contourcarpet\\\"}],\\\"table\\\":[{\\\"type\\\":\\\"table\\\",\\\"header\\\":{\\\"line\\\":{\\\"color\\\":\\\"white\\\"},\\\"fill\\\":{\\\"color\\\":\\\"#C8D4E3\\\"}},\\\"cells\\\":{\\\"line\\\":{\\\"color\\\":\\\"white\\\"},\\\"fill\\\":{\\\"color\\\":\\\"#EBF0F8\\\"}}}],\\\"scatter3d\\\":[{\\\"line\\\":{\\\"colorbar\\\":{\\\"ticks\\\":\\\"\\\",\\\"outlinewidth\\\":0}},\\\"type\\\":\\\"scatter3d\\\",\\\"marker\\\":{\\\"colorbar\\\":{\\\"ticks\\\":\\\"\\\",\\\"outlinewidth\\\":0}}}],\\\"scattergl\\\":[{\\\"type\\\":\\\"scattergl\\\",\\\"marker\\\":{\\\"colorbar\\\":{\\\"ticks\\\":\\\"\\\",\\\"outlinewidth\\\":0}}}],\\\"histogram2d\\\":[{\\\"colorbar\\\":{\\\"ticks\\\":\\\"\\\",\\\"outlinewidth\\\":0},\\\"type\\\":\\\"histogram2d\\\",\\\"colorscale\\\":[[0.0,\\\"#0d0887\\\"],[0.1111111111111111,\\\"#46039f\\\"],[0.2222222222222222,\\\"#7201a8\\\"],[0.3333333333333333,\\\"#9c179e\\\"],[0.4444444444444444,\\\"#bd3786\\\"],[0.5555555555555556,\\\"#d8576b\\\"],[0.6666666666666666,\\\"#ed7953\\\"],[0.7777777777777778,\\\"#fb9f3a\\\"],[0.8888888888888888,\\\"#fdca26\\\"],[1.0,\\\"#f0f921\\\"]]}],\\\"scatterternary\\\":[{\\\"type\\\":\\\"scatterternary\\\",\\\"marker\\\":{\\\"colorbar\\\":{\\\"ticks\\\":\\\"\\\",\\\"outlinewidth\\\":0}}}],\\\"scatterpolargl\\\":[{\\\"type\\\":\\\"scatterpolargl\\\",\\\"marker\\\":{\\\"colorbar\\\":{\\\"ticks\\\":\\\"\\\",\\\"outlinewidth\\\":0}}}]}},\\\"height\\\":300,\\\"yaxis\\\":{\\\"visible\\\":false,\\\"fixedrange\\\":true},\\\"images\\\":[{\\\"y\\\":0,\\\"yanchor\\\":\\\"middle\\\",\\\"sizex\\\":1.35,\\\"source\\\":\\\"https:\\/\\/raw.githubusercontent.com\\/PokeAPI\\/sprites\\/master\\/sprites\\/pokemon\\/85.png\\\",\\\"sizey\\\":1.35,\\\"x\\\":0,\\\"xref\\\":\\\"x\\\",\\\"yref\\\":\\\"y\\\",\\\"xanchor\\\":\\\"center\\\"},{\\\"y\\\":0,\\\"yanchor\\\":\\\"middle\\\",\\\"sizex\\\":1.35,\\\"source\\\":\\\"https:\\/\\/raw.githubusercontent.com\\/PokeAPI\\/sprites\\/master\\/sprites\\/pokemon\\/57.png\\\",\\\"sizey\\\":1.35,\\\"x\\\":1,\\\"xref\\\":\\\"x\\\",\\\"yref\\\":\\\"y\\\",\\\"xanchor\\\":\\\"center\\\"},{\\\"y\\\":0,\\\"yanchor\\\":\\\"middle\\\",\\\"sizex\\\":1.35,\\\"source\\\":\\\"https:\\/\\/raw.githubusercontent.com\\/PokeAPI\\/sprites\\/master\\/sprites\\/pokemon\\/128.png\\\",\\\"sizey\\\":1.35,\\\"x\\\":2,\\\"xref\\\":\\\"x\\\",\\\"yref\\\":\\\"y\\\",\\\"xanchor\\\":\\\"center\\\"},{\\\"y\\\":0,\\\"yanchor\\\":\\\"middle\\\",\\\"sizex\\\":1.35,\\\"source\\\":\\\"https:\\/\\/raw.githubusercontent.com\\/PokeAPI\\/sprites\\/master\\/sprites\\/pokemon\\/78.png\\\",\\\"sizey\\\":1.35,\\\"x\\\":3,\\\"xref\\\":\\\"x\\\",\\\"yref\\\":\\\"y\\\",\\\"xanchor\\\":\\\"center\\\"},{\\\"y\\\":0,\\\"yanchor\\\":\\\"middle\\\",\\\"sizex\\\":1.35,\\\"source\\\":\\\"https:\\/\\/raw.githubusercontent.com\\/PokeAPI\\/sprites\\/master\\/sprites\\/pokemon\\/142.png\\\",\\\"sizey\\\":1.35,\\\"x\\\":4,\\\"xref\\\":\\\"x\\\",\\\"yref\\\":\\\"y\\\",\\\"xanchor\\\":\\\"center\\\"}],\\\"autosize\\\":true,\\\"font\\\":{\\\"color\\\":\\\"black\\\",\\\"family\\\":\\\"Arial Black\\\",\\\"size\\\":14},\\\"annotations\\\":[{\\\"yshift\\\":20,\\\"x\\\":0,\\\"xref\\\":\\\"x\\\",\\\"yref\\\":\\\"y\\\",\\\"font\\\":{\\\"color\\\":\\\"black\\\",\\\"size\\\":14},\\\"text\\\":\\\"25.3254\\\",\\\"showarrow\\\":false,\\\"y\\\":0.35},{\\\"yshift\\\":20,\\\"x\\\":1,\\\"xref\\\":\\\"x\\\",\\\"yref\\\":\\\"y\\\",\\\"font\\\":{\\\"color\\\":\\\"black\\\",\\\"size\\\":14},\\\"text\\\":\\\"25.8747\\\",\\\"showarrow\\\":false,\\\"y\\\":0.35},{\\\"yshift\\\":20,\\\"x\\\":2,\\\"xref\\\":\\\"x\\\",\\\"yref\\\":\\\"y\\\",\\\"font\\\":{\\\"color\\\":\\\"black\\\",\\\"size\\\":14},\\\"text\\\":\\\"26.2455\\\",\\\"showarrow\\\":false,\\\"y\\\":0.35},{\\\"yshift\\\":20,\\\"x\\\":3,\\\"xref\\\":\\\"x\\\",\\\"yref\\\":\\\"y\\\",\\\"font\\\":{\\\"color\\\":\\\"black\\\",\\\"size\\\":14},\\\"text\\\":\\\"28.8708\\\",\\\"showarrow\\\":false,\\\"y\\\":0.35},{\\\"yshift\\\":20,\\\"x\\\":4,\\\"xref\\\":\\\"x\\\",\\\"yref\\\":\\\"y\\\",\\\"font\\\":{\\\"color\\\":\\\"black\\\",\\\"size\\\":14},\\\"text\\\":\\\"31.6866\\\",\\\"showarrow\\\":false,\\\"y\\\":0.35}],\\\"title\\\":\\\"Top 5 pokemons com IAP mais próximos de: scyther\\\",\\\"margin\\\":{\\\"l\\\":50,\\\"b\\\":30,\\\"r\\\":50,\\\"t\\\":50},\\\"automargin\\\":true,\\\"width\\\":985},{\\\"showLink\\\":false,\\\"editable\\\":false,\\\"responsive\\\":true,\\\"staticPlot\\\":false,\\\"scrollZoom\\\":true}); gd.on(\\\"plotly_hover\\\",(function (data){var filtered_data=WebIO.PlotlyCommands.filterEventData(gd,data,\\\"hover\\\"); return !(filtered_data.isnil) ? (WebIO.setval({\\\"name\\\":\\\"hover\\\",\\\"scope\\\":\\\"18294644659147349041\\\",\\\"id\\\":\\\"1721\\\",\\\"type\\\":\\\"observable\\\"},filtered_data.out)) : undefined})); gd.on(\\\"plotly_unhover\\\",(function (){return WebIO.setval({\\\"name\\\":\\\"hover\\\",\\\"scope\\\":\\\"18294644659147349041\\\",\\\"id\\\":\\\"1721\\\",\\\"type\\\":\\\"observable\\\"},{})})); gd.on(\\\"plotly_selected\\\",(function (data){var filtered_data=WebIO.PlotlyCommands.filterEventData(gd,data,\\\"selected\\\"); return !(filtered_data.isnil) ? (WebIO.setval({\\\"name\\\":\\\"selected\\\",\\\"scope\\\":\\\"18294644659147349041\\\",\\\"id\\\":\\\"1722\\\",\\\"type\\\":\\\"observable\\\"},filtered_data.out)) : undefined})); gd.on(\\\"plotly_deselect\\\",(function (){return WebIO.setval({\\\"name\\\":\\\"selected\\\",\\\"scope\\\":\\\"18294644659147349041\\\",\\\"id\\\":\\\"1722\\\",\\\"type\\\":\\\"observable\\\"},{})})); gd.on(\\\"plotly_relayout\\\",(function (data){var filtered_data=WebIO.PlotlyCommands.filterEventData(gd,data,\\\"relayout\\\"); return !(filtered_data.isnil) ? (WebIO.setval({\\\"name\\\":\\\"relayout\\\",\\\"scope\\\":\\\"18294644659147349041\\\",\\\"id\\\":\\\"1724\\\",\\\"type\\\":\\\"observable\\\"},filtered_data.out)) : undefined})); return gd.on(\\\"plotly_click\\\",(function (data){var filtered_data=WebIO.PlotlyCommands.filterEventData(gd,data,\\\"click\\\"); return !(filtered_data.isnil) ? (WebIO.setval({\\\"name\\\":\\\"click\\\",\\\"scope\\\":\\\"18294644659147349041\\\",\\\"id\\\":\\\"1723\\\",\\\"type\\\":\\\"observable\\\"},filtered_data.out)) : undefined}))}));\\n    (WebIO.importBlock({\\\"data\\\":[{\\\"name\\\":\\\"Plotly\\\",\\\"type\\\":\\\"js\\\",\\\"url\\\":\\\"\\/assetserver\\/53a7aadb162a8ed394abcda57c2b6e741dfa1bbf-plotly.min.js\\\"},{\\\"name\\\":null,\\\"type\\\":\\\"js\\\",\\\"url\\\":\\\"\\/assetserver\\/6711c1456783a56df2a429d652f48fa138f5bf84-plotly_webio.bundle.js\\\"}],\\\"type\\\":\\\"async_block\\\"})).then((imports) => handler.apply(this, imports));\\n}\\n\"],\"observables\":{\"_toImage\":{\"sync\":false,\"id\":\"1728\",\"value\":{}},\"hover\":{\"sync\":false,\"id\":\"1721\",\"value\":{}},\"selected\":{\"sync\":false,\"id\":\"1722\",\"value\":{}},\"__gd_contents\":{\"sync\":false,\"id\":\"1726\",\"value\":{}},\"click\":{\"sync\":false,\"id\":\"1723\",\"value\":{}},\"image\":{\"sync\":true,\"id\":\"1725\",\"value\":\"\"},\"__get_gd_contents\":{\"sync\":false,\"id\":\"1730\",\"value\":\"\"},\"_downloadImage\":{\"sync\":false,\"id\":\"1729\",\"value\":{}},\"relayout\":{\"sync\":false,\"id\":\"1724\",\"value\":{}},\"_commands\":{\"sync\":false,\"id\":\"1727\",\"value\":[]}}},\"children\":[{\"props\":{\"id\":\"plot-81df06c1-9cd1-4504-8050-14ef8d7fbeb9\"},\"nodeType\":\"DOM\",\"type\":\"node\",\"instanceArgs\":{\"namespace\":\"html\",\"tag\":\"div\"},\"children\":[]}]},\n",
       "        window,\n",
       "    );\n",
       "    })()\n",
       "    </script>\n",
       "</div>\n"
      ],
      "text/plain": [
       "data: [\n",
       "  \"heatmap with fields colorscale, showscale, transpose, type, x, y, z, zmax, and zmin\"\n",
       "]\n",
       "\n",
       "layout: \"layout with fields annotations, automargin, autosize, coloraxis, font, height, images, margin, paper_bgcolor, template, title, width, xaxis, and yaxis\"\n",
       "\n"
      ]
     },
     "metadata": {},
     "output_type": "display_data"
    }
   ],
   "source": [
    "plot_graphic(teste1[1], teste1[2], teste1[3])"
   ]
  },
  {
   "cell_type": "code",
   "execution_count": 339,
   "metadata": {},
   "outputs": [
    {
     "data": {
      "application/vnd.plotly.v1+json": {
       "config": {
        "editable": false,
        "responsive": true,
        "scrollZoom": true,
        "showLink": false,
        "staticPlot": false
       },
       "data": [
        {
         "colorscale": "Jet",
         "showscale": true,
         "transpose": true,
         "type": "heatmap",
         "x": [
          "1º raichu",
          "2º electabuzz",
          "3º primeape",
          "4º nidoking",
          "5º magmar"
         ],
         "y": [
          ""
         ],
         "z": [
          [
           21.675684078349363
          ],
          [
           26.38873309041054
          ],
          [
           26.77185527372197
          ],
          [
           27.306581704617976
          ],
          [
           27.376067120722496
          ]
         ],
         "zmax": 100,
         "zmin": 0
        }
       ],
       "frames": [],
       "layout": {
        "annotations": [
         {
          "font": {
           "color": "black",
           "size": 14
          },
          "showarrow": false,
          "text": "21.6757",
          "x": 0,
          "xref": "x",
          "y": 0.35,
          "yref": "y",
          "yshift": 20
         },
         {
          "font": {
           "color": "black",
           "size": 14
          },
          "showarrow": false,
          "text": "26.3887",
          "x": 1,
          "xref": "x",
          "y": 0.35,
          "yref": "y",
          "yshift": 20
         },
         {
          "font": {
           "color": "black",
           "size": 14
          },
          "showarrow": false,
          "text": "26.7719",
          "x": 2,
          "xref": "x",
          "y": 0.35,
          "yref": "y",
          "yshift": 20
         },
         {
          "font": {
           "color": "black",
           "size": 14
          },
          "showarrow": false,
          "text": "27.3066",
          "x": 3,
          "xref": "x",
          "y": 0.35,
          "yref": "y",
          "yshift": 20
         },
         {
          "font": {
           "color": "black",
           "size": 14
          },
          "showarrow": false,
          "text": "27.3761",
          "x": 4,
          "xref": "x",
          "y": 0.35,
          "yref": "y",
          "yshift": 20
         }
        ],
        "automargin": true,
        "autosize": true,
        "coloraxis": {
         "colorbar": {
          "ticktext": [
           "Baixo",
           "Médio",
           "Alto"
          ],
          "tickvals": [
           0,
           50,
           100
          ],
          "title": "IAP"
         }
        },
        "font": {
         "color": "black",
         "family": "Arial Black",
         "size": 14
        },
        "height": 300,
        "images": [
         {
          "sizex": 1.35,
          "sizey": 1.35,
          "source": "https://raw.githubusercontent.com/PokeAPI/sprites/master/sprites/pokemon/26.png",
          "x": 0,
          "xanchor": "center",
          "xref": "x",
          "y": 0,
          "yanchor": "middle",
          "yref": "y"
         },
         {
          "sizex": 1.35,
          "sizey": 1.35,
          "source": "https://raw.githubusercontent.com/PokeAPI/sprites/master/sprites/pokemon/125.png",
          "x": 1,
          "xanchor": "center",
          "xref": "x",
          "y": 0,
          "yanchor": "middle",
          "yref": "y"
         },
         {
          "sizex": 1.35,
          "sizey": 1.35,
          "source": "https://raw.githubusercontent.com/PokeAPI/sprites/master/sprites/pokemon/57.png",
          "x": 2,
          "xanchor": "center",
          "xref": "x",
          "y": 0,
          "yanchor": "middle",
          "yref": "y"
         },
         {
          "sizex": 1.35,
          "sizey": 1.35,
          "source": "https://raw.githubusercontent.com/PokeAPI/sprites/master/sprites/pokemon/34.png",
          "x": 3,
          "xanchor": "center",
          "xref": "x",
          "y": 0,
          "yanchor": "middle",
          "yref": "y"
         },
         {
          "sizex": 1.35,
          "sizey": 1.35,
          "source": "https://raw.githubusercontent.com/PokeAPI/sprites/master/sprites/pokemon/126.png",
          "x": 4,
          "xanchor": "center",
          "xref": "x",
          "y": 0,
          "yanchor": "middle",
          "yref": "y"
         }
        ],
        "margin": {
         "b": 30,
         "l": 50,
         "r": 50,
         "t": 50
        },
        "paper_bgcolor": "#EBDBAB",
        "template": {
         "data": {
          "bar": [
           {
            "error_x": {
             "color": "#2a3f5f"
            },
            "error_y": {
             "color": "#2a3f5f"
            },
            "marker": {
             "line": {
              "color": "#E5ECF6",
              "width": 0.5
             }
            },
            "type": "bar"
           }
          ],
          "barpolar": [
           {
            "marker": {
             "line": {
              "color": "#E5ECF6",
              "width": 0.5
             }
            },
            "type": "barpolar"
           }
          ],
          "carpet": [
           {
            "aaxis": {
             "endlinecolor": "#2a3f5f",
             "gridcolor": "white",
             "linecolor": "white",
             "minorgridcolor": "white",
             "startlinecolor": "#2a3f5f"
            },
            "baxis": {
             "endlinecolor": "#2a3f5f",
             "gridcolor": "white",
             "linecolor": "white",
             "minorgridcolor": "white",
             "startlinecolor": "#2a3f5f"
            },
            "type": "carpet"
           }
          ],
          "choropleth": [
           {
            "colorbar": {
             "outlinewidth": 0,
             "ticks": ""
            },
            "type": "choropleth"
           }
          ],
          "contour": [
           {
            "colorbar": {
             "outlinewidth": 0,
             "ticks": ""
            },
            "colorscale": [
             [
              0,
              "#0d0887"
             ],
             [
              0.1111111111111111,
              "#46039f"
             ],
             [
              0.2222222222222222,
              "#7201a8"
             ],
             [
              0.3333333333333333,
              "#9c179e"
             ],
             [
              0.4444444444444444,
              "#bd3786"
             ],
             [
              0.5555555555555556,
              "#d8576b"
             ],
             [
              0.6666666666666666,
              "#ed7953"
             ],
             [
              0.7777777777777778,
              "#fb9f3a"
             ],
             [
              0.8888888888888888,
              "#fdca26"
             ],
             [
              1,
              "#f0f921"
             ]
            ],
            "type": "contour"
           }
          ],
          "contourcarpet": [
           {
            "colorbar": {
             "outlinewidth": 0,
             "ticks": ""
            },
            "type": "contourcarpet"
           }
          ],
          "heatmap": [
           {
            "colorbar": {
             "outlinewidth": 0,
             "ticks": ""
            },
            "colorscale": [
             [
              0,
              "#0d0887"
             ],
             [
              0.1111111111111111,
              "#46039f"
             ],
             [
              0.2222222222222222,
              "#7201a8"
             ],
             [
              0.3333333333333333,
              "#9c179e"
             ],
             [
              0.4444444444444444,
              "#bd3786"
             ],
             [
              0.5555555555555556,
              "#d8576b"
             ],
             [
              0.6666666666666666,
              "#ed7953"
             ],
             [
              0.7777777777777778,
              "#fb9f3a"
             ],
             [
              0.8888888888888888,
              "#fdca26"
             ],
             [
              1,
              "#f0f921"
             ]
            ],
            "type": "heatmap"
           }
          ],
          "heatmapgl": [
           {
            "colorbar": {
             "outlinewidth": 0,
             "ticks": ""
            },
            "colorscale": [
             [
              0,
              "#0d0887"
             ],
             [
              0.1111111111111111,
              "#46039f"
             ],
             [
              0.2222222222222222,
              "#7201a8"
             ],
             [
              0.3333333333333333,
              "#9c179e"
             ],
             [
              0.4444444444444444,
              "#bd3786"
             ],
             [
              0.5555555555555556,
              "#d8576b"
             ],
             [
              0.6666666666666666,
              "#ed7953"
             ],
             [
              0.7777777777777778,
              "#fb9f3a"
             ],
             [
              0.8888888888888888,
              "#fdca26"
             ],
             [
              1,
              "#f0f921"
             ]
            ],
            "type": "heatmapgl"
           }
          ],
          "histogram": [
           {
            "marker": {
             "colorbar": {
              "outlinewidth": 0,
              "ticks": ""
             }
            },
            "type": "histogram"
           }
          ],
          "histogram2d": [
           {
            "colorbar": {
             "outlinewidth": 0,
             "ticks": ""
            },
            "colorscale": [
             [
              0,
              "#0d0887"
             ],
             [
              0.1111111111111111,
              "#46039f"
             ],
             [
              0.2222222222222222,
              "#7201a8"
             ],
             [
              0.3333333333333333,
              "#9c179e"
             ],
             [
              0.4444444444444444,
              "#bd3786"
             ],
             [
              0.5555555555555556,
              "#d8576b"
             ],
             [
              0.6666666666666666,
              "#ed7953"
             ],
             [
              0.7777777777777778,
              "#fb9f3a"
             ],
             [
              0.8888888888888888,
              "#fdca26"
             ],
             [
              1,
              "#f0f921"
             ]
            ],
            "type": "histogram2d"
           }
          ],
          "histogram2dcontour": [
           {
            "colorbar": {
             "outlinewidth": 0,
             "ticks": ""
            },
            "colorscale": [
             [
              0,
              "#0d0887"
             ],
             [
              0.1111111111111111,
              "#46039f"
             ],
             [
              0.2222222222222222,
              "#7201a8"
             ],
             [
              0.3333333333333333,
              "#9c179e"
             ],
             [
              0.4444444444444444,
              "#bd3786"
             ],
             [
              0.5555555555555556,
              "#d8576b"
             ],
             [
              0.6666666666666666,
              "#ed7953"
             ],
             [
              0.7777777777777778,
              "#fb9f3a"
             ],
             [
              0.8888888888888888,
              "#fdca26"
             ],
             [
              1,
              "#f0f921"
             ]
            ],
            "type": "histogram2dcontour"
           }
          ],
          "mesh3d": [
           {
            "colorbar": {
             "outlinewidth": 0,
             "ticks": ""
            },
            "type": "mesh3d"
           }
          ],
          "parcoords": [
           {
            "line": {
             "colorbar": {
              "outlinewidth": 0,
              "ticks": ""
             }
            },
            "type": "parcoords"
           }
          ],
          "pie": [
           {
            "automargin": true,
            "type": "pie"
           }
          ],
          "scatter": [
           {
            "marker": {
             "colorbar": {
              "outlinewidth": 0,
              "ticks": ""
             }
            },
            "type": "scatter"
           }
          ],
          "scatter3d": [
           {
            "line": {
             "colorbar": {
              "outlinewidth": 0,
              "ticks": ""
             }
            },
            "marker": {
             "colorbar": {
              "outlinewidth": 0,
              "ticks": ""
             }
            },
            "type": "scatter3d"
           }
          ],
          "scattercarpet": [
           {
            "marker": {
             "colorbar": {
              "outlinewidth": 0,
              "ticks": ""
             }
            },
            "type": "scattercarpet"
           }
          ],
          "scattergeo": [
           {
            "marker": {
             "colorbar": {
              "outlinewidth": 0,
              "ticks": ""
             }
            },
            "type": "scattergeo"
           }
          ],
          "scattergl": [
           {
            "marker": {
             "colorbar": {
              "outlinewidth": 0,
              "ticks": ""
             }
            },
            "type": "scattergl"
           }
          ],
          "scattermapbox": [
           {
            "marker": {
             "colorbar": {
              "outlinewidth": 0,
              "ticks": ""
             }
            },
            "type": "scattermapbox"
           }
          ],
          "scatterpolar": [
           {
            "marker": {
             "colorbar": {
              "outlinewidth": 0,
              "ticks": ""
             }
            },
            "type": "scatterpolar"
           }
          ],
          "scatterpolargl": [
           {
            "marker": {
             "colorbar": {
              "outlinewidth": 0,
              "ticks": ""
             }
            },
            "type": "scatterpolargl"
           }
          ],
          "scatterternary": [
           {
            "marker": {
             "colorbar": {
              "outlinewidth": 0,
              "ticks": ""
             }
            },
            "type": "scatterternary"
           }
          ],
          "surface": [
           {
            "colorbar": {
             "outlinewidth": 0,
             "ticks": ""
            },
            "colorscale": [
             [
              0,
              "#0d0887"
             ],
             [
              0.1111111111111111,
              "#46039f"
             ],
             [
              0.2222222222222222,
              "#7201a8"
             ],
             [
              0.3333333333333333,
              "#9c179e"
             ],
             [
              0.4444444444444444,
              "#bd3786"
             ],
             [
              0.5555555555555556,
              "#d8576b"
             ],
             [
              0.6666666666666666,
              "#ed7953"
             ],
             [
              0.7777777777777778,
              "#fb9f3a"
             ],
             [
              0.8888888888888888,
              "#fdca26"
             ],
             [
              1,
              "#f0f921"
             ]
            ],
            "type": "surface"
           }
          ],
          "table": [
           {
            "cells": {
             "fill": {
              "color": "#EBF0F8"
             },
             "line": {
              "color": "white"
             }
            },
            "header": {
             "fill": {
              "color": "#C8D4E3"
             },
             "line": {
              "color": "white"
             }
            },
            "type": "table"
           }
          ]
         },
         "layout": {
          "annotationdefaults": {
           "arrowcolor": "#2a3f5f",
           "arrowhead": 0,
           "arrowwidth": 1
          },
          "autotypenumbers": "strict",
          "coloraxis": {
           "colorbar": {
            "outlinewidth": 0,
            "ticks": ""
           }
          },
          "colorscale": {
           "diverging": [
            [
             0,
             "#8e0152"
            ],
            [
             0.1,
             "#c51b7d"
            ],
            [
             0.2,
             "#de77ae"
            ],
            [
             0.3,
             "#f1b6da"
            ],
            [
             0.4,
             "#fde0ef"
            ],
            [
             0.5,
             "#f7f7f7"
            ],
            [
             0.6,
             "#e6f5d0"
            ],
            [
             0.7,
             "#b8e186"
            ],
            [
             0.8,
             "#7fbc41"
            ],
            [
             0.9,
             "#4d9221"
            ],
            [
             1,
             "#276419"
            ]
           ],
           "sequential": [
            [
             0,
             "#0d0887"
            ],
            [
             0.1111111111111111,
             "#46039f"
            ],
            [
             0.2222222222222222,
             "#7201a8"
            ],
            [
             0.3333333333333333,
             "#9c179e"
            ],
            [
             0.4444444444444444,
             "#bd3786"
            ],
            [
             0.5555555555555556,
             "#d8576b"
            ],
            [
             0.6666666666666666,
             "#ed7953"
            ],
            [
             0.7777777777777778,
             "#fb9f3a"
            ],
            [
             0.8888888888888888,
             "#fdca26"
            ],
            [
             1,
             "#f0f921"
            ]
           ],
           "sequentialminus": [
            [
             0,
             "#0d0887"
            ],
            [
             0.1111111111111111,
             "#46039f"
            ],
            [
             0.2222222222222222,
             "#7201a8"
            ],
            [
             0.3333333333333333,
             "#9c179e"
            ],
            [
             0.4444444444444444,
             "#bd3786"
            ],
            [
             0.5555555555555556,
             "#d8576b"
            ],
            [
             0.6666666666666666,
             "#ed7953"
            ],
            [
             0.7777777777777778,
             "#fb9f3a"
            ],
            [
             0.8888888888888888,
             "#fdca26"
            ],
            [
             1,
             "#f0f921"
            ]
           ]
          },
          "colorway": [
           "#636efa",
           "#EF553B",
           "#00cc96",
           "#ab63fa",
           "#FFA15A",
           "#19d3f3",
           "#FF6692",
           "#B6E880",
           "#FF97FF",
           "#FECB52"
          ],
          "font": {
           "color": "#2a3f5f"
          },
          "geo": {
           "bgcolor": "white",
           "lakecolor": "white",
           "landcolor": "#E5ECF6",
           "showlakes": true,
           "showland": true,
           "subunitcolor": "white"
          },
          "hoverlabel": {
           "align": "left"
          },
          "hovermode": "closest",
          "mapbox": {
           "style": "light"
          },
          "paper_bgcolor": "white",
          "plot_bgcolor": "#E5ECF6",
          "polar": {
           "angularaxis": {
            "gridcolor": "white",
            "linecolor": "white",
            "ticks": ""
           },
           "bgcolor": "#E5ECF6",
           "radialaxis": {
            "gridcolor": "white",
            "linecolor": "white",
            "ticks": ""
           }
          },
          "scene": {
           "xaxis": {
            "backgroundcolor": "#E5ECF6",
            "gridcolor": "white",
            "gridwidth": 2,
            "linecolor": "white",
            "showbackground": true,
            "ticks": "",
            "zerolinecolor": "white"
           },
           "yaxis": {
            "backgroundcolor": "#E5ECF6",
            "gridcolor": "white",
            "gridwidth": 2,
            "linecolor": "white",
            "showbackground": true,
            "ticks": "",
            "zerolinecolor": "white"
           },
           "zaxis": {
            "backgroundcolor": "#E5ECF6",
            "gridcolor": "white",
            "gridwidth": 2,
            "linecolor": "white",
            "showbackground": true,
            "ticks": "",
            "zerolinecolor": "white"
           }
          },
          "shapedefaults": {
           "line": {
            "color": "#2a3f5f"
           }
          },
          "ternary": {
           "aaxis": {
            "gridcolor": "white",
            "linecolor": "white",
            "ticks": ""
           },
           "baxis": {
            "gridcolor": "white",
            "linecolor": "white",
            "ticks": ""
           },
           "bgcolor": "#E5ECF6",
           "caxis": {
            "gridcolor": "white",
            "linecolor": "white",
            "ticks": ""
           }
          },
          "title": {
           "x": 0.05
          },
          "xaxis": {
           "automargin": true,
           "gridcolor": "white",
           "linecolor": "white",
           "ticks": "",
           "title": {
            "standoff": 15
           },
           "zerolinecolor": "white",
           "zerolinewidth": 2
          },
          "yaxis": {
           "automargin": true,
           "gridcolor": "white",
           "linecolor": "white",
           "ticks": "",
           "title": {
            "standoff": 15
           },
           "zerolinecolor": "white",
           "zerolinewidth": 2
          }
         }
        },
        "title": "Top 5 pokemons com IAP mais próximos de: rapidash",
        "width": 985,
        "xaxis": {
         "fixedrange": true,
         "side": "top"
        },
        "yaxis": {
         "fixedrange": true,
         "visible": false
        }
       }
      },
      "image/png": "[encoded data removed]",
      "image/svg+xml": [
       "<svg class=\"main-svg\" xmlns=\"http://www.w3.org/2000/svg\" xmlns:xlink=\"http://www.w3.org/1999/xlink\" width=\"700\" height=\"500\" style=\"\" viewBox=\"0 0 700 500\"><rect x=\"0\" y=\"0\" width=\"700\" height=\"500\" style=\"fill: rgb(235, 219, 171); fill-opacity: 1;\"/><defs id=\"defs-78c85d\"><g class=\"clips\"><clipPath id=\"clip78c85dxyplot\" class=\"plotclip\"><rect width=\"548\" height=\"420\"/></clipPath><clipPath class=\"axesclip\" id=\"clip78c85dx\"><rect x=\"50\" y=\"0\" width=\"548\" height=\"500\"/></clipPath><clipPath class=\"axesclip\" id=\"clip78c85dy\"><rect x=\"0\" y=\"50\" width=\"700\" height=\"420\"/></clipPath><clipPath class=\"axesclip\" id=\"clip78c85dxy\"><rect x=\"50\" y=\"50\" width=\"548\" height=\"420\"/></clipPath></g><g class=\"gradients\"><linearGradient x1=\"0\" x2=\"0\" y1=\"1\" y2=\"0\" id=\"g78c85d-cb23f3a6\"><stop offset=\"0%\" stop-color=\"rgb(0, 0, 131)\" stop-opacity=\"1\"/><stop offset=\"12.5%\" stop-color=\"rgb(0, 60, 170)\" stop-opacity=\"1\"/><stop offset=\"37.5%\" stop-color=\"rgb(5, 255, 255)\" stop-opacity=\"1\"/><stop offset=\"62.5%\" stop-color=\"rgb(255, 255, 0)\" stop-opacity=\"1\"/><stop offset=\"87.5%\" stop-color=\"rgb(250, 0, 0)\" stop-opacity=\"1\"/><stop offset=\"100%\" stop-color=\"rgb(128, 0, 0)\" stop-opacity=\"1\"/></linearGradient></g><g class=\"patterns\"/></defs><g class=\"bglayer\"><rect class=\"bg\" x=\"50\" y=\"50\" width=\"548\" height=\"420\" style=\"fill: rgb(229, 236, 246); fill-opacity: 1; stroke-width: 0;\"/></g><g class=\"layer-below\"><g class=\"imagelayer\"/><g class=\"shapelayer\"/></g><g class=\"cartesianlayer\"><g class=\"subplot xy\"><g class=\"layer-subplot\"><g class=\"shapelayer\"/><g class=\"imagelayer\"/></g><g class=\"gridlayer\"><g class=\"x\"><path class=\"xgrid crisp\" transform=\"translate(104.8,0)\" d=\"M0,50v420\" style=\"stroke: rgb(255, 255, 255); stroke-opacity: 1; stroke-width: 1px;\"/><path class=\"xgrid crisp\" transform=\"translate(214.4,0)\" d=\"M0,50v420\" style=\"stroke: rgb(255, 255, 255); stroke-opacity: 1; stroke-width: 1px;\"/><path class=\"xgrid crisp\" transform=\"translate(324,0)\" d=\"M0,50v420\" style=\"stroke: rgb(255, 255, 255); stroke-opacity: 1; stroke-width: 1px;\"/><path class=\"xgrid crisp\" transform=\"translate(433.6,0)\" d=\"M0,50v420\" style=\"stroke: rgb(255, 255, 255); stroke-opacity: 1; stroke-width: 1px;\"/><path class=\"xgrid crisp\" transform=\"translate(543.2,0)\" d=\"M0,50v420\" style=\"stroke: rgb(255, 255, 255); stroke-opacity: 1; stroke-width: 1px;\"/></g><g class=\"y\"/></g><g class=\"zerolinelayer\"/><path class=\"xlines-below\"/><path class=\"ylines-below\"/><g class=\"overlines-below\"/><g class=\"xaxislayer-below\"/><g class=\"yaxislayer-below\"/><g class=\"overaxes-below\"/><g class=\"plot\" transform=\"translate(50,50)\" clip-path=\"url(#clip78c85dxyplot)\"><g class=\"heatmaplayer mlayer\"><g class=\"hm\"><image xmlns=\"http://www.w3.org/2000/svg\" preserveAspectRatio=\"none\" height=\"420\" width=\"548\" x=\"0\" y=\"0\" xlink:href=\"data:image/png;base64,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\" style=\"opacity: 1;\"/></g></g></g><g class=\"overplot\"/><path class=\"xlines-above crisp\" d=\"M0,0\" style=\"fill: none;\"/><path class=\"ylines-above crisp\" d=\"M0,0\" style=\"fill: none;\"/><g class=\"overlines-above\"/><g class=\"xaxislayer-above\"><g class=\"xtick\"><text text-anchor=\"middle\" x=\"0\" y=\"46.2\" transform=\"translate(104.8,0)\" style=\"font-family: 'Arial Black'; font-size: 14px; fill: rgb(0, 0, 0); fill-opacity: 1; white-space: pre; opacity: 1;\">1º raichu</text></g><g class=\"xtick\"><text text-anchor=\"middle\" x=\"0\" y=\"46.2\" transform=\"translate(214.4,0)\" style=\"font-family: 'Arial Black'; font-size: 14px; fill: rgb(0, 0, 0); fill-opacity: 1; white-space: pre; opacity: 1;\">2º electabuzz</text></g><g class=\"xtick\"><text text-anchor=\"middle\" x=\"0\" y=\"46.2\" transform=\"translate(324,0)\" style=\"font-family: 'Arial Black'; font-size: 14px; fill: rgb(0, 0, 0); fill-opacity: 1; white-space: pre; opacity: 1;\">3º primeape</text></g><g class=\"xtick\"><text text-anchor=\"middle\" x=\"0\" y=\"46.2\" transform=\"translate(433.6,0)\" style=\"font-family: 'Arial Black'; font-size: 14px; fill: rgb(0, 0, 0); fill-opacity: 1; white-space: pre; opacity: 1;\">4º nidoking</text></g><g class=\"xtick\"><text text-anchor=\"middle\" x=\"0\" y=\"46.2\" transform=\"translate(543.2,0)\" style=\"font-family: 'Arial Black'; font-size: 14px; fill: rgb(0, 0, 0); fill-opacity: 1; white-space: pre; opacity: 1;\">5º magmar</text></g></g><g class=\"yaxislayer-above\"/><g class=\"overaxes-above\"/></g></g><g class=\"polarlayer\"/><g class=\"ternarylayer\"/><g class=\"geolayer\"/><g class=\"funnelarealayer\"/><g class=\"pielayer\"/><g class=\"iciclelayer\"/><g class=\"treemaplayer\"/><g class=\"sunburstlayer\"/><g class=\"glimages\"/><defs id=\"topdefs-78c85d\"><g class=\"clips\"/></defs><g class=\"layer-above\"><g class=\"imagelayer\"><image xmlns=\"http://www.w3.org/2000/svg\" x=\"30.820000000000007\" y=\"-23.5\" width=\"147.95999999999998\" height=\"567\" preserveAspectRatio=\"xMidYMid\" opacity=\"1\" clip-path=\"url(#clip78c85dxy)\" xlink:href=\"data:image/png;base64,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\"/><image xmlns=\"http://www.w3.org/2000/svg\" x=\"140.42000000000002\" y=\"-23.5\" width=\"147.95999999999998\" height=\"567\" preserveAspectRatio=\"xMidYMid\" opacity=\"1\" clip-path=\"url(#clip78c85dxy)\" xlink:href=\"data:image/png;base64,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\"/><image xmlns=\"http://www.w3.org/2000/svg\" x=\"250.02\" y=\"-23.5\" width=\"147.95999999999998\" height=\"567\" preserveAspectRatio=\"xMidYMid\" opacity=\"1\" clip-path=\"url(#clip78c85dxy)\" xlink:href=\"data:image/png;base64,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\"/><image xmlns=\"http://www.w3.org/2000/svg\" x=\"359.62\" y=\"-23.5\" width=\"147.95999999999998\" height=\"567\" preserveAspectRatio=\"xMidYMid\" opacity=\"1\" clip-path=\"url(#clip78c85dxy)\" xlink:href=\"data:image/png;base64,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\"/><image xmlns=\"http://www.w3.org/2000/svg\" x=\"469.22\" y=\"-23.5\" width=\"147.95999999999998\" height=\"567\" preserveAspectRatio=\"xMidYMid\" opacity=\"1\" clip-path=\"url(#clip78c85dxy)\" xlink:href=\"data:image/png;base64,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\"/></g><g class=\"shapelayer\"/></g><g class=\"infolayer\"><g class=\"cb23f3a6 colorbar\" transform=\"translate(50,50)\"><rect class=\"cbbg\" x=\"559\" y=\"0\" width=\"78.6875\" height=\"420\" style=\"fill: rgb(0, 0, 0); fill-opacity: 0; stroke: rgb(68, 68, 68); stroke-opacity: 1; stroke-width: 0;\"/><g class=\"cbfills\" transform=\"translate(0,10)\"><rect class=\"cbfill\" x=\"569\" width=\"30\" y=\"0\" height=\"400\" style=\"fill: url('#g78c85d-cb23f3a6');\"/></g><g class=\"cblines\" transform=\"translate(0,10)\"/><g class=\"cbaxis crisp\" transform=\"translate(0,-50)\"><g class=\"ycb23f3a6tick\"><text text-anchor=\"start\" x=\"602.3\" y=\"4.8999999999999995\" transform=\"translate(0,460)\" style=\"font-family: 'Arial Black'; font-size: 14px; fill: rgb(0, 0, 0); fill-opacity: 1; white-space: pre; opacity: 1;\">0</text></g><g class=\"ycb23f3a6tick\"><text text-anchor=\"start\" x=\"602.3\" y=\"4.8999999999999995\" style=\"font-family: 'Arial Black'; font-size: 14px; fill: rgb(0, 0, 0); fill-opacity: 1; white-space: pre; opacity: 1;\" transform=\"translate(0,380)\">20</text></g><g class=\"ycb23f3a6tick\"><text text-anchor=\"start\" x=\"602.3\" y=\"4.8999999999999995\" style=\"font-family: 'Arial Black'; font-size: 14px; fill: rgb(0, 0, 0); fill-opacity: 1; white-space: pre; opacity: 1;\" transform=\"translate(0,300)\">40</text></g><g class=\"ycb23f3a6tick\"><text text-anchor=\"start\" x=\"602.3\" y=\"4.8999999999999995\" style=\"font-family: 'Arial Black'; font-size: 14px; fill: rgb(0, 0, 0); fill-opacity: 1; white-space: pre; opacity: 1;\" transform=\"translate(0,220)\">60</text></g><g class=\"ycb23f3a6tick\"><text text-anchor=\"start\" x=\"602.3\" y=\"4.8999999999999995\" style=\"font-family: 'Arial Black'; font-size: 14px; fill: rgb(0, 0, 0); fill-opacity: 1; white-space: pre; opacity: 1;\" transform=\"translate(0,140)\">80</text></g><g class=\"ycb23f3a6tick\"><text text-anchor=\"start\" x=\"602.3\" y=\"4.8999999999999995\" style=\"font-family: 'Arial Black'; font-size: 14px; fill: rgb(0, 0, 0); fill-opacity: 1; white-space: pre; opacity: 1;\" transform=\"translate(0,60.000000000000014)\">100</text></g></g><g class=\"cbtitleunshift\" transform=\"translate(-50,-50)\"><g class=\"cbtitle\"/></g><rect class=\"cboutline\" x=\"569\" y=\"10\" width=\"30\" height=\"400\" style=\"stroke: rgb(68, 68, 68); stroke-opacity: 1; fill: none; stroke-width: 0;\"/></g><g class=\"g-gtitle\"><text class=\"gtitle\" x=\"35\" y=\"25\" text-anchor=\"start\" dy=\"0em\" style=\"font-family: 'Arial Black'; font-size: 20px; fill: rgb(0, 0, 0); opacity: 1; font-weight: normal; white-space: pre;\">Top 5 pokemons com IAP mais próximos de: rapidash</text></g><g class=\"g-xtitle\"/><g class=\"annotation\" data-index=\"0\" style=\"opacity: 1;\"><g class=\"annotation-text-g\" transform=\"rotate(0,104.8,93)\"><g class=\"cursor-pointer\" transform=\"translate(72,82)\"><rect class=\"bg\" x=\"0.5\" y=\"0.5\" width=\"64\" height=\"22\" style=\"stroke-width: 1px; stroke: rgb(0, 0, 0); stroke-opacity: 0; fill: rgb(0, 0, 0); fill-opacity: 0;\"/><text class=\"annotation-text\" text-anchor=\"middle\" x=\"32.359375\" y=\"17\" style=\"font-family: 'Arial Black'; font-size: 14px; fill: rgb(0, 0, 0); fill-opacity: 1; white-space: pre;\">21.6757</text></g></g></g><g class=\"annotation\" data-index=\"1\" style=\"opacity: 1;\"><g class=\"annotation-text-g\" transform=\"rotate(0,214.4,93)\"><g class=\"cursor-pointer\" transform=\"translate(182,82)\"><rect class=\"bg\" x=\"0.5\" y=\"0.5\" width=\"64\" height=\"22\" style=\"stroke-width: 1px; stroke: rgb(0, 0, 0); stroke-opacity: 0; fill: rgb(0, 0, 0); fill-opacity: 0;\"/><text class=\"annotation-text\" text-anchor=\"middle\" x=\"32.359375\" y=\"17\" style=\"font-family: 'Arial Black'; font-size: 14px; fill: rgb(0, 0, 0); fill-opacity: 1; white-space: pre;\">26.3887</text></g></g></g><g class=\"annotation\" data-index=\"2\" style=\"opacity: 1;\"><g class=\"annotation-text-g\" transform=\"rotate(0,324,93)\"><g class=\"cursor-pointer\" transform=\"translate(292,82)\"><rect class=\"bg\" x=\"0.5\" y=\"0.5\" width=\"64\" height=\"22\" style=\"stroke-width: 1px; stroke: rgb(0, 0, 0); stroke-opacity: 0; fill: rgb(0, 0, 0); fill-opacity: 0;\"/><text class=\"annotation-text\" text-anchor=\"middle\" x=\"32.359375\" y=\"17\" style=\"font-family: 'Arial Black'; font-size: 14px; fill: rgb(0, 0, 0); fill-opacity: 1; white-space: pre;\">26.7719</text></g></g></g><g class=\"annotation\" data-index=\"3\" style=\"opacity: 1;\"><g class=\"annotation-text-g\" transform=\"rotate(0,433.6,93)\"><g class=\"cursor-pointer\" transform=\"translate(401,82)\"><rect class=\"bg\" x=\"0.5\" y=\"0.5\" width=\"64\" height=\"22\" style=\"stroke-width: 1px; stroke: rgb(0, 0, 0); stroke-opacity: 0; fill: rgb(0, 0, 0); fill-opacity: 0;\"/><text class=\"annotation-text\" text-anchor=\"middle\" x=\"32.359375\" y=\"17\" style=\"font-family: 'Arial Black'; font-size: 14px; fill: rgb(0, 0, 0); fill-opacity: 1; white-space: pre;\">27.3066</text></g></g></g><g class=\"annotation\" data-index=\"4\" style=\"opacity: 1;\"><g class=\"annotation-text-g\" transform=\"rotate(0,543.2,93)\"><g class=\"cursor-pointer\" transform=\"translate(511,82)\"><rect class=\"bg\" x=\"0.5\" y=\"0.5\" width=\"64\" height=\"22\" style=\"stroke-width: 1px; stroke: rgb(0, 0, 0); stroke-opacity: 0; fill: rgb(0, 0, 0); fill-opacity: 0;\"/><text class=\"annotation-text\" text-anchor=\"middle\" x=\"32.359375\" y=\"17\" style=\"font-family: 'Arial Black'; font-size: 14px; fill: rgb(0, 0, 0); fill-opacity: 1; white-space: pre;\">27.3761</text></g></g></g></g></svg>"
      ],
      "text/html": [
       "<div\n",
       "    class=\"webio-mountpoint\"\n",
       "    data-webio-mountpoint=\"2862536821660520594\"\n",
       ">\n",
       "    <script>\n",
       "    (function(){\n",
       "    // Some integrations (namely, IJulia/Jupyter) use an alternate render pathway than\n",
       "    // just putting the html on the page. If WebIO isn't defined, then it's pretty likely\n",
       "    // that we're in one of those situations and the integration just isn't installed\n",
       "    // correctly.\n",
       "    if (typeof window.WebIO === \"undefined\") {\n",
       "        document\n",
       "            .querySelector('[data-webio-mountpoint=\"2862536821660520594\"]')\n",
       "            .innerHTML = (\n",
       "                '<div style=\"padding: 1em; background-color: #f8d6da; border: 1px solid #f5c6cb; font-weight: bold;\">' +\n",
       "                '<p><strong>WebIO not detected.</strong></p>' +\n",
       "                '<p>Please read ' +\n",
       "                '<a href=\"https://juliagizmos.github.io/WebIO.jl/latest/troubleshooting/not-detected/\" target=\"_blank\">the troubleshooting guide</a> ' +\n",
       "                'for more information on how to resolve this issue.</p>' +\n",
       "                '<p><a href=\"https://juliagizmos.github.io/WebIO.jl/latest/troubleshooting/not-detected/\" target=\"_blank\">https://juliagizmos.github.io/WebIO.jl/latest/troubleshooting/not-detected/</a></p>' +\n",
       "                '</div>'\n",
       "            );\n",
       "        return;\n",
       "    }\n",
       "    WebIO.mount(\n",
       "        document.querySelector('[data-webio-mountpoint=\"2862536821660520594\"]'),\n",
       "        {\"props\":{},\"nodeType\":\"Scope\",\"type\":\"node\",\"instanceArgs\":{\"imports\":{\"data\":[{\"name\":\"Plotly\",\"type\":\"js\",\"url\":\"\\/assetserver\\/53a7aadb162a8ed394abcda57c2b6e741dfa1bbf-plotly.min.js\"},{\"name\":null,\"type\":\"js\",\"url\":\"\\/assetserver\\/6711c1456783a56df2a429d652f48fa138f5bf84-plotly_webio.bundle.js\"}],\"type\":\"async_block\"},\"id\":\"18069016420908369049\",\"handlers\":{\"_toImage\":[\"(function (options){return this.Plotly.toImage(this.plotElem,options).then((function (data){return WebIO.setval({\\\"name\\\":\\\"image\\\",\\\"scope\\\":\\\"18069016420908369049\\\",\\\"id\\\":\\\"1695\\\",\\\"type\\\":\\\"observable\\\"},data)}))})\"],\"__get_gd_contents\":[\"(function (prop){prop==\\\"data\\\" ? (WebIO.setval({\\\"name\\\":\\\"__gd_contents\\\",\\\"scope\\\":\\\"18069016420908369049\\\",\\\"id\\\":\\\"1696\\\",\\\"type\\\":\\\"observable\\\"},this.plotElem.data)) : undefined; return prop==\\\"layout\\\" ? (WebIO.setval({\\\"name\\\":\\\"__gd_contents\\\",\\\"scope\\\":\\\"18069016420908369049\\\",\\\"id\\\":\\\"1696\\\",\\\"type\\\":\\\"observable\\\"},this.plotElem.layout)) : undefined})\"],\"_downloadImage\":[\"(function (options){return this.Plotly.downloadImage(this.plotElem,options)})\"],\"_commands\":[\"(function (args){var fn=args.shift(); var elem=this.plotElem; var Plotly=this.Plotly; args.unshift(elem); return Plotly[fn].apply(this,args)})\"]},\"systemjs_options\":null,\"mount_callbacks\":[\"function () {\\n    var handler = ((function (Plotly,PlotlyWebIO){PlotlyWebIO.init(WebIO); var gd=this.dom.querySelector(\\\"#plot-ef877f56-12c9-4248-9fca-df6fb2103312\\\"); this.plotElem=gd; this.Plotly=Plotly; (window.Blink!==undefined) ? (gd.style.width=\\\"100%\\\", gd.style.height=\\\"100vh\\\", gd.style.marginLeft=\\\"0%\\\", gd.style.marginTop=\\\"0vh\\\") : undefined; window.onresize=(function (){return Plotly.Plots.resize(gd)}); Plotly.newPlot(gd,[{\\\"zmax\\\":100,\\\"y\\\":[\\\"\\\"],\\\"type\\\":\\\"heatmap\\\",\\\"zmin\\\":0,\\\"colorscale\\\":\\\"Jet\\\",\\\"z\\\":[[21.675684078349363],[26.38873309041054],[26.77185527372197],[27.306581704617976],[27.376067120722496]],\\\"transpose\\\":true,\\\"showscale\\\":true,\\\"x\\\":[\\\"1º raichu\\\",\\\"2º electabuzz\\\",\\\"3º primeape\\\",\\\"4º nidoking\\\",\\\"5º magmar\\\"]}],{\\\"coloraxis\\\":{\\\"colorbar\\\":{\\\"tickvals\\\":[0,50,100],\\\"title\\\":\\\"IAP\\\",\\\"ticktext\\\":[\\\"Baixo\\\",\\\"Médio\\\",\\\"Alto\\\"]}},\\\"xaxis\\\":{\\\"fixedrange\\\":true,\\\"side\\\":\\\"top\\\"},\\\"paper_bgcolor\\\":\\\"#EBDBAB\\\",\\\"template\\\":{\\\"layout\\\":{\\\"coloraxis\\\":{\\\"colorbar\\\":{\\\"ticks\\\":\\\"\\\",\\\"outlinewidth\\\":0}},\\\"xaxis\\\":{\\\"gridcolor\\\":\\\"white\\\",\\\"zerolinewidth\\\":2,\\\"title\\\":{\\\"standoff\\\":15},\\\"ticks\\\":\\\"\\\",\\\"zerolinecolor\\\":\\\"white\\\",\\\"automargin\\\":true,\\\"linecolor\\\":\\\"white\\\"},\\\"hovermode\\\":\\\"closest\\\",\\\"paper_bgcolor\\\":\\\"white\\\",\\\"geo\\\":{\\\"showlakes\\\":true,\\\"showland\\\":true,\\\"landcolor\\\":\\\"#E5ECF6\\\",\\\"bgcolor\\\":\\\"white\\\",\\\"subunitcolor\\\":\\\"white\\\",\\\"lakecolor\\\":\\\"white\\\"},\\\"colorscale\\\":{\\\"sequential\\\":[[0.0,\\\"#0d0887\\\"],[0.1111111111111111,\\\"#46039f\\\"],[0.2222222222222222,\\\"#7201a8\\\"],[0.3333333333333333,\\\"#9c179e\\\"],[0.4444444444444444,\\\"#bd3786\\\"],[0.5555555555555556,\\\"#d8576b\\\"],[0.6666666666666666,\\\"#ed7953\\\"],[0.7777777777777778,\\\"#fb9f3a\\\"],[0.8888888888888888,\\\"#fdca26\\\"],[1.0,\\\"#f0f921\\\"]],\\\"diverging\\\":[[0,\\\"#8e0152\\\"],[0.1,\\\"#c51b7d\\\"],[0.2,\\\"#de77ae\\\"],[0.3,\\\"#f1b6da\\\"],[0.4,\\\"#fde0ef\\\"],[0.5,\\\"#f7f7f7\\\"],[0.6,\\\"#e6f5d0\\\"],[0.7,\\\"#b8e186\\\"],[0.8,\\\"#7fbc41\\\"],[0.9,\\\"#4d9221\\\"],[1,\\\"#276419\\\"]],\\\"sequentialminus\\\":[[0.0,\\\"#0d0887\\\"],[0.1111111111111111,\\\"#46039f\\\"],[0.2222222222222222,\\\"#7201a8\\\"],[0.3333333333333333,\\\"#9c179e\\\"],[0.4444444444444444,\\\"#bd3786\\\"],[0.5555555555555556,\\\"#d8576b\\\"],[0.6666666666666666,\\\"#ed7953\\\"],[0.7777777777777778,\\\"#fb9f3a\\\"],[0.8888888888888888,\\\"#fdca26\\\"],[1.0,\\\"#f0f921\\\"]]},\\\"yaxis\\\":{\\\"gridcolor\\\":\\\"white\\\",\\\"zerolinewidth\\\":2,\\\"title\\\":{\\\"standoff\\\":15},\\\"ticks\\\":\\\"\\\",\\\"zerolinecolor\\\":\\\"white\\\",\\\"automargin\\\":true,\\\"linecolor\\\":\\\"white\\\"},\\\"shapedefaults\\\":{\\\"line\\\":{\\\"color\\\":\\\"#2a3f5f\\\"}},\\\"hoverlabel\\\":{\\\"align\\\":\\\"left\\\"},\\\"mapbox\\\":{\\\"style\\\":\\\"light\\\"},\\\"polar\\\":{\\\"angularaxis\\\":{\\\"gridcolor\\\":\\\"white\\\",\\\"ticks\\\":\\\"\\\",\\\"linecolor\\\":\\\"white\\\"},\\\"bgcolor\\\":\\\"#E5ECF6\\\",\\\"radialaxis\\\":{\\\"gridcolor\\\":\\\"white\\\",\\\"ticks\\\":\\\"\\\",\\\"linecolor\\\":\\\"white\\\"}},\\\"autotypenumbers\\\":\\\"strict\\\",\\\"font\\\":{\\\"color\\\":\\\"#2a3f5f\\\"},\\\"ternary\\\":{\\\"baxis\\\":{\\\"gridcolor\\\":\\\"white\\\",\\\"ticks\\\":\\\"\\\",\\\"linecolor\\\":\\\"white\\\"},\\\"bgcolor\\\":\\\"#E5ECF6\\\",\\\"caxis\\\":{\\\"gridcolor\\\":\\\"white\\\",\\\"ticks\\\":\\\"\\\",\\\"linecolor\\\":\\\"white\\\"},\\\"aaxis\\\":{\\\"gridcolor\\\":\\\"white\\\",\\\"ticks\\\":\\\"\\\",\\\"linecolor\\\":\\\"white\\\"}},\\\"annotationdefaults\\\":{\\\"arrowhead\\\":0,\\\"arrowwidth\\\":1,\\\"arrowcolor\\\":\\\"#2a3f5f\\\"},\\\"plot_bgcolor\\\":\\\"#E5ECF6\\\",\\\"title\\\":{\\\"x\\\":0.05},\\\"scene\\\":{\\\"xaxis\\\":{\\\"gridcolor\\\":\\\"white\\\",\\\"gridwidth\\\":2,\\\"backgroundcolor\\\":\\\"#E5ECF6\\\",\\\"ticks\\\":\\\"\\\",\\\"showbackground\\\":true,\\\"zerolinecolor\\\":\\\"white\\\",\\\"linecolor\\\":\\\"white\\\"},\\\"zaxis\\\":{\\\"gridcolor\\\":\\\"white\\\",\\\"gridwidth\\\":2,\\\"backgroundcolor\\\":\\\"#E5ECF6\\\",\\\"ticks\\\":\\\"\\\",\\\"showbackground\\\":true,\\\"zerolinecolor\\\":\\\"white\\\",\\\"linecolor\\\":\\\"white\\\"},\\\"yaxis\\\":{\\\"gridcolor\\\":\\\"white\\\",\\\"gridwidth\\\":2,\\\"backgroundcolor\\\":\\\"#E5ECF6\\\",\\\"ticks\\\":\\\"\\\",\\\"showbackground\\\":true,\\\"zerolinecolor\\\":\\\"white\\\",\\\"linecolor\\\":\\\"white\\\"}},\\\"colorway\\\":[\\\"#636efa\\\",\\\"#EF553B\\\",\\\"#00cc96\\\",\\\"#ab63fa\\\",\\\"#FFA15A\\\",\\\"#19d3f3\\\",\\\"#FF6692\\\",\\\"#B6E880\\\",\\\"#FF97FF\\\",\\\"#FECB52\\\"]},\\\"data\\\":{\\\"barpolar\\\":[{\\\"type\\\":\\\"barpolar\\\",\\\"marker\\\":{\\\"line\\\":{\\\"color\\\":\\\"#E5ECF6\\\",\\\"width\\\":0.5}}}],\\\"carpet\\\":[{\\\"aaxis\\\":{\\\"gridcolor\\\":\\\"white\\\",\\\"endlinecolor\\\":\\\"#2a3f5f\\\",\\\"minorgridcolor\\\":\\\"white\\\",\\\"startlinecolor\\\":\\\"#2a3f5f\\\",\\\"linecolor\\\":\\\"white\\\"},\\\"type\\\":\\\"carpet\\\",\\\"baxis\\\":{\\\"gridcolor\\\":\\\"white\\\",\\\"endlinecolor\\\":\\\"#2a3f5f\\\",\\\"minorgridcolor\\\":\\\"white\\\",\\\"startlinecolor\\\":\\\"#2a3f5f\\\",\\\"linecolor\\\":\\\"white\\\"}}],\\\"scatterpolar\\\":[{\\\"type\\\":\\\"scatterpolar\\\",\\\"marker\\\":{\\\"colorbar\\\":{\\\"ticks\\\":\\\"\\\",\\\"outlinewidth\\\":0}}}],\\\"parcoords\\\":[{\\\"line\\\":{\\\"colorbar\\\":{\\\"ticks\\\":\\\"\\\",\\\"outlinewidth\\\":0}},\\\"type\\\":\\\"parcoords\\\"}],\\\"scatter\\\":[{\\\"type\\\":\\\"scatter\\\",\\\"marker\\\":{\\\"colorbar\\\":{\\\"ticks\\\":\\\"\\\",\\\"outlinewidth\\\":0}}}],\\\"histogram2dcontour\\\":[{\\\"colorbar\\\":{\\\"ticks\\\":\\\"\\\",\\\"outlinewidth\\\":0},\\\"type\\\":\\\"histogram2dcontour\\\",\\\"colorscale\\\":[[0.0,\\\"#0d0887\\\"],[0.1111111111111111,\\\"#46039f\\\"],[0.2222222222222222,\\\"#7201a8\\\"],[0.3333333333333333,\\\"#9c179e\\\"],[0.4444444444444444,\\\"#bd3786\\\"],[0.5555555555555556,\\\"#d8576b\\\"],[0.6666666666666666,\\\"#ed7953\\\"],[0.7777777777777778,\\\"#fb9f3a\\\"],[0.8888888888888888,\\\"#fdca26\\\"],[1.0,\\\"#f0f921\\\"]]}],\\\"contour\\\":[{\\\"colorbar\\\":{\\\"ticks\\\":\\\"\\\",\\\"outlinewidth\\\":0},\\\"type\\\":\\\"contour\\\",\\\"colorscale\\\":[[0.0,\\\"#0d0887\\\"],[0.1111111111111111,\\\"#46039f\\\"],[0.2222222222222222,\\\"#7201a8\\\"],[0.3333333333333333,\\\"#9c179e\\\"],[0.4444444444444444,\\\"#bd3786\\\"],[0.5555555555555556,\\\"#d8576b\\\"],[0.6666666666666666,\\\"#ed7953\\\"],[0.7777777777777778,\\\"#fb9f3a\\\"],[0.8888888888888888,\\\"#fdca26\\\"],[1.0,\\\"#f0f921\\\"]]}],\\\"scattercarpet\\\":[{\\\"type\\\":\\\"scattercarpet\\\",\\\"marker\\\":{\\\"colorbar\\\":{\\\"ticks\\\":\\\"\\\",\\\"outlinewidth\\\":0}}}],\\\"mesh3d\\\":[{\\\"colorbar\\\":{\\\"ticks\\\":\\\"\\\",\\\"outlinewidth\\\":0},\\\"type\\\":\\\"mesh3d\\\"}],\\\"surface\\\":[{\\\"colorbar\\\":{\\\"ticks\\\":\\\"\\\",\\\"outlinewidth\\\":0},\\\"type\\\":\\\"surface\\\",\\\"colorscale\\\":[[0.0,\\\"#0d0887\\\"],[0.1111111111111111,\\\"#46039f\\\"],[0.2222222222222222,\\\"#7201a8\\\"],[0.3333333333333333,\\\"#9c179e\\\"],[0.4444444444444444,\\\"#bd3786\\\"],[0.5555555555555556,\\\"#d8576b\\\"],[0.6666666666666666,\\\"#ed7953\\\"],[0.7777777777777778,\\\"#fb9f3a\\\"],[0.8888888888888888,\\\"#fdca26\\\"],[1.0,\\\"#f0f921\\\"]]}],\\\"scattermapbox\\\":[{\\\"type\\\":\\\"scattermapbox\\\",\\\"marker\\\":{\\\"colorbar\\\":{\\\"ticks\\\":\\\"\\\",\\\"outlinewidth\\\":0}}}],\\\"scattergeo\\\":[{\\\"type\\\":\\\"scattergeo\\\",\\\"marker\\\":{\\\"colorbar\\\":{\\\"ticks\\\":\\\"\\\",\\\"outlinewidth\\\":0}}}],\\\"histogram\\\":[{\\\"type\\\":\\\"histogram\\\",\\\"marker\\\":{\\\"colorbar\\\":{\\\"ticks\\\":\\\"\\\",\\\"outlinewidth\\\":0}}}],\\\"pie\\\":[{\\\"type\\\":\\\"pie\\\",\\\"automargin\\\":true}],\\\"choropleth\\\":[{\\\"colorbar\\\":{\\\"ticks\\\":\\\"\\\",\\\"outlinewidth\\\":0},\\\"type\\\":\\\"choropleth\\\"}],\\\"heatmapgl\\\":[{\\\"colorbar\\\":{\\\"ticks\\\":\\\"\\\",\\\"outlinewidth\\\":0},\\\"type\\\":\\\"heatmapgl\\\",\\\"colorscale\\\":[[0.0,\\\"#0d0887\\\"],[0.1111111111111111,\\\"#46039f\\\"],[0.2222222222222222,\\\"#7201a8\\\"],[0.3333333333333333,\\\"#9c179e\\\"],[0.4444444444444444,\\\"#bd3786\\\"],[0.5555555555555556,\\\"#d8576b\\\"],[0.6666666666666666,\\\"#ed7953\\\"],[0.7777777777777778,\\\"#fb9f3a\\\"],[0.8888888888888888,\\\"#fdca26\\\"],[1.0,\\\"#f0f921\\\"]]}],\\\"bar\\\":[{\\\"type\\\":\\\"bar\\\",\\\"error_y\\\":{\\\"color\\\":\\\"#2a3f5f\\\"},\\\"error_x\\\":{\\\"color\\\":\\\"#2a3f5f\\\"},\\\"marker\\\":{\\\"line\\\":{\\\"color\\\":\\\"#E5ECF6\\\",\\\"width\\\":0.5}}}],\\\"heatmap\\\":[{\\\"colorbar\\\":{\\\"ticks\\\":\\\"\\\",\\\"outlinewidth\\\":0},\\\"type\\\":\\\"heatmap\\\",\\\"colorscale\\\":[[0.0,\\\"#0d0887\\\"],[0.1111111111111111,\\\"#46039f\\\"],[0.2222222222222222,\\\"#7201a8\\\"],[0.3333333333333333,\\\"#9c179e\\\"],[0.4444444444444444,\\\"#bd3786\\\"],[0.5555555555555556,\\\"#d8576b\\\"],[0.6666666666666666,\\\"#ed7953\\\"],[0.7777777777777778,\\\"#fb9f3a\\\"],[0.8888888888888888,\\\"#fdca26\\\"],[1.0,\\\"#f0f921\\\"]]}],\\\"contourcarpet\\\":[{\\\"colorbar\\\":{\\\"ticks\\\":\\\"\\\",\\\"outlinewidth\\\":0},\\\"type\\\":\\\"contourcarpet\\\"}],\\\"table\\\":[{\\\"type\\\":\\\"table\\\",\\\"header\\\":{\\\"line\\\":{\\\"color\\\":\\\"white\\\"},\\\"fill\\\":{\\\"color\\\":\\\"#C8D4E3\\\"}},\\\"cells\\\":{\\\"line\\\":{\\\"color\\\":\\\"white\\\"},\\\"fill\\\":{\\\"color\\\":\\\"#EBF0F8\\\"}}}],\\\"scatter3d\\\":[{\\\"line\\\":{\\\"colorbar\\\":{\\\"ticks\\\":\\\"\\\",\\\"outlinewidth\\\":0}},\\\"type\\\":\\\"scatter3d\\\",\\\"marker\\\":{\\\"colorbar\\\":{\\\"ticks\\\":\\\"\\\",\\\"outlinewidth\\\":0}}}],\\\"scattergl\\\":[{\\\"type\\\":\\\"scattergl\\\",\\\"marker\\\":{\\\"colorbar\\\":{\\\"ticks\\\":\\\"\\\",\\\"outlinewidth\\\":0}}}],\\\"histogram2d\\\":[{\\\"colorbar\\\":{\\\"ticks\\\":\\\"\\\",\\\"outlinewidth\\\":0},\\\"type\\\":\\\"histogram2d\\\",\\\"colorscale\\\":[[0.0,\\\"#0d0887\\\"],[0.1111111111111111,\\\"#46039f\\\"],[0.2222222222222222,\\\"#7201a8\\\"],[0.3333333333333333,\\\"#9c179e\\\"],[0.4444444444444444,\\\"#bd3786\\\"],[0.5555555555555556,\\\"#d8576b\\\"],[0.6666666666666666,\\\"#ed7953\\\"],[0.7777777777777778,\\\"#fb9f3a\\\"],[0.8888888888888888,\\\"#fdca26\\\"],[1.0,\\\"#f0f921\\\"]]}],\\\"scatterternary\\\":[{\\\"type\\\":\\\"scatterternary\\\",\\\"marker\\\":{\\\"colorbar\\\":{\\\"ticks\\\":\\\"\\\",\\\"outlinewidth\\\":0}}}],\\\"scatterpolargl\\\":[{\\\"type\\\":\\\"scatterpolargl\\\",\\\"marker\\\":{\\\"colorbar\\\":{\\\"ticks\\\":\\\"\\\",\\\"outlinewidth\\\":0}}}]}},\\\"height\\\":300,\\\"yaxis\\\":{\\\"visible\\\":false,\\\"fixedrange\\\":true},\\\"images\\\":[{\\\"y\\\":0,\\\"yanchor\\\":\\\"middle\\\",\\\"sizex\\\":1.35,\\\"source\\\":\\\"https:\\/\\/raw.githubusercontent.com\\/PokeAPI\\/sprites\\/master\\/sprites\\/pokemon\\/26.png\\\",\\\"sizey\\\":1.35,\\\"x\\\":0,\\\"xref\\\":\\\"x\\\",\\\"yref\\\":\\\"y\\\",\\\"xanchor\\\":\\\"center\\\"},{\\\"y\\\":0,\\\"yanchor\\\":\\\"middle\\\",\\\"sizex\\\":1.35,\\\"source\\\":\\\"https:\\/\\/raw.githubusercontent.com\\/PokeAPI\\/sprites\\/master\\/sprites\\/pokemon\\/125.png\\\",\\\"sizey\\\":1.35,\\\"x\\\":1,\\\"xref\\\":\\\"x\\\",\\\"yref\\\":\\\"y\\\",\\\"xanchor\\\":\\\"center\\\"},{\\\"y\\\":0,\\\"yanchor\\\":\\\"middle\\\",\\\"sizex\\\":1.35,\\\"source\\\":\\\"https:\\/\\/raw.githubusercontent.com\\/PokeAPI\\/sprites\\/master\\/sprites\\/pokemon\\/57.png\\\",\\\"sizey\\\":1.35,\\\"x\\\":2,\\\"xref\\\":\\\"x\\\",\\\"yref\\\":\\\"y\\\",\\\"xanchor\\\":\\\"center\\\"},{\\\"y\\\":0,\\\"yanchor\\\":\\\"middle\\\",\\\"sizex\\\":1.35,\\\"source\\\":\\\"https:\\/\\/raw.githubusercontent.com\\/PokeAPI\\/sprites\\/master\\/sprites\\/pokemon\\/34.png\\\",\\\"sizey\\\":1.35,\\\"x\\\":3,\\\"xref\\\":\\\"x\\\",\\\"yref\\\":\\\"y\\\",\\\"xanchor\\\":\\\"center\\\"},{\\\"y\\\":0,\\\"yanchor\\\":\\\"middle\\\",\\\"sizex\\\":1.35,\\\"source\\\":\\\"https:\\/\\/raw.githubusercontent.com\\/PokeAPI\\/sprites\\/master\\/sprites\\/pokemon\\/126.png\\\",\\\"sizey\\\":1.35,\\\"x\\\":4,\\\"xref\\\":\\\"x\\\",\\\"yref\\\":\\\"y\\\",\\\"xanchor\\\":\\\"center\\\"}],\\\"autosize\\\":true,\\\"font\\\":{\\\"color\\\":\\\"black\\\",\\\"family\\\":\\\"Arial Black\\\",\\\"size\\\":14},\\\"annotations\\\":[{\\\"yshift\\\":20,\\\"x\\\":0,\\\"xref\\\":\\\"x\\\",\\\"yref\\\":\\\"y\\\",\\\"font\\\":{\\\"color\\\":\\\"black\\\",\\\"size\\\":14},\\\"text\\\":\\\"21.6757\\\",\\\"showarrow\\\":false,\\\"y\\\":0.35},{\\\"yshift\\\":20,\\\"x\\\":1,\\\"xref\\\":\\\"x\\\",\\\"yref\\\":\\\"y\\\",\\\"font\\\":{\\\"color\\\":\\\"black\\\",\\\"size\\\":14},\\\"text\\\":\\\"26.3887\\\",\\\"showarrow\\\":false,\\\"y\\\":0.35},{\\\"yshift\\\":20,\\\"x\\\":2,\\\"xref\\\":\\\"x\\\",\\\"yref\\\":\\\"y\\\",\\\"font\\\":{\\\"color\\\":\\\"black\\\",\\\"size\\\":14},\\\"text\\\":\\\"26.7719\\\",\\\"showarrow\\\":false,\\\"y\\\":0.35},{\\\"yshift\\\":20,\\\"x\\\":3,\\\"xref\\\":\\\"x\\\",\\\"yref\\\":\\\"y\\\",\\\"font\\\":{\\\"color\\\":\\\"black\\\",\\\"size\\\":14},\\\"text\\\":\\\"27.3066\\\",\\\"showarrow\\\":false,\\\"y\\\":0.35},{\\\"yshift\\\":20,\\\"x\\\":4,\\\"xref\\\":\\\"x\\\",\\\"yref\\\":\\\"y\\\",\\\"font\\\":{\\\"color\\\":\\\"black\\\",\\\"size\\\":14},\\\"text\\\":\\\"27.3761\\\",\\\"showarrow\\\":false,\\\"y\\\":0.35}],\\\"title\\\":\\\"Top 5 pokemons com IAP mais próximos de: rapidash\\\",\\\"margin\\\":{\\\"l\\\":50,\\\"b\\\":30,\\\"r\\\":50,\\\"t\\\":50},\\\"automargin\\\":true,\\\"width\\\":985},{\\\"showLink\\\":false,\\\"editable\\\":false,\\\"responsive\\\":true,\\\"staticPlot\\\":false,\\\"scrollZoom\\\":true}); gd.on(\\\"plotly_hover\\\",(function (data){var filtered_data=WebIO.PlotlyCommands.filterEventData(gd,data,\\\"hover\\\"); return !(filtered_data.isnil) ? (WebIO.setval({\\\"name\\\":\\\"hover\\\",\\\"scope\\\":\\\"18069016420908369049\\\",\\\"id\\\":\\\"1691\\\",\\\"type\\\":\\\"observable\\\"},filtered_data.out)) : undefined})); gd.on(\\\"plotly_unhover\\\",(function (){return WebIO.setval({\\\"name\\\":\\\"hover\\\",\\\"scope\\\":\\\"18069016420908369049\\\",\\\"id\\\":\\\"1691\\\",\\\"type\\\":\\\"observable\\\"},{})})); gd.on(\\\"plotly_selected\\\",(function (data){var filtered_data=WebIO.PlotlyCommands.filterEventData(gd,data,\\\"selected\\\"); return !(filtered_data.isnil) ? (WebIO.setval({\\\"name\\\":\\\"selected\\\",\\\"scope\\\":\\\"18069016420908369049\\\",\\\"id\\\":\\\"1692\\\",\\\"type\\\":\\\"observable\\\"},filtered_data.out)) : undefined})); gd.on(\\\"plotly_deselect\\\",(function (){return WebIO.setval({\\\"name\\\":\\\"selected\\\",\\\"scope\\\":\\\"18069016420908369049\\\",\\\"id\\\":\\\"1692\\\",\\\"type\\\":\\\"observable\\\"},{})})); gd.on(\\\"plotly_relayout\\\",(function (data){var filtered_data=WebIO.PlotlyCommands.filterEventData(gd,data,\\\"relayout\\\"); return !(filtered_data.isnil) ? (WebIO.setval({\\\"name\\\":\\\"relayout\\\",\\\"scope\\\":\\\"18069016420908369049\\\",\\\"id\\\":\\\"1694\\\",\\\"type\\\":\\\"observable\\\"},filtered_data.out)) : undefined})); return gd.on(\\\"plotly_click\\\",(function (data){var filtered_data=WebIO.PlotlyCommands.filterEventData(gd,data,\\\"click\\\"); return !(filtered_data.isnil) ? (WebIO.setval({\\\"name\\\":\\\"click\\\",\\\"scope\\\":\\\"18069016420908369049\\\",\\\"id\\\":\\\"1693\\\",\\\"type\\\":\\\"observable\\\"},filtered_data.out)) : undefined}))}));\\n    (WebIO.importBlock({\\\"data\\\":[{\\\"name\\\":\\\"Plotly\\\",\\\"type\\\":\\\"js\\\",\\\"url\\\":\\\"\\/assetserver\\/53a7aadb162a8ed394abcda57c2b6e741dfa1bbf-plotly.min.js\\\"},{\\\"name\\\":null,\\\"type\\\":\\\"js\\\",\\\"url\\\":\\\"\\/assetserver\\/6711c1456783a56df2a429d652f48fa138f5bf84-plotly_webio.bundle.js\\\"}],\\\"type\\\":\\\"async_block\\\"})).then((imports) => handler.apply(this, imports));\\n}\\n\"],\"observables\":{\"_toImage\":{\"sync\":false,\"id\":\"1698\",\"value\":{}},\"hover\":{\"sync\":false,\"id\":\"1691\",\"value\":{}},\"selected\":{\"sync\":false,\"id\":\"1692\",\"value\":{}},\"__gd_contents\":{\"sync\":false,\"id\":\"1696\",\"value\":{}},\"click\":{\"sync\":false,\"id\":\"1693\",\"value\":{}},\"image\":{\"sync\":true,\"id\":\"1695\",\"value\":\"\"},\"__get_gd_contents\":{\"sync\":false,\"id\":\"1700\",\"value\":\"\"},\"_downloadImage\":{\"sync\":false,\"id\":\"1699\",\"value\":{}},\"relayout\":{\"sync\":false,\"id\":\"1694\",\"value\":{}},\"_commands\":{\"sync\":false,\"id\":\"1697\",\"value\":[]}}},\"children\":[{\"props\":{\"id\":\"plot-ef877f56-12c9-4248-9fca-df6fb2103312\"},\"nodeType\":\"DOM\",\"type\":\"node\",\"instanceArgs\":{\"namespace\":\"html\",\"tag\":\"div\"},\"children\":[]}]},\n",
       "        window,\n",
       "    );\n",
       "    })()\n",
       "    </script>\n",
       "</div>\n"
      ],
      "text/plain": [
       "data: [\n",
       "  \"heatmap with fields colorscale, showscale, transpose, type, x, y, z, zmax, and zmin\"\n",
       "]\n",
       "\n",
       "layout: \"layout with fields annotations, automargin, autosize, coloraxis, font, height, images, margin, paper_bgcolor, template, title, width, xaxis, and yaxis\"\n",
       "\n"
      ]
     },
     "metadata": {},
     "output_type": "display_data"
    }
   ],
   "source": [
    "plot_graphic(teste2[1], teste2[2], teste2[3])"
   ]
  },
  {
   "cell_type": "code",
   "execution_count": 342,
   "metadata": {},
   "outputs": [
    {
     "data": {
      "application/vnd.plotly.v1+json": {
       "config": {
        "editable": false,
        "responsive": true,
        "scrollZoom": true,
        "showLink": false,
        "staticPlot": false
       },
       "data": [
        {
         "colorscale": "Jet",
         "showscale": true,
         "transpose": true,
         "type": "heatmap",
         "x": [
          "1º golduck",
          "2º blastoise",
          "3º charizard",
          "4º ninetales",
          "5º clefable"
         ],
         "y": [
          ""
         ],
         "z": [
          [
           21.70613409929751
          ],
          [
           23.211159704771962
          ],
          [
           26.978036590064526
          ],
          [
           29.878286797774628
          ],
          [
           31.25180547632148
          ]
         ],
         "zmax": 100,
         "zmin": 0
        }
       ],
       "frames": [],
       "layout": {
        "annotations": [
         {
          "font": {
           "color": "black",
           "size": 14
          },
          "showarrow": false,
          "text": "21.7061",
          "x": 0,
          "xref": "x",
          "y": 0.35,
          "yref": "y",
          "yshift": 20
         },
         {
          "font": {
           "color": "black",
           "size": 14
          },
          "showarrow": false,
          "text": "23.2112",
          "x": 1,
          "xref": "x",
          "y": 0.35,
          "yref": "y",
          "yshift": 20
         },
         {
          "font": {
           "color": "black",
           "size": 14
          },
          "showarrow": false,
          "text": "26.978",
          "x": 2,
          "xref": "x",
          "y": 0.35,
          "yref": "y",
          "yshift": 20
         },
         {
          "font": {
           "color": "black",
           "size": 14
          },
          "showarrow": false,
          "text": "29.8783",
          "x": 3,
          "xref": "x",
          "y": 0.35,
          "yref": "y",
          "yshift": 20
         },
         {
          "font": {
           "color": "black",
           "size": 14
          },
          "showarrow": false,
          "text": "31.2518",
          "x": 4,
          "xref": "x",
          "y": 0.35,
          "yref": "y",
          "yshift": 20
         }
        ],
        "automargin": true,
        "autosize": true,
        "coloraxis": {
         "colorbar": {
          "ticktext": [
           "Baixo",
           "Médio",
           "Alto"
          ],
          "tickvals": [
           0,
           50,
           100
          ],
          "title": "IAP"
         }
        },
        "font": {
         "color": "black",
         "family": "Arial Black",
         "size": 14
        },
        "height": 300,
        "images": [
         {
          "sizex": 1.35,
          "sizey": 1.35,
          "source": "https://raw.githubusercontent.com/PokeAPI/sprites/master/sprites/pokemon/55.png",
          "x": 0,
          "xanchor": "center",
          "xref": "x",
          "y": 0,
          "yanchor": "middle",
          "yref": "y"
         },
         {
          "sizex": 1.35,
          "sizey": 1.35,
          "source": "https://raw.githubusercontent.com/PokeAPI/sprites/master/sprites/pokemon/9.png",
          "x": 1,
          "xanchor": "center",
          "xref": "x",
          "y": 0,
          "yanchor": "middle",
          "yref": "y"
         },
         {
          "sizex": 1.35,
          "sizey": 1.35,
          "source": "https://raw.githubusercontent.com/PokeAPI/sprites/master/sprites/pokemon/6.png",
          "x": 2,
          "xanchor": "center",
          "xref": "x",
          "y": 0,
          "yanchor": "middle",
          "yref": "y"
         },
         {
          "sizex": 1.35,
          "sizey": 1.35,
          "source": "https://raw.githubusercontent.com/PokeAPI/sprites/master/sprites/pokemon/38.png",
          "x": 3,
          "xanchor": "center",
          "xref": "x",
          "y": 0,
          "yanchor": "middle",
          "yref": "y"
         },
         {
          "sizex": 1.35,
          "sizey": 1.35,
          "source": "https://raw.githubusercontent.com/PokeAPI/sprites/master/sprites/pokemon/36.png",
          "x": 4,
          "xanchor": "center",
          "xref": "x",
          "y": 0,
          "yanchor": "middle",
          "yref": "y"
         }
        ],
        "margin": {
         "b": 30,
         "l": 50,
         "r": 50,
         "t": 50
        },
        "paper_bgcolor": "#EBDBAB",
        "template": {
         "data": {
          "bar": [
           {
            "error_x": {
             "color": "#2a3f5f"
            },
            "error_y": {
             "color": "#2a3f5f"
            },
            "marker": {
             "line": {
              "color": "#E5ECF6",
              "width": 0.5
             }
            },
            "type": "bar"
           }
          ],
          "barpolar": [
           {
            "marker": {
             "line": {
              "color": "#E5ECF6",
              "width": 0.5
             }
            },
            "type": "barpolar"
           }
          ],
          "carpet": [
           {
            "aaxis": {
             "endlinecolor": "#2a3f5f",
             "gridcolor": "white",
             "linecolor": "white",
             "minorgridcolor": "white",
             "startlinecolor": "#2a3f5f"
            },
            "baxis": {
             "endlinecolor": "#2a3f5f",
             "gridcolor": "white",
             "linecolor": "white",
             "minorgridcolor": "white",
             "startlinecolor": "#2a3f5f"
            },
            "type": "carpet"
           }
          ],
          "choropleth": [
           {
            "colorbar": {
             "outlinewidth": 0,
             "ticks": ""
            },
            "type": "choropleth"
           }
          ],
          "contour": [
           {
            "colorbar": {
             "outlinewidth": 0,
             "ticks": ""
            },
            "colorscale": [
             [
              0,
              "#0d0887"
             ],
             [
              0.1111111111111111,
              "#46039f"
             ],
             [
              0.2222222222222222,
              "#7201a8"
             ],
             [
              0.3333333333333333,
              "#9c179e"
             ],
             [
              0.4444444444444444,
              "#bd3786"
             ],
             [
              0.5555555555555556,
              "#d8576b"
             ],
             [
              0.6666666666666666,
              "#ed7953"
             ],
             [
              0.7777777777777778,
              "#fb9f3a"
             ],
             [
              0.8888888888888888,
              "#fdca26"
             ],
             [
              1,
              "#f0f921"
             ]
            ],
            "type": "contour"
           }
          ],
          "contourcarpet": [
           {
            "colorbar": {
             "outlinewidth": 0,
             "ticks": ""
            },
            "type": "contourcarpet"
           }
          ],
          "heatmap": [
           {
            "colorbar": {
             "outlinewidth": 0,
             "ticks": ""
            },
            "colorscale": [
             [
              0,
              "#0d0887"
             ],
             [
              0.1111111111111111,
              "#46039f"
             ],
             [
              0.2222222222222222,
              "#7201a8"
             ],
             [
              0.3333333333333333,
              "#9c179e"
             ],
             [
              0.4444444444444444,
              "#bd3786"
             ],
             [
              0.5555555555555556,
              "#d8576b"
             ],
             [
              0.6666666666666666,
              "#ed7953"
             ],
             [
              0.7777777777777778,
              "#fb9f3a"
             ],
             [
              0.8888888888888888,
              "#fdca26"
             ],
             [
              1,
              "#f0f921"
             ]
            ],
            "type": "heatmap"
           }
          ],
          "heatmapgl": [
           {
            "colorbar": {
             "outlinewidth": 0,
             "ticks": ""
            },
            "colorscale": [
             [
              0,
              "#0d0887"
             ],
             [
              0.1111111111111111,
              "#46039f"
             ],
             [
              0.2222222222222222,
              "#7201a8"
             ],
             [
              0.3333333333333333,
              "#9c179e"
             ],
             [
              0.4444444444444444,
              "#bd3786"
             ],
             [
              0.5555555555555556,
              "#d8576b"
             ],
             [
              0.6666666666666666,
              "#ed7953"
             ],
             [
              0.7777777777777778,
              "#fb9f3a"
             ],
             [
              0.8888888888888888,
              "#fdca26"
             ],
             [
              1,
              "#f0f921"
             ]
            ],
            "type": "heatmapgl"
           }
          ],
          "histogram": [
           {
            "marker": {
             "colorbar": {
              "outlinewidth": 0,
              "ticks": ""
             }
            },
            "type": "histogram"
           }
          ],
          "histogram2d": [
           {
            "colorbar": {
             "outlinewidth": 0,
             "ticks": ""
            },
            "colorscale": [
             [
              0,
              "#0d0887"
             ],
             [
              0.1111111111111111,
              "#46039f"
             ],
             [
              0.2222222222222222,
              "#7201a8"
             ],
             [
              0.3333333333333333,
              "#9c179e"
             ],
             [
              0.4444444444444444,
              "#bd3786"
             ],
             [
              0.5555555555555556,
              "#d8576b"
             ],
             [
              0.6666666666666666,
              "#ed7953"
             ],
             [
              0.7777777777777778,
              "#fb9f3a"
             ],
             [
              0.8888888888888888,
              "#fdca26"
             ],
             [
              1,
              "#f0f921"
             ]
            ],
            "type": "histogram2d"
           }
          ],
          "histogram2dcontour": [
           {
            "colorbar": {
             "outlinewidth": 0,
             "ticks": ""
            },
            "colorscale": [
             [
              0,
              "#0d0887"
             ],
             [
              0.1111111111111111,
              "#46039f"
             ],
             [
              0.2222222222222222,
              "#7201a8"
             ],
             [
              0.3333333333333333,
              "#9c179e"
             ],
             [
              0.4444444444444444,
              "#bd3786"
             ],
             [
              0.5555555555555556,
              "#d8576b"
             ],
             [
              0.6666666666666666,
              "#ed7953"
             ],
             [
              0.7777777777777778,
              "#fb9f3a"
             ],
             [
              0.8888888888888888,
              "#fdca26"
             ],
             [
              1,
              "#f0f921"
             ]
            ],
            "type": "histogram2dcontour"
           }
          ],
          "mesh3d": [
           {
            "colorbar": {
             "outlinewidth": 0,
             "ticks": ""
            },
            "type": "mesh3d"
           }
          ],
          "parcoords": [
           {
            "line": {
             "colorbar": {
              "outlinewidth": 0,
              "ticks": ""
             }
            },
            "type": "parcoords"
           }
          ],
          "pie": [
           {
            "automargin": true,
            "type": "pie"
           }
          ],
          "scatter": [
           {
            "marker": {
             "colorbar": {
              "outlinewidth": 0,
              "ticks": ""
             }
            },
            "type": "scatter"
           }
          ],
          "scatter3d": [
           {
            "line": {
             "colorbar": {
              "outlinewidth": 0,
              "ticks": ""
             }
            },
            "marker": {
             "colorbar": {
              "outlinewidth": 0,
              "ticks": ""
             }
            },
            "type": "scatter3d"
           }
          ],
          "scattercarpet": [
           {
            "marker": {
             "colorbar": {
              "outlinewidth": 0,
              "ticks": ""
             }
            },
            "type": "scattercarpet"
           }
          ],
          "scattergeo": [
           {
            "marker": {
             "colorbar": {
              "outlinewidth": 0,
              "ticks": ""
             }
            },
            "type": "scattergeo"
           }
          ],
          "scattergl": [
           {
            "marker": {
             "colorbar": {
              "outlinewidth": 0,
              "ticks": ""
             }
            },
            "type": "scattergl"
           }
          ],
          "scattermapbox": [
           {
            "marker": {
             "colorbar": {
              "outlinewidth": 0,
              "ticks": ""
             }
            },
            "type": "scattermapbox"
           }
          ],
          "scatterpolar": [
           {
            "marker": {
             "colorbar": {
              "outlinewidth": 0,
              "ticks": ""
             }
            },
            "type": "scatterpolar"
           }
          ],
          "scatterpolargl": [
           {
            "marker": {
             "colorbar": {
              "outlinewidth": 0,
              "ticks": ""
             }
            },
            "type": "scatterpolargl"
           }
          ],
          "scatterternary": [
           {
            "marker": {
             "colorbar": {
              "outlinewidth": 0,
              "ticks": ""
             }
            },
            "type": "scatterternary"
           }
          ],
          "surface": [
           {
            "colorbar": {
             "outlinewidth": 0,
             "ticks": ""
            },
            "colorscale": [
             [
              0,
              "#0d0887"
             ],
             [
              0.1111111111111111,
              "#46039f"
             ],
             [
              0.2222222222222222,
              "#7201a8"
             ],
             [
              0.3333333333333333,
              "#9c179e"
             ],
             [
              0.4444444444444444,
              "#bd3786"
             ],
             [
              0.5555555555555556,
              "#d8576b"
             ],
             [
              0.6666666666666666,
              "#ed7953"
             ],
             [
              0.7777777777777778,
              "#fb9f3a"
             ],
             [
              0.8888888888888888,
              "#fdca26"
             ],
             [
              1,
              "#f0f921"
             ]
            ],
            "type": "surface"
           }
          ],
          "table": [
           {
            "cells": {
             "fill": {
              "color": "#EBF0F8"
             },
             "line": {
              "color": "white"
             }
            },
            "header": {
             "fill": {
              "color": "#C8D4E3"
             },
             "line": {
              "color": "white"
             }
            },
            "type": "table"
           }
          ]
         },
         "layout": {
          "annotationdefaults": {
           "arrowcolor": "#2a3f5f",
           "arrowhead": 0,
           "arrowwidth": 1
          },
          "autotypenumbers": "strict",
          "coloraxis": {
           "colorbar": {
            "outlinewidth": 0,
            "ticks": ""
           }
          },
          "colorscale": {
           "diverging": [
            [
             0,
             "#8e0152"
            ],
            [
             0.1,
             "#c51b7d"
            ],
            [
             0.2,
             "#de77ae"
            ],
            [
             0.3,
             "#f1b6da"
            ],
            [
             0.4,
             "#fde0ef"
            ],
            [
             0.5,
             "#f7f7f7"
            ],
            [
             0.6,
             "#e6f5d0"
            ],
            [
             0.7,
             "#b8e186"
            ],
            [
             0.8,
             "#7fbc41"
            ],
            [
             0.9,
             "#4d9221"
            ],
            [
             1,
             "#276419"
            ]
           ],
           "sequential": [
            [
             0,
             "#0d0887"
            ],
            [
             0.1111111111111111,
             "#46039f"
            ],
            [
             0.2222222222222222,
             "#7201a8"
            ],
            [
             0.3333333333333333,
             "#9c179e"
            ],
            [
             0.4444444444444444,
             "#bd3786"
            ],
            [
             0.5555555555555556,
             "#d8576b"
            ],
            [
             0.6666666666666666,
             "#ed7953"
            ],
            [
             0.7777777777777778,
             "#fb9f3a"
            ],
            [
             0.8888888888888888,
             "#fdca26"
            ],
            [
             1,
             "#f0f921"
            ]
           ],
           "sequentialminus": [
            [
             0,
             "#0d0887"
            ],
            [
             0.1111111111111111,
             "#46039f"
            ],
            [
             0.2222222222222222,
             "#7201a8"
            ],
            [
             0.3333333333333333,
             "#9c179e"
            ],
            [
             0.4444444444444444,
             "#bd3786"
            ],
            [
             0.5555555555555556,
             "#d8576b"
            ],
            [
             0.6666666666666666,
             "#ed7953"
            ],
            [
             0.7777777777777778,
             "#fb9f3a"
            ],
            [
             0.8888888888888888,
             "#fdca26"
            ],
            [
             1,
             "#f0f921"
            ]
           ]
          },
          "colorway": [
           "#636efa",
           "#EF553B",
           "#00cc96",
           "#ab63fa",
           "#FFA15A",
           "#19d3f3",
           "#FF6692",
           "#B6E880",
           "#FF97FF",
           "#FECB52"
          ],
          "font": {
           "color": "#2a3f5f"
          },
          "geo": {
           "bgcolor": "white",
           "lakecolor": "white",
           "landcolor": "#E5ECF6",
           "showlakes": true,
           "showland": true,
           "subunitcolor": "white"
          },
          "hoverlabel": {
           "align": "left"
          },
          "hovermode": "closest",
          "mapbox": {
           "style": "light"
          },
          "paper_bgcolor": "white",
          "plot_bgcolor": "#E5ECF6",
          "polar": {
           "angularaxis": {
            "gridcolor": "white",
            "linecolor": "white",
            "ticks": ""
           },
           "bgcolor": "#E5ECF6",
           "radialaxis": {
            "gridcolor": "white",
            "linecolor": "white",
            "ticks": ""
           }
          },
          "scene": {
           "xaxis": {
            "backgroundcolor": "#E5ECF6",
            "gridcolor": "white",
            "gridwidth": 2,
            "linecolor": "white",
            "showbackground": true,
            "ticks": "",
            "zerolinecolor": "white"
           },
           "yaxis": {
            "backgroundcolor": "#E5ECF6",
            "gridcolor": "white",
            "gridwidth": 2,
            "linecolor": "white",
            "showbackground": true,
            "ticks": "",
            "zerolinecolor": "white"
           },
           "zaxis": {
            "backgroundcolor": "#E5ECF6",
            "gridcolor": "white",
            "gridwidth": 2,
            "linecolor": "white",
            "showbackground": true,
            "ticks": "",
            "zerolinecolor": "white"
           }
          },
          "shapedefaults": {
           "line": {
            "color": "#2a3f5f"
           }
          },
          "ternary": {
           "aaxis": {
            "gridcolor": "white",
            "linecolor": "white",
            "ticks": ""
           },
           "baxis": {
            "gridcolor": "white",
            "linecolor": "white",
            "ticks": ""
           },
           "bgcolor": "#E5ECF6",
           "caxis": {
            "gridcolor": "white",
            "linecolor": "white",
            "ticks": ""
           }
          },
          "title": {
           "x": 0.05
          },
          "xaxis": {
           "automargin": true,
           "gridcolor": "white",
           "linecolor": "white",
           "ticks": "",
           "title": {
            "standoff": 15
           },
           "zerolinecolor": "white",
           "zerolinewidth": 2
          },
          "yaxis": {
           "automargin": true,
           "gridcolor": "white",
           "linecolor": "white",
           "ticks": "",
           "title": {
            "standoff": 15
           },
           "zerolinecolor": "white",
           "zerolinewidth": 2
          }
         }
        },
        "title": "Top 5 pokemons com IAP mais próximos de: venusaur",
        "width": 985,
        "xaxis": {
         "fixedrange": true,
         "side": "top"
        },
        "yaxis": {
         "fixedrange": true,
         "visible": false
        }
       }
      },
      "image/png": "[encoded data removed]",
      "image/svg+xml": [
       "<svg class=\"main-svg\" xmlns=\"http://www.w3.org/2000/svg\" xmlns:xlink=\"http://www.w3.org/1999/xlink\" width=\"700\" height=\"500\" style=\"\" viewBox=\"0 0 700 500\"><rect x=\"0\" y=\"0\" width=\"700\" height=\"500\" style=\"fill: rgb(235, 219, 171); fill-opacity: 1;\"/><defs id=\"defs-29e91a\"><g class=\"clips\"><clipPath id=\"clip29e91axyplot\" class=\"plotclip\"><rect width=\"548\" height=\"420\"/></clipPath><clipPath class=\"axesclip\" id=\"clip29e91ax\"><rect x=\"50\" y=\"0\" width=\"548\" height=\"500\"/></clipPath><clipPath class=\"axesclip\" id=\"clip29e91ay\"><rect x=\"0\" y=\"50\" width=\"700\" height=\"420\"/></clipPath><clipPath class=\"axesclip\" id=\"clip29e91axy\"><rect x=\"50\" y=\"50\" width=\"548\" height=\"420\"/></clipPath></g><g class=\"gradients\"><linearGradient x1=\"0\" x2=\"0\" y1=\"1\" y2=\"0\" id=\"g29e91a-cb94a399\"><stop offset=\"0%\" stop-color=\"rgb(0, 0, 131)\" stop-opacity=\"1\"/><stop offset=\"12.5%\" stop-color=\"rgb(0, 60, 170)\" stop-opacity=\"1\"/><stop offset=\"37.5%\" stop-color=\"rgb(5, 255, 255)\" stop-opacity=\"1\"/><stop offset=\"62.5%\" stop-color=\"rgb(255, 255, 0)\" stop-opacity=\"1\"/><stop offset=\"87.5%\" stop-color=\"rgb(250, 0, 0)\" stop-opacity=\"1\"/><stop offset=\"100%\" stop-color=\"rgb(128, 0, 0)\" stop-opacity=\"1\"/></linearGradient></g><g class=\"patterns\"/></defs><g class=\"bglayer\"><rect class=\"bg\" x=\"50\" y=\"50\" width=\"548\" height=\"420\" style=\"fill: rgb(229, 236, 246); fill-opacity: 1; stroke-width: 0;\"/></g><g class=\"layer-below\"><g class=\"imagelayer\"/><g class=\"shapelayer\"/></g><g class=\"cartesianlayer\"><g class=\"subplot xy\"><g class=\"layer-subplot\"><g class=\"shapelayer\"/><g class=\"imagelayer\"/></g><g class=\"gridlayer\"><g class=\"x\"><path class=\"xgrid crisp\" transform=\"translate(104.8,0)\" d=\"M0,50v420\" style=\"stroke: rgb(255, 255, 255); stroke-opacity: 1; stroke-width: 1px;\"/><path class=\"xgrid crisp\" transform=\"translate(214.4,0)\" d=\"M0,50v420\" style=\"stroke: rgb(255, 255, 255); stroke-opacity: 1; stroke-width: 1px;\"/><path class=\"xgrid crisp\" transform=\"translate(324,0)\" d=\"M0,50v420\" style=\"stroke: rgb(255, 255, 255); stroke-opacity: 1; stroke-width: 1px;\"/><path class=\"xgrid crisp\" transform=\"translate(433.6,0)\" d=\"M0,50v420\" style=\"stroke: rgb(255, 255, 255); stroke-opacity: 1; stroke-width: 1px;\"/><path class=\"xgrid crisp\" transform=\"translate(543.2,0)\" d=\"M0,50v420\" style=\"stroke: rgb(255, 255, 255); stroke-opacity: 1; stroke-width: 1px;\"/></g><g class=\"y\"/></g><g class=\"zerolinelayer\"/><path class=\"xlines-below\"/><path class=\"ylines-below\"/><g class=\"overlines-below\"/><g class=\"xaxislayer-below\"/><g class=\"yaxislayer-below\"/><g class=\"overaxes-below\"/><g class=\"plot\" transform=\"translate(50,50)\" clip-path=\"url(#clip29e91axyplot)\"><g class=\"heatmaplayer mlayer\"><g class=\"hm\"><image xmlns=\"http://www.w3.org/2000/svg\" preserveAspectRatio=\"none\" height=\"420\" width=\"548\" x=\"0\" y=\"0\" xlink:href=\"data:image/png;base64,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\" style=\"opacity: 1;\"/></g></g></g><g class=\"overplot\"/><path class=\"xlines-above crisp\" d=\"M0,0\" style=\"fill: none;\"/><path class=\"ylines-above crisp\" d=\"M0,0\" style=\"fill: none;\"/><g class=\"overlines-above\"/><g class=\"xaxislayer-above\"><g class=\"xtick\"><text text-anchor=\"middle\" x=\"0\" y=\"46.2\" transform=\"translate(104.8,0)\" style=\"font-family: 'Arial Black'; font-size: 14px; fill: rgb(0, 0, 0); fill-opacity: 1; white-space: pre; opacity: 1;\">1º golduck</text></g><g class=\"xtick\"><text text-anchor=\"middle\" x=\"0\" y=\"46.2\" transform=\"translate(214.4,0)\" style=\"font-family: 'Arial Black'; font-size: 14px; fill: rgb(0, 0, 0); fill-opacity: 1; white-space: pre; opacity: 1;\">2º blastoise</text></g><g class=\"xtick\"><text text-anchor=\"middle\" x=\"0\" y=\"46.2\" transform=\"translate(324,0)\" style=\"font-family: 'Arial Black'; font-size: 14px; fill: rgb(0, 0, 0); fill-opacity: 1; white-space: pre; opacity: 1;\">3º charizard</text></g><g class=\"xtick\"><text text-anchor=\"middle\" x=\"0\" y=\"46.2\" transform=\"translate(433.6,0)\" style=\"font-family: 'Arial Black'; font-size: 14px; fill: rgb(0, 0, 0); fill-opacity: 1; white-space: pre; opacity: 1;\">4º ninetales</text></g><g class=\"xtick\"><text text-anchor=\"middle\" x=\"0\" y=\"46.2\" transform=\"translate(543.2,0)\" style=\"font-family: 'Arial Black'; font-size: 14px; fill: rgb(0, 0, 0); fill-opacity: 1; white-space: pre; opacity: 1;\">5º clefable</text></g></g><g class=\"yaxislayer-above\"/><g class=\"overaxes-above\"/></g></g><g class=\"polarlayer\"/><g class=\"ternarylayer\"/><g class=\"geolayer\"/><g class=\"funnelarealayer\"/><g class=\"pielayer\"/><g class=\"iciclelayer\"/><g class=\"treemaplayer\"/><g class=\"sunburstlayer\"/><g class=\"glimages\"/><defs id=\"topdefs-29e91a\"><g class=\"clips\"/></defs><g class=\"layer-above\"><g class=\"imagelayer\"><image xmlns=\"http://www.w3.org/2000/svg\" x=\"30.820000000000007\" y=\"-23.5\" width=\"147.95999999999998\" height=\"567\" preserveAspectRatio=\"xMidYMid\" opacity=\"1\" clip-path=\"url(#clip29e91axy)\" xlink:href=\"data:image/png;base64,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\"/><image xmlns=\"http://www.w3.org/2000/svg\" x=\"140.42000000000002\" y=\"-23.5\" width=\"147.95999999999998\" height=\"567\" preserveAspectRatio=\"xMidYMid\" opacity=\"1\" clip-path=\"url(#clip29e91axy)\" xlink:href=\"data:image/png;base64,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\"/><image xmlns=\"http://www.w3.org/2000/svg\" x=\"250.02\" y=\"-23.5\" width=\"147.95999999999998\" height=\"567\" preserveAspectRatio=\"xMidYMid\" opacity=\"1\" clip-path=\"url(#clip29e91axy)\" xlink:href=\"data:image/png;base64,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\"/><image xmlns=\"http://www.w3.org/2000/svg\" x=\"359.62\" y=\"-23.5\" width=\"147.95999999999998\" height=\"567\" preserveAspectRatio=\"xMidYMid\" opacity=\"1\" clip-path=\"url(#clip29e91axy)\" xlink:href=\"data:image/png;base64,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\"/><image xmlns=\"http://www.w3.org/2000/svg\" x=\"469.22\" y=\"-23.5\" width=\"147.95999999999998\" height=\"567\" preserveAspectRatio=\"xMidYMid\" opacity=\"1\" clip-path=\"url(#clip29e91axy)\" xlink:href=\"data:image/png;base64,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\"/></g><g class=\"shapelayer\"/></g><g class=\"infolayer\"><g class=\"cb94a399 colorbar\" transform=\"translate(50,50)\"><rect class=\"cbbg\" x=\"559\" y=\"0\" width=\"78.6875\" height=\"420\" style=\"fill: rgb(0, 0, 0); fill-opacity: 0; stroke: rgb(68, 68, 68); stroke-opacity: 1; stroke-width: 0;\"/><g class=\"cbfills\" transform=\"translate(0,10)\"><rect class=\"cbfill\" x=\"569\" width=\"30\" y=\"0\" height=\"400\" style=\"fill: url('#g29e91a-cb94a399');\"/></g><g class=\"cblines\" transform=\"translate(0,10)\"/><g class=\"cbaxis crisp\" transform=\"translate(0,-50)\"><g class=\"ycb94a399tick\"><text text-anchor=\"start\" x=\"602.3\" y=\"4.8999999999999995\" transform=\"translate(0,460)\" style=\"font-family: 'Arial Black'; font-size: 14px; fill: rgb(0, 0, 0); fill-opacity: 1; white-space: pre; opacity: 1;\">0</text></g><g class=\"ycb94a399tick\"><text text-anchor=\"start\" x=\"602.3\" y=\"4.8999999999999995\" style=\"font-family: 'Arial Black'; font-size: 14px; fill: rgb(0, 0, 0); fill-opacity: 1; white-space: pre; opacity: 1;\" transform=\"translate(0,380)\">20</text></g><g class=\"ycb94a399tick\"><text text-anchor=\"start\" x=\"602.3\" y=\"4.8999999999999995\" style=\"font-family: 'Arial Black'; font-size: 14px; fill: rgb(0, 0, 0); fill-opacity: 1; white-space: pre; opacity: 1;\" transform=\"translate(0,300)\">40</text></g><g class=\"ycb94a399tick\"><text text-anchor=\"start\" x=\"602.3\" y=\"4.8999999999999995\" style=\"font-family: 'Arial Black'; font-size: 14px; fill: rgb(0, 0, 0); fill-opacity: 1; white-space: pre; opacity: 1;\" transform=\"translate(0,220)\">60</text></g><g class=\"ycb94a399tick\"><text text-anchor=\"start\" x=\"602.3\" y=\"4.8999999999999995\" style=\"font-family: 'Arial Black'; font-size: 14px; fill: rgb(0, 0, 0); fill-opacity: 1; white-space: pre; opacity: 1;\" transform=\"translate(0,140)\">80</text></g><g class=\"ycb94a399tick\"><text text-anchor=\"start\" x=\"602.3\" y=\"4.8999999999999995\" style=\"font-family: 'Arial Black'; font-size: 14px; fill: rgb(0, 0, 0); fill-opacity: 1; white-space: pre; opacity: 1;\" transform=\"translate(0,60.000000000000014)\">100</text></g></g><g class=\"cbtitleunshift\" transform=\"translate(-50,-50)\"><g class=\"cbtitle\"/></g><rect class=\"cboutline\" x=\"569\" y=\"10\" width=\"30\" height=\"400\" style=\"stroke: rgb(68, 68, 68); stroke-opacity: 1; fill: none; stroke-width: 0;\"/></g><g class=\"g-gtitle\"><text class=\"gtitle\" x=\"35\" y=\"25\" text-anchor=\"start\" dy=\"0em\" style=\"font-family: 'Arial Black'; font-size: 20px; fill: rgb(0, 0, 0); opacity: 1; font-weight: normal; white-space: pre;\">Top 5 pokemons com IAP mais próximos de: venusaur</text></g><g class=\"g-xtitle\"/><g class=\"annotation\" data-index=\"0\" style=\"opacity: 1;\"><g class=\"annotation-text-g\" transform=\"rotate(0,104.8,93)\"><g class=\"cursor-pointer\" transform=\"translate(72,82)\"><rect class=\"bg\" x=\"0.5\" y=\"0.5\" width=\"64\" height=\"22\" style=\"stroke-width: 1px; stroke: rgb(0, 0, 0); stroke-opacity: 0; fill: rgb(0, 0, 0); fill-opacity: 0;\"/><text class=\"annotation-text\" text-anchor=\"middle\" x=\"32.359375\" y=\"17\" style=\"font-family: 'Arial Black'; font-size: 14px; fill: rgb(0, 0, 0); fill-opacity: 1; white-space: pre;\">21.7061</text></g></g></g><g class=\"annotation\" data-index=\"1\" style=\"opacity: 1;\"><g class=\"annotation-text-g\" transform=\"rotate(0,214.4,93)\"><g class=\"cursor-pointer\" transform=\"translate(182,82)\"><rect class=\"bg\" x=\"0.5\" y=\"0.5\" width=\"64\" height=\"22\" style=\"stroke-width: 1px; stroke: rgb(0, 0, 0); stroke-opacity: 0; fill: rgb(0, 0, 0); fill-opacity: 0;\"/><text class=\"annotation-text\" text-anchor=\"middle\" x=\"32.359375\" y=\"17\" style=\"font-family: 'Arial Black'; font-size: 14px; fill: rgb(0, 0, 0); fill-opacity: 1; white-space: pre;\">23.2112</text></g></g></g><g class=\"annotation\" data-index=\"2\" style=\"opacity: 1;\"><g class=\"annotation-text-g\" transform=\"rotate(0,324,93)\"><g class=\"cursor-pointer\" transform=\"translate(296,82)\"><rect class=\"bg\" x=\"0.5\" y=\"0.5\" width=\"55\" height=\"22\" style=\"stroke-width: 1px; stroke: rgb(0, 0, 0); stroke-opacity: 0; fill: rgb(0, 0, 0); fill-opacity: 0;\"/><text class=\"annotation-text\" text-anchor=\"middle\" x=\"27.6875\" y=\"17\" style=\"font-family: 'Arial Black'; font-size: 14px; fill: rgb(0, 0, 0); fill-opacity: 1; white-space: pre;\">26.978</text></g></g></g><g class=\"annotation\" data-index=\"3\" style=\"opacity: 1;\"><g class=\"annotation-text-g\" transform=\"rotate(0,433.6,93)\"><g class=\"cursor-pointer\" transform=\"translate(401,82)\"><rect class=\"bg\" x=\"0.5\" y=\"0.5\" width=\"64\" height=\"22\" style=\"stroke-width: 1px; stroke: rgb(0, 0, 0); stroke-opacity: 0; fill: rgb(0, 0, 0); fill-opacity: 0;\"/><text class=\"annotation-text\" text-anchor=\"middle\" x=\"32.359375\" y=\"17\" style=\"font-family: 'Arial Black'; font-size: 14px; fill: rgb(0, 0, 0); fill-opacity: 1; white-space: pre;\">29.8783</text></g></g></g><g class=\"annotation\" data-index=\"4\" style=\"opacity: 1;\"><g class=\"annotation-text-g\" transform=\"rotate(0,543.2,93)\"><g class=\"cursor-pointer\" transform=\"translate(511,82)\"><rect class=\"bg\" x=\"0.5\" y=\"0.5\" width=\"64\" height=\"22\" style=\"stroke-width: 1px; stroke: rgb(0, 0, 0); stroke-opacity: 0; fill: rgb(0, 0, 0); fill-opacity: 0;\"/><text class=\"annotation-text\" text-anchor=\"middle\" x=\"32.359375\" y=\"17\" style=\"font-family: 'Arial Black'; font-size: 14px; fill: rgb(0, 0, 0); fill-opacity: 1; white-space: pre;\">31.2518</text></g></g></g></g></svg>"
      ],
      "text/html": [
       "<div\n",
       "    class=\"webio-mountpoint\"\n",
       "    data-webio-mountpoint=\"16571313713234433185\"\n",
       ">\n",
       "    <script>\n",
       "    (function(){\n",
       "    // Some integrations (namely, IJulia/Jupyter) use an alternate render pathway than\n",
       "    // just putting the html on the page. If WebIO isn't defined, then it's pretty likely\n",
       "    // that we're in one of those situations and the integration just isn't installed\n",
       "    // correctly.\n",
       "    if (typeof window.WebIO === \"undefined\") {\n",
       "        document\n",
       "            .querySelector('[data-webio-mountpoint=\"16571313713234433185\"]')\n",
       "            .innerHTML = (\n",
       "                '<div style=\"padding: 1em; background-color: #f8d6da; border: 1px solid #f5c6cb; font-weight: bold;\">' +\n",
       "                '<p><strong>WebIO not detected.</strong></p>' +\n",
       "                '<p>Please read ' +\n",
       "                '<a href=\"https://juliagizmos.github.io/WebIO.jl/latest/troubleshooting/not-detected/\" target=\"_blank\">the troubleshooting guide</a> ' +\n",
       "                'for more information on how to resolve this issue.</p>' +\n",
       "                '<p><a href=\"https://juliagizmos.github.io/WebIO.jl/latest/troubleshooting/not-detected/\" target=\"_blank\">https://juliagizmos.github.io/WebIO.jl/latest/troubleshooting/not-detected/</a></p>' +\n",
       "                '</div>'\n",
       "            );\n",
       "        return;\n",
       "    }\n",
       "    WebIO.mount(\n",
       "        document.querySelector('[data-webio-mountpoint=\"16571313713234433185\"]'),\n",
       "        {\"props\":{},\"nodeType\":\"Scope\",\"type\":\"node\",\"instanceArgs\":{\"imports\":{\"data\":[{\"name\":\"Plotly\",\"type\":\"js\",\"url\":\"\\/assetserver\\/53a7aadb162a8ed394abcda57c2b6e741dfa1bbf-plotly.min.js\"},{\"name\":null,\"type\":\"js\",\"url\":\"\\/assetserver\\/6711c1456783a56df2a429d652f48fa138f5bf84-plotly_webio.bundle.js\"}],\"type\":\"async_block\"},\"id\":\"13178328196864558624\",\"handlers\":{\"_toImage\":[\"(function (options){return this.Plotly.toImage(this.plotElem,options).then((function (data){return WebIO.setval({\\\"name\\\":\\\"image\\\",\\\"scope\\\":\\\"13178328196864558624\\\",\\\"id\\\":\\\"1705\\\",\\\"type\\\":\\\"observable\\\"},data)}))})\"],\"__get_gd_contents\":[\"(function (prop){prop==\\\"data\\\" ? (WebIO.setval({\\\"name\\\":\\\"__gd_contents\\\",\\\"scope\\\":\\\"13178328196864558624\\\",\\\"id\\\":\\\"1706\\\",\\\"type\\\":\\\"observable\\\"},this.plotElem.data)) : undefined; return prop==\\\"layout\\\" ? (WebIO.setval({\\\"name\\\":\\\"__gd_contents\\\",\\\"scope\\\":\\\"13178328196864558624\\\",\\\"id\\\":\\\"1706\\\",\\\"type\\\":\\\"observable\\\"},this.plotElem.layout)) : undefined})\"],\"_downloadImage\":[\"(function (options){return this.Plotly.downloadImage(this.plotElem,options)})\"],\"_commands\":[\"(function (args){var fn=args.shift(); var elem=this.plotElem; var Plotly=this.Plotly; args.unshift(elem); return Plotly[fn].apply(this,args)})\"]},\"systemjs_options\":null,\"mount_callbacks\":[\"function () {\\n    var handler = ((function (Plotly,PlotlyWebIO){PlotlyWebIO.init(WebIO); var gd=this.dom.querySelector(\\\"#plot-77e742eb-ac28-423a-842d-f12ae2954029\\\"); this.plotElem=gd; this.Plotly=Plotly; (window.Blink!==undefined) ? (gd.style.width=\\\"100%\\\", gd.style.height=\\\"100vh\\\", gd.style.marginLeft=\\\"0%\\\", gd.style.marginTop=\\\"0vh\\\") : undefined; window.onresize=(function (){return Plotly.Plots.resize(gd)}); Plotly.newPlot(gd,[{\\\"zmax\\\":100,\\\"y\\\":[\\\"\\\"],\\\"type\\\":\\\"heatmap\\\",\\\"zmin\\\":0,\\\"colorscale\\\":\\\"Jet\\\",\\\"z\\\":[[21.70613409929751],[23.211159704771962],[26.978036590064526],[29.878286797774628],[31.25180547632148]],\\\"transpose\\\":true,\\\"showscale\\\":true,\\\"x\\\":[\\\"1º golduck\\\",\\\"2º blastoise\\\",\\\"3º charizard\\\",\\\"4º ninetales\\\",\\\"5º clefable\\\"]}],{\\\"coloraxis\\\":{\\\"colorbar\\\":{\\\"tickvals\\\":[0,50,100],\\\"title\\\":\\\"IAP\\\",\\\"ticktext\\\":[\\\"Baixo\\\",\\\"Médio\\\",\\\"Alto\\\"]}},\\\"xaxis\\\":{\\\"fixedrange\\\":true,\\\"side\\\":\\\"top\\\"},\\\"paper_bgcolor\\\":\\\"#EBDBAB\\\",\\\"template\\\":{\\\"layout\\\":{\\\"coloraxis\\\":{\\\"colorbar\\\":{\\\"ticks\\\":\\\"\\\",\\\"outlinewidth\\\":0}},\\\"xaxis\\\":{\\\"gridcolor\\\":\\\"white\\\",\\\"zerolinewidth\\\":2,\\\"title\\\":{\\\"standoff\\\":15},\\\"ticks\\\":\\\"\\\",\\\"zerolinecolor\\\":\\\"white\\\",\\\"automargin\\\":true,\\\"linecolor\\\":\\\"white\\\"},\\\"hovermode\\\":\\\"closest\\\",\\\"paper_bgcolor\\\":\\\"white\\\",\\\"geo\\\":{\\\"showlakes\\\":true,\\\"showland\\\":true,\\\"landcolor\\\":\\\"#E5ECF6\\\",\\\"bgcolor\\\":\\\"white\\\",\\\"subunitcolor\\\":\\\"white\\\",\\\"lakecolor\\\":\\\"white\\\"},\\\"colorscale\\\":{\\\"sequential\\\":[[0.0,\\\"#0d0887\\\"],[0.1111111111111111,\\\"#46039f\\\"],[0.2222222222222222,\\\"#7201a8\\\"],[0.3333333333333333,\\\"#9c179e\\\"],[0.4444444444444444,\\\"#bd3786\\\"],[0.5555555555555556,\\\"#d8576b\\\"],[0.6666666666666666,\\\"#ed7953\\\"],[0.7777777777777778,\\\"#fb9f3a\\\"],[0.8888888888888888,\\\"#fdca26\\\"],[1.0,\\\"#f0f921\\\"]],\\\"diverging\\\":[[0,\\\"#8e0152\\\"],[0.1,\\\"#c51b7d\\\"],[0.2,\\\"#de77ae\\\"],[0.3,\\\"#f1b6da\\\"],[0.4,\\\"#fde0ef\\\"],[0.5,\\\"#f7f7f7\\\"],[0.6,\\\"#e6f5d0\\\"],[0.7,\\\"#b8e186\\\"],[0.8,\\\"#7fbc41\\\"],[0.9,\\\"#4d9221\\\"],[1,\\\"#276419\\\"]],\\\"sequentialminus\\\":[[0.0,\\\"#0d0887\\\"],[0.1111111111111111,\\\"#46039f\\\"],[0.2222222222222222,\\\"#7201a8\\\"],[0.3333333333333333,\\\"#9c179e\\\"],[0.4444444444444444,\\\"#bd3786\\\"],[0.5555555555555556,\\\"#d8576b\\\"],[0.6666666666666666,\\\"#ed7953\\\"],[0.7777777777777778,\\\"#fb9f3a\\\"],[0.8888888888888888,\\\"#fdca26\\\"],[1.0,\\\"#f0f921\\\"]]},\\\"yaxis\\\":{\\\"gridcolor\\\":\\\"white\\\",\\\"zerolinewidth\\\":2,\\\"title\\\":{\\\"standoff\\\":15},\\\"ticks\\\":\\\"\\\",\\\"zerolinecolor\\\":\\\"white\\\",\\\"automargin\\\":true,\\\"linecolor\\\":\\\"white\\\"},\\\"shapedefaults\\\":{\\\"line\\\":{\\\"color\\\":\\\"#2a3f5f\\\"}},\\\"hoverlabel\\\":{\\\"align\\\":\\\"left\\\"},\\\"mapbox\\\":{\\\"style\\\":\\\"light\\\"},\\\"polar\\\":{\\\"angularaxis\\\":{\\\"gridcolor\\\":\\\"white\\\",\\\"ticks\\\":\\\"\\\",\\\"linecolor\\\":\\\"white\\\"},\\\"bgcolor\\\":\\\"#E5ECF6\\\",\\\"radialaxis\\\":{\\\"gridcolor\\\":\\\"white\\\",\\\"ticks\\\":\\\"\\\",\\\"linecolor\\\":\\\"white\\\"}},\\\"autotypenumbers\\\":\\\"strict\\\",\\\"font\\\":{\\\"color\\\":\\\"#2a3f5f\\\"},\\\"ternary\\\":{\\\"baxis\\\":{\\\"gridcolor\\\":\\\"white\\\",\\\"ticks\\\":\\\"\\\",\\\"linecolor\\\":\\\"white\\\"},\\\"bgcolor\\\":\\\"#E5ECF6\\\",\\\"caxis\\\":{\\\"gridcolor\\\":\\\"white\\\",\\\"ticks\\\":\\\"\\\",\\\"linecolor\\\":\\\"white\\\"},\\\"aaxis\\\":{\\\"gridcolor\\\":\\\"white\\\",\\\"ticks\\\":\\\"\\\",\\\"linecolor\\\":\\\"white\\\"}},\\\"annotationdefaults\\\":{\\\"arrowhead\\\":0,\\\"arrowwidth\\\":1,\\\"arrowcolor\\\":\\\"#2a3f5f\\\"},\\\"plot_bgcolor\\\":\\\"#E5ECF6\\\",\\\"title\\\":{\\\"x\\\":0.05},\\\"scene\\\":{\\\"xaxis\\\":{\\\"gridcolor\\\":\\\"white\\\",\\\"gridwidth\\\":2,\\\"backgroundcolor\\\":\\\"#E5ECF6\\\",\\\"ticks\\\":\\\"\\\",\\\"showbackground\\\":true,\\\"zerolinecolor\\\":\\\"white\\\",\\\"linecolor\\\":\\\"white\\\"},\\\"zaxis\\\":{\\\"gridcolor\\\":\\\"white\\\",\\\"gridwidth\\\":2,\\\"backgroundcolor\\\":\\\"#E5ECF6\\\",\\\"ticks\\\":\\\"\\\",\\\"showbackground\\\":true,\\\"zerolinecolor\\\":\\\"white\\\",\\\"linecolor\\\":\\\"white\\\"},\\\"yaxis\\\":{\\\"gridcolor\\\":\\\"white\\\",\\\"gridwidth\\\":2,\\\"backgroundcolor\\\":\\\"#E5ECF6\\\",\\\"ticks\\\":\\\"\\\",\\\"showbackground\\\":true,\\\"zerolinecolor\\\":\\\"white\\\",\\\"linecolor\\\":\\\"white\\\"}},\\\"colorway\\\":[\\\"#636efa\\\",\\\"#EF553B\\\",\\\"#00cc96\\\",\\\"#ab63fa\\\",\\\"#FFA15A\\\",\\\"#19d3f3\\\",\\\"#FF6692\\\",\\\"#B6E880\\\",\\\"#FF97FF\\\",\\\"#FECB52\\\"]},\\\"data\\\":{\\\"barpolar\\\":[{\\\"type\\\":\\\"barpolar\\\",\\\"marker\\\":{\\\"line\\\":{\\\"color\\\":\\\"#E5ECF6\\\",\\\"width\\\":0.5}}}],\\\"carpet\\\":[{\\\"aaxis\\\":{\\\"gridcolor\\\":\\\"white\\\",\\\"endlinecolor\\\":\\\"#2a3f5f\\\",\\\"minorgridcolor\\\":\\\"white\\\",\\\"startlinecolor\\\":\\\"#2a3f5f\\\",\\\"linecolor\\\":\\\"white\\\"},\\\"type\\\":\\\"carpet\\\",\\\"baxis\\\":{\\\"gridcolor\\\":\\\"white\\\",\\\"endlinecolor\\\":\\\"#2a3f5f\\\",\\\"minorgridcolor\\\":\\\"white\\\",\\\"startlinecolor\\\":\\\"#2a3f5f\\\",\\\"linecolor\\\":\\\"white\\\"}}],\\\"scatterpolar\\\":[{\\\"type\\\":\\\"scatterpolar\\\",\\\"marker\\\":{\\\"colorbar\\\":{\\\"ticks\\\":\\\"\\\",\\\"outlinewidth\\\":0}}}],\\\"parcoords\\\":[{\\\"line\\\":{\\\"colorbar\\\":{\\\"ticks\\\":\\\"\\\",\\\"outlinewidth\\\":0}},\\\"type\\\":\\\"parcoords\\\"}],\\\"scatter\\\":[{\\\"type\\\":\\\"scatter\\\",\\\"marker\\\":{\\\"colorbar\\\":{\\\"ticks\\\":\\\"\\\",\\\"outlinewidth\\\":0}}}],\\\"histogram2dcontour\\\":[{\\\"colorbar\\\":{\\\"ticks\\\":\\\"\\\",\\\"outlinewidth\\\":0},\\\"type\\\":\\\"histogram2dcontour\\\",\\\"colorscale\\\":[[0.0,\\\"#0d0887\\\"],[0.1111111111111111,\\\"#46039f\\\"],[0.2222222222222222,\\\"#7201a8\\\"],[0.3333333333333333,\\\"#9c179e\\\"],[0.4444444444444444,\\\"#bd3786\\\"],[0.5555555555555556,\\\"#d8576b\\\"],[0.6666666666666666,\\\"#ed7953\\\"],[0.7777777777777778,\\\"#fb9f3a\\\"],[0.8888888888888888,\\\"#fdca26\\\"],[1.0,\\\"#f0f921\\\"]]}],\\\"contour\\\":[{\\\"colorbar\\\":{\\\"ticks\\\":\\\"\\\",\\\"outlinewidth\\\":0},\\\"type\\\":\\\"contour\\\",\\\"colorscale\\\":[[0.0,\\\"#0d0887\\\"],[0.1111111111111111,\\\"#46039f\\\"],[0.2222222222222222,\\\"#7201a8\\\"],[0.3333333333333333,\\\"#9c179e\\\"],[0.4444444444444444,\\\"#bd3786\\\"],[0.5555555555555556,\\\"#d8576b\\\"],[0.6666666666666666,\\\"#ed7953\\\"],[0.7777777777777778,\\\"#fb9f3a\\\"],[0.8888888888888888,\\\"#fdca26\\\"],[1.0,\\\"#f0f921\\\"]]}],\\\"scattercarpet\\\":[{\\\"type\\\":\\\"scattercarpet\\\",\\\"marker\\\":{\\\"colorbar\\\":{\\\"ticks\\\":\\\"\\\",\\\"outlinewidth\\\":0}}}],\\\"mesh3d\\\":[{\\\"colorbar\\\":{\\\"ticks\\\":\\\"\\\",\\\"outlinewidth\\\":0},\\\"type\\\":\\\"mesh3d\\\"}],\\\"surface\\\":[{\\\"colorbar\\\":{\\\"ticks\\\":\\\"\\\",\\\"outlinewidth\\\":0},\\\"type\\\":\\\"surface\\\",\\\"colorscale\\\":[[0.0,\\\"#0d0887\\\"],[0.1111111111111111,\\\"#46039f\\\"],[0.2222222222222222,\\\"#7201a8\\\"],[0.3333333333333333,\\\"#9c179e\\\"],[0.4444444444444444,\\\"#bd3786\\\"],[0.5555555555555556,\\\"#d8576b\\\"],[0.6666666666666666,\\\"#ed7953\\\"],[0.7777777777777778,\\\"#fb9f3a\\\"],[0.8888888888888888,\\\"#fdca26\\\"],[1.0,\\\"#f0f921\\\"]]}],\\\"scattermapbox\\\":[{\\\"type\\\":\\\"scattermapbox\\\",\\\"marker\\\":{\\\"colorbar\\\":{\\\"ticks\\\":\\\"\\\",\\\"outlinewidth\\\":0}}}],\\\"scattergeo\\\":[{\\\"type\\\":\\\"scattergeo\\\",\\\"marker\\\":{\\\"colorbar\\\":{\\\"ticks\\\":\\\"\\\",\\\"outlinewidth\\\":0}}}],\\\"histogram\\\":[{\\\"type\\\":\\\"histogram\\\",\\\"marker\\\":{\\\"colorbar\\\":{\\\"ticks\\\":\\\"\\\",\\\"outlinewidth\\\":0}}}],\\\"pie\\\":[{\\\"type\\\":\\\"pie\\\",\\\"automargin\\\":true}],\\\"choropleth\\\":[{\\\"colorbar\\\":{\\\"ticks\\\":\\\"\\\",\\\"outlinewidth\\\":0},\\\"type\\\":\\\"choropleth\\\"}],\\\"heatmapgl\\\":[{\\\"colorbar\\\":{\\\"ticks\\\":\\\"\\\",\\\"outlinewidth\\\":0},\\\"type\\\":\\\"heatmapgl\\\",\\\"colorscale\\\":[[0.0,\\\"#0d0887\\\"],[0.1111111111111111,\\\"#46039f\\\"],[0.2222222222222222,\\\"#7201a8\\\"],[0.3333333333333333,\\\"#9c179e\\\"],[0.4444444444444444,\\\"#bd3786\\\"],[0.5555555555555556,\\\"#d8576b\\\"],[0.6666666666666666,\\\"#ed7953\\\"],[0.7777777777777778,\\\"#fb9f3a\\\"],[0.8888888888888888,\\\"#fdca26\\\"],[1.0,\\\"#f0f921\\\"]]}],\\\"bar\\\":[{\\\"type\\\":\\\"bar\\\",\\\"error_y\\\":{\\\"color\\\":\\\"#2a3f5f\\\"},\\\"error_x\\\":{\\\"color\\\":\\\"#2a3f5f\\\"},\\\"marker\\\":{\\\"line\\\":{\\\"color\\\":\\\"#E5ECF6\\\",\\\"width\\\":0.5}}}],\\\"heatmap\\\":[{\\\"colorbar\\\":{\\\"ticks\\\":\\\"\\\",\\\"outlinewidth\\\":0},\\\"type\\\":\\\"heatmap\\\",\\\"colorscale\\\":[[0.0,\\\"#0d0887\\\"],[0.1111111111111111,\\\"#46039f\\\"],[0.2222222222222222,\\\"#7201a8\\\"],[0.3333333333333333,\\\"#9c179e\\\"],[0.4444444444444444,\\\"#bd3786\\\"],[0.5555555555555556,\\\"#d8576b\\\"],[0.6666666666666666,\\\"#ed7953\\\"],[0.7777777777777778,\\\"#fb9f3a\\\"],[0.8888888888888888,\\\"#fdca26\\\"],[1.0,\\\"#f0f921\\\"]]}],\\\"contourcarpet\\\":[{\\\"colorbar\\\":{\\\"ticks\\\":\\\"\\\",\\\"outlinewidth\\\":0},\\\"type\\\":\\\"contourcarpet\\\"}],\\\"table\\\":[{\\\"type\\\":\\\"table\\\",\\\"header\\\":{\\\"line\\\":{\\\"color\\\":\\\"white\\\"},\\\"fill\\\":{\\\"color\\\":\\\"#C8D4E3\\\"}},\\\"cells\\\":{\\\"line\\\":{\\\"color\\\":\\\"white\\\"},\\\"fill\\\":{\\\"color\\\":\\\"#EBF0F8\\\"}}}],\\\"scatter3d\\\":[{\\\"line\\\":{\\\"colorbar\\\":{\\\"ticks\\\":\\\"\\\",\\\"outlinewidth\\\":0}},\\\"type\\\":\\\"scatter3d\\\",\\\"marker\\\":{\\\"colorbar\\\":{\\\"ticks\\\":\\\"\\\",\\\"outlinewidth\\\":0}}}],\\\"scattergl\\\":[{\\\"type\\\":\\\"scattergl\\\",\\\"marker\\\":{\\\"colorbar\\\":{\\\"ticks\\\":\\\"\\\",\\\"outlinewidth\\\":0}}}],\\\"histogram2d\\\":[{\\\"colorbar\\\":{\\\"ticks\\\":\\\"\\\",\\\"outlinewidth\\\":0},\\\"type\\\":\\\"histogram2d\\\",\\\"colorscale\\\":[[0.0,\\\"#0d0887\\\"],[0.1111111111111111,\\\"#46039f\\\"],[0.2222222222222222,\\\"#7201a8\\\"],[0.3333333333333333,\\\"#9c179e\\\"],[0.4444444444444444,\\\"#bd3786\\\"],[0.5555555555555556,\\\"#d8576b\\\"],[0.6666666666666666,\\\"#ed7953\\\"],[0.7777777777777778,\\\"#fb9f3a\\\"],[0.8888888888888888,\\\"#fdca26\\\"],[1.0,\\\"#f0f921\\\"]]}],\\\"scatterternary\\\":[{\\\"type\\\":\\\"scatterternary\\\",\\\"marker\\\":{\\\"colorbar\\\":{\\\"ticks\\\":\\\"\\\",\\\"outlinewidth\\\":0}}}],\\\"scatterpolargl\\\":[{\\\"type\\\":\\\"scatterpolargl\\\",\\\"marker\\\":{\\\"colorbar\\\":{\\\"ticks\\\":\\\"\\\",\\\"outlinewidth\\\":0}}}]}},\\\"height\\\":300,\\\"yaxis\\\":{\\\"visible\\\":false,\\\"fixedrange\\\":true},\\\"images\\\":[{\\\"y\\\":0,\\\"yanchor\\\":\\\"middle\\\",\\\"sizex\\\":1.35,\\\"source\\\":\\\"https:\\/\\/raw.githubusercontent.com\\/PokeAPI\\/sprites\\/master\\/sprites\\/pokemon\\/55.png\\\",\\\"sizey\\\":1.35,\\\"x\\\":0,\\\"xref\\\":\\\"x\\\",\\\"yref\\\":\\\"y\\\",\\\"xanchor\\\":\\\"center\\\"},{\\\"y\\\":0,\\\"yanchor\\\":\\\"middle\\\",\\\"sizex\\\":1.35,\\\"source\\\":\\\"https:\\/\\/raw.githubusercontent.com\\/PokeAPI\\/sprites\\/master\\/sprites\\/pokemon\\/9.png\\\",\\\"sizey\\\":1.35,\\\"x\\\":1,\\\"xref\\\":\\\"x\\\",\\\"yref\\\":\\\"y\\\",\\\"xanchor\\\":\\\"center\\\"},{\\\"y\\\":0,\\\"yanchor\\\":\\\"middle\\\",\\\"sizex\\\":1.35,\\\"source\\\":\\\"https:\\/\\/raw.githubusercontent.com\\/PokeAPI\\/sprites\\/master\\/sprites\\/pokemon\\/6.png\\\",\\\"sizey\\\":1.35,\\\"x\\\":2,\\\"xref\\\":\\\"x\\\",\\\"yref\\\":\\\"y\\\",\\\"xanchor\\\":\\\"center\\\"},{\\\"y\\\":0,\\\"yanchor\\\":\\\"middle\\\",\\\"sizex\\\":1.35,\\\"source\\\":\\\"https:\\/\\/raw.githubusercontent.com\\/PokeAPI\\/sprites\\/master\\/sprites\\/pokemon\\/38.png\\\",\\\"sizey\\\":1.35,\\\"x\\\":3,\\\"xref\\\":\\\"x\\\",\\\"yref\\\":\\\"y\\\",\\\"xanchor\\\":\\\"center\\\"},{\\\"y\\\":0,\\\"yanchor\\\":\\\"middle\\\",\\\"sizex\\\":1.35,\\\"source\\\":\\\"https:\\/\\/raw.githubusercontent.com\\/PokeAPI\\/sprites\\/master\\/sprites\\/pokemon\\/36.png\\\",\\\"sizey\\\":1.35,\\\"x\\\":4,\\\"xref\\\":\\\"x\\\",\\\"yref\\\":\\\"y\\\",\\\"xanchor\\\":\\\"center\\\"}],\\\"autosize\\\":true,\\\"font\\\":{\\\"color\\\":\\\"black\\\",\\\"family\\\":\\\"Arial Black\\\",\\\"size\\\":14},\\\"annotations\\\":[{\\\"yshift\\\":20,\\\"x\\\":0,\\\"xref\\\":\\\"x\\\",\\\"yref\\\":\\\"y\\\",\\\"font\\\":{\\\"color\\\":\\\"black\\\",\\\"size\\\":14},\\\"text\\\":\\\"21.7061\\\",\\\"showarrow\\\":false,\\\"y\\\":0.35},{\\\"yshift\\\":20,\\\"x\\\":1,\\\"xref\\\":\\\"x\\\",\\\"yref\\\":\\\"y\\\",\\\"font\\\":{\\\"color\\\":\\\"black\\\",\\\"size\\\":14},\\\"text\\\":\\\"23.2112\\\",\\\"showarrow\\\":false,\\\"y\\\":0.35},{\\\"yshift\\\":20,\\\"x\\\":2,\\\"xref\\\":\\\"x\\\",\\\"yref\\\":\\\"y\\\",\\\"font\\\":{\\\"color\\\":\\\"black\\\",\\\"size\\\":14},\\\"text\\\":\\\"26.978\\\",\\\"showarrow\\\":false,\\\"y\\\":0.35},{\\\"yshift\\\":20,\\\"x\\\":3,\\\"xref\\\":\\\"x\\\",\\\"yref\\\":\\\"y\\\",\\\"font\\\":{\\\"color\\\":\\\"black\\\",\\\"size\\\":14},\\\"text\\\":\\\"29.8783\\\",\\\"showarrow\\\":false,\\\"y\\\":0.35},{\\\"yshift\\\":20,\\\"x\\\":4,\\\"xref\\\":\\\"x\\\",\\\"yref\\\":\\\"y\\\",\\\"font\\\":{\\\"color\\\":\\\"black\\\",\\\"size\\\":14},\\\"text\\\":\\\"31.2518\\\",\\\"showarrow\\\":false,\\\"y\\\":0.35}],\\\"title\\\":\\\"Top 5 pokemons com IAP mais próximos de: venusaur\\\",\\\"margin\\\":{\\\"l\\\":50,\\\"b\\\":30,\\\"r\\\":50,\\\"t\\\":50},\\\"automargin\\\":true,\\\"width\\\":985},{\\\"showLink\\\":false,\\\"editable\\\":false,\\\"responsive\\\":true,\\\"staticPlot\\\":false,\\\"scrollZoom\\\":true}); gd.on(\\\"plotly_hover\\\",(function (data){var filtered_data=WebIO.PlotlyCommands.filterEventData(gd,data,\\\"hover\\\"); return !(filtered_data.isnil) ? (WebIO.setval({\\\"name\\\":\\\"hover\\\",\\\"scope\\\":\\\"13178328196864558624\\\",\\\"id\\\":\\\"1701\\\",\\\"type\\\":\\\"observable\\\"},filtered_data.out)) : undefined})); gd.on(\\\"plotly_unhover\\\",(function (){return WebIO.setval({\\\"name\\\":\\\"hover\\\",\\\"scope\\\":\\\"13178328196864558624\\\",\\\"id\\\":\\\"1701\\\",\\\"type\\\":\\\"observable\\\"},{})})); gd.on(\\\"plotly_selected\\\",(function (data){var filtered_data=WebIO.PlotlyCommands.filterEventData(gd,data,\\\"selected\\\"); return !(filtered_data.isnil) ? (WebIO.setval({\\\"name\\\":\\\"selected\\\",\\\"scope\\\":\\\"13178328196864558624\\\",\\\"id\\\":\\\"1702\\\",\\\"type\\\":\\\"observable\\\"},filtered_data.out)) : undefined})); gd.on(\\\"plotly_deselect\\\",(function (){return WebIO.setval({\\\"name\\\":\\\"selected\\\",\\\"scope\\\":\\\"13178328196864558624\\\",\\\"id\\\":\\\"1702\\\",\\\"type\\\":\\\"observable\\\"},{})})); gd.on(\\\"plotly_relayout\\\",(function (data){var filtered_data=WebIO.PlotlyCommands.filterEventData(gd,data,\\\"relayout\\\"); return !(filtered_data.isnil) ? (WebIO.setval({\\\"name\\\":\\\"relayout\\\",\\\"scope\\\":\\\"13178328196864558624\\\",\\\"id\\\":\\\"1704\\\",\\\"type\\\":\\\"observable\\\"},filtered_data.out)) : undefined})); return gd.on(\\\"plotly_click\\\",(function (data){var filtered_data=WebIO.PlotlyCommands.filterEventData(gd,data,\\\"click\\\"); return !(filtered_data.isnil) ? (WebIO.setval({\\\"name\\\":\\\"click\\\",\\\"scope\\\":\\\"13178328196864558624\\\",\\\"id\\\":\\\"1703\\\",\\\"type\\\":\\\"observable\\\"},filtered_data.out)) : undefined}))}));\\n    (WebIO.importBlock({\\\"data\\\":[{\\\"name\\\":\\\"Plotly\\\",\\\"type\\\":\\\"js\\\",\\\"url\\\":\\\"\\/assetserver\\/53a7aadb162a8ed394abcda57c2b6e741dfa1bbf-plotly.min.js\\\"},{\\\"name\\\":null,\\\"type\\\":\\\"js\\\",\\\"url\\\":\\\"\\/assetserver\\/6711c1456783a56df2a429d652f48fa138f5bf84-plotly_webio.bundle.js\\\"}],\\\"type\\\":\\\"async_block\\\"})).then((imports) => handler.apply(this, imports));\\n}\\n\"],\"observables\":{\"_toImage\":{\"sync\":false,\"id\":\"1708\",\"value\":{}},\"hover\":{\"sync\":false,\"id\":\"1701\",\"value\":{}},\"selected\":{\"sync\":false,\"id\":\"1702\",\"value\":{}},\"__gd_contents\":{\"sync\":false,\"id\":\"1706\",\"value\":{}},\"click\":{\"sync\":false,\"id\":\"1703\",\"value\":{}},\"image\":{\"sync\":true,\"id\":\"1705\",\"value\":\"\"},\"__get_gd_contents\":{\"sync\":false,\"id\":\"1710\",\"value\":\"\"},\"_downloadImage\":{\"sync\":false,\"id\":\"1709\",\"value\":{}},\"relayout\":{\"sync\":false,\"id\":\"1704\",\"value\":{}},\"_commands\":{\"sync\":false,\"id\":\"1707\",\"value\":[]}}},\"children\":[{\"props\":{\"id\":\"plot-77e742eb-ac28-423a-842d-f12ae2954029\"},\"nodeType\":\"DOM\",\"type\":\"node\",\"instanceArgs\":{\"namespace\":\"html\",\"tag\":\"div\"},\"children\":[]}]},\n",
       "        window,\n",
       "    );\n",
       "    })()\n",
       "    </script>\n",
       "</div>\n"
      ],
      "text/plain": [
       "data: [\n",
       "  \"heatmap with fields colorscale, showscale, transpose, type, x, y, z, zmax, and zmin\"\n",
       "]\n",
       "\n",
       "layout: \"layout with fields annotations, automargin, autosize, coloraxis, font, height, images, margin, paper_bgcolor, template, title, width, xaxis, and yaxis\"\n",
       "\n"
      ]
     },
     "metadata": {},
     "output_type": "display_data"
    }
   ],
   "source": [
    "plot_graphic(teste3[1], teste3[2],teste3[3])"
   ]
  },
  {
   "cell_type": "code",
   "execution_count": 345,
   "metadata": {},
   "outputs": [
    {
     "data": {
      "application/vnd.plotly.v1+json": {
       "config": {
        "editable": false,
        "responsive": true,
        "scrollZoom": true,
        "showLink": false,
        "staticPlot": false
       },
       "data": [
        {
         "colorscale": "Jet",
         "showscale": true,
         "transpose": true,
         "type": "heatmap",
         "x": [
          "1º krabby",
          "2º shellder",
          "3º onix",
          "4º diglett",
          "5º geodude"
         ],
         "y": [
          ""
         ],
         "z": [
          [
           90.67999253817123
          ],
          [
           97.60210349561514
          ],
          [
           98.55292622391164
          ],
          [
           99.36489657519904
          ],
          [
           104.11589457686831
          ]
         ],
         "zmax": 100,
         "zmin": 0
        }
       ],
       "frames": [],
       "layout": {
        "annotations": [
         {
          "font": {
           "color": "black",
           "size": 14
          },
          "showarrow": false,
          "text": "90.68",
          "x": 0,
          "xref": "x",
          "y": 0.35,
          "yref": "y",
          "yshift": 20
         },
         {
          "font": {
           "color": "black",
           "size": 14
          },
          "showarrow": false,
          "text": "97.6021",
          "x": 1,
          "xref": "x",
          "y": 0.35,
          "yref": "y",
          "yshift": 20
         },
         {
          "font": {
           "color": "black",
           "size": 14
          },
          "showarrow": false,
          "text": "98.5529",
          "x": 2,
          "xref": "x",
          "y": 0.35,
          "yref": "y",
          "yshift": 20
         },
         {
          "font": {
           "color": "black",
           "size": 14
          },
          "showarrow": false,
          "text": "99.3649",
          "x": 3,
          "xref": "x",
          "y": 0.35,
          "yref": "y",
          "yshift": 20
         },
         {
          "font": {
           "color": "black",
           "size": 14
          },
          "showarrow": false,
          "text": "104.1159",
          "x": 4,
          "xref": "x",
          "y": 0.35,
          "yref": "y",
          "yshift": 20
         }
        ],
        "automargin": true,
        "autosize": true,
        "coloraxis": {
         "colorbar": {
          "ticktext": [
           "Baixo",
           "Médio",
           "Alto"
          ],
          "tickvals": [
           0,
           50,
           100
          ],
          "title": "IAP"
         }
        },
        "font": {
         "color": "black",
         "family": "Arial Black",
         "size": 14
        },
        "height": 300,
        "images": [
         {
          "sizex": 1.35,
          "sizey": 1.35,
          "source": "https://raw.githubusercontent.com/PokeAPI/sprites/master/sprites/pokemon/98.png",
          "x": 0,
          "xanchor": "center",
          "xref": "x",
          "y": 0,
          "yanchor": "middle",
          "yref": "y"
         },
         {
          "sizex": 1.35,
          "sizey": 1.35,
          "source": "https://raw.githubusercontent.com/PokeAPI/sprites/master/sprites/pokemon/90.png",
          "x": 1,
          "xanchor": "center",
          "xref": "x",
          "y": 0,
          "yanchor": "middle",
          "yref": "y"
         },
         {
          "sizex": 1.35,
          "sizey": 1.35,
          "source": "https://raw.githubusercontent.com/PokeAPI/sprites/master/sprites/pokemon/95.png",
          "x": 2,
          "xanchor": "center",
          "xref": "x",
          "y": 0,
          "yanchor": "middle",
          "yref": "y"
         },
         {
          "sizex": 1.35,
          "sizey": 1.35,
          "source": "https://raw.githubusercontent.com/PokeAPI/sprites/master/sprites/pokemon/50.png",
          "x": 3,
          "xanchor": "center",
          "xref": "x",
          "y": 0,
          "yanchor": "middle",
          "yref": "y"
         },
         {
          "sizex": 1.35,
          "sizey": 1.35,
          "source": "https://raw.githubusercontent.com/PokeAPI/sprites/master/sprites/pokemon/74.png",
          "x": 4,
          "xanchor": "center",
          "xref": "x",
          "y": 0,
          "yanchor": "middle",
          "yref": "y"
         }
        ],
        "margin": {
         "b": 30,
         "l": 50,
         "r": 50,
         "t": 50
        },
        "paper_bgcolor": "#EBDBAB",
        "template": {
         "data": {
          "bar": [
           {
            "error_x": {
             "color": "#2a3f5f"
            },
            "error_y": {
             "color": "#2a3f5f"
            },
            "marker": {
             "line": {
              "color": "#E5ECF6",
              "width": 0.5
             }
            },
            "type": "bar"
           }
          ],
          "barpolar": [
           {
            "marker": {
             "line": {
              "color": "#E5ECF6",
              "width": 0.5
             }
            },
            "type": "barpolar"
           }
          ],
          "carpet": [
           {
            "aaxis": {
             "endlinecolor": "#2a3f5f",
             "gridcolor": "white",
             "linecolor": "white",
             "minorgridcolor": "white",
             "startlinecolor": "#2a3f5f"
            },
            "baxis": {
             "endlinecolor": "#2a3f5f",
             "gridcolor": "white",
             "linecolor": "white",
             "minorgridcolor": "white",
             "startlinecolor": "#2a3f5f"
            },
            "type": "carpet"
           }
          ],
          "choropleth": [
           {
            "colorbar": {
             "outlinewidth": 0,
             "ticks": ""
            },
            "type": "choropleth"
           }
          ],
          "contour": [
           {
            "colorbar": {
             "outlinewidth": 0,
             "ticks": ""
            },
            "colorscale": [
             [
              0,
              "#0d0887"
             ],
             [
              0.1111111111111111,
              "#46039f"
             ],
             [
              0.2222222222222222,
              "#7201a8"
             ],
             [
              0.3333333333333333,
              "#9c179e"
             ],
             [
              0.4444444444444444,
              "#bd3786"
             ],
             [
              0.5555555555555556,
              "#d8576b"
             ],
             [
              0.6666666666666666,
              "#ed7953"
             ],
             [
              0.7777777777777778,
              "#fb9f3a"
             ],
             [
              0.8888888888888888,
              "#fdca26"
             ],
             [
              1,
              "#f0f921"
             ]
            ],
            "type": "contour"
           }
          ],
          "contourcarpet": [
           {
            "colorbar": {
             "outlinewidth": 0,
             "ticks": ""
            },
            "type": "contourcarpet"
           }
          ],
          "heatmap": [
           {
            "colorbar": {
             "outlinewidth": 0,
             "ticks": ""
            },
            "colorscale": [
             [
              0,
              "#0d0887"
             ],
             [
              0.1111111111111111,
              "#46039f"
             ],
             [
              0.2222222222222222,
              "#7201a8"
             ],
             [
              0.3333333333333333,
              "#9c179e"
             ],
             [
              0.4444444444444444,
              "#bd3786"
             ],
             [
              0.5555555555555556,
              "#d8576b"
             ],
             [
              0.6666666666666666,
              "#ed7953"
             ],
             [
              0.7777777777777778,
              "#fb9f3a"
             ],
             [
              0.8888888888888888,
              "#fdca26"
             ],
             [
              1,
              "#f0f921"
             ]
            ],
            "type": "heatmap"
           }
          ],
          "heatmapgl": [
           {
            "colorbar": {
             "outlinewidth": 0,
             "ticks": ""
            },
            "colorscale": [
             [
              0,
              "#0d0887"
             ],
             [
              0.1111111111111111,
              "#46039f"
             ],
             [
              0.2222222222222222,
              "#7201a8"
             ],
             [
              0.3333333333333333,
              "#9c179e"
             ],
             [
              0.4444444444444444,
              "#bd3786"
             ],
             [
              0.5555555555555556,
              "#d8576b"
             ],
             [
              0.6666666666666666,
              "#ed7953"
             ],
             [
              0.7777777777777778,
              "#fb9f3a"
             ],
             [
              0.8888888888888888,
              "#fdca26"
             ],
             [
              1,
              "#f0f921"
             ]
            ],
            "type": "heatmapgl"
           }
          ],
          "histogram": [
           {
            "marker": {
             "colorbar": {
              "outlinewidth": 0,
              "ticks": ""
             }
            },
            "type": "histogram"
           }
          ],
          "histogram2d": [
           {
            "colorbar": {
             "outlinewidth": 0,
             "ticks": ""
            },
            "colorscale": [
             [
              0,
              "#0d0887"
             ],
             [
              0.1111111111111111,
              "#46039f"
             ],
             [
              0.2222222222222222,
              "#7201a8"
             ],
             [
              0.3333333333333333,
              "#9c179e"
             ],
             [
              0.4444444444444444,
              "#bd3786"
             ],
             [
              0.5555555555555556,
              "#d8576b"
             ],
             [
              0.6666666666666666,
              "#ed7953"
             ],
             [
              0.7777777777777778,
              "#fb9f3a"
             ],
             [
              0.8888888888888888,
              "#fdca26"
             ],
             [
              1,
              "#f0f921"
             ]
            ],
            "type": "histogram2d"
           }
          ],
          "histogram2dcontour": [
           {
            "colorbar": {
             "outlinewidth": 0,
             "ticks": ""
            },
            "colorscale": [
             [
              0,
              "#0d0887"
             ],
             [
              0.1111111111111111,
              "#46039f"
             ],
             [
              0.2222222222222222,
              "#7201a8"
             ],
             [
              0.3333333333333333,
              "#9c179e"
             ],
             [
              0.4444444444444444,
              "#bd3786"
             ],
             [
              0.5555555555555556,
              "#d8576b"
             ],
             [
              0.6666666666666666,
              "#ed7953"
             ],
             [
              0.7777777777777778,
              "#fb9f3a"
             ],
             [
              0.8888888888888888,
              "#fdca26"
             ],
             [
              1,
              "#f0f921"
             ]
            ],
            "type": "histogram2dcontour"
           }
          ],
          "mesh3d": [
           {
            "colorbar": {
             "outlinewidth": 0,
             "ticks": ""
            },
            "type": "mesh3d"
           }
          ],
          "parcoords": [
           {
            "line": {
             "colorbar": {
              "outlinewidth": 0,
              "ticks": ""
             }
            },
            "type": "parcoords"
           }
          ],
          "pie": [
           {
            "automargin": true,
            "type": "pie"
           }
          ],
          "scatter": [
           {
            "marker": {
             "colorbar": {
              "outlinewidth": 0,
              "ticks": ""
             }
            },
            "type": "scatter"
           }
          ],
          "scatter3d": [
           {
            "line": {
             "colorbar": {
              "outlinewidth": 0,
              "ticks": ""
             }
            },
            "marker": {
             "colorbar": {
              "outlinewidth": 0,
              "ticks": ""
             }
            },
            "type": "scatter3d"
           }
          ],
          "scattercarpet": [
           {
            "marker": {
             "colorbar": {
              "outlinewidth": 0,
              "ticks": ""
             }
            },
            "type": "scattercarpet"
           }
          ],
          "scattergeo": [
           {
            "marker": {
             "colorbar": {
              "outlinewidth": 0,
              "ticks": ""
             }
            },
            "type": "scattergeo"
           }
          ],
          "scattergl": [
           {
            "marker": {
             "colorbar": {
              "outlinewidth": 0,
              "ticks": ""
             }
            },
            "type": "scattergl"
           }
          ],
          "scattermapbox": [
           {
            "marker": {
             "colorbar": {
              "outlinewidth": 0,
              "ticks": ""
             }
            },
            "type": "scattermapbox"
           }
          ],
          "scatterpolar": [
           {
            "marker": {
             "colorbar": {
              "outlinewidth": 0,
              "ticks": ""
             }
            },
            "type": "scatterpolar"
           }
          ],
          "scatterpolargl": [
           {
            "marker": {
             "colorbar": {
              "outlinewidth": 0,
              "ticks": ""
             }
            },
            "type": "scatterpolargl"
           }
          ],
          "scatterternary": [
           {
            "marker": {
             "colorbar": {
              "outlinewidth": 0,
              "ticks": ""
             }
            },
            "type": "scatterternary"
           }
          ],
          "surface": [
           {
            "colorbar": {
             "outlinewidth": 0,
             "ticks": ""
            },
            "colorscale": [
             [
              0,
              "#0d0887"
             ],
             [
              0.1111111111111111,
              "#46039f"
             ],
             [
              0.2222222222222222,
              "#7201a8"
             ],
             [
              0.3333333333333333,
              "#9c179e"
             ],
             [
              0.4444444444444444,
              "#bd3786"
             ],
             [
              0.5555555555555556,
              "#d8576b"
             ],
             [
              0.6666666666666666,
              "#ed7953"
             ],
             [
              0.7777777777777778,
              "#fb9f3a"
             ],
             [
              0.8888888888888888,
              "#fdca26"
             ],
             [
              1,
              "#f0f921"
             ]
            ],
            "type": "surface"
           }
          ],
          "table": [
           {
            "cells": {
             "fill": {
              "color": "#EBF0F8"
             },
             "line": {
              "color": "white"
             }
            },
            "header": {
             "fill": {
              "color": "#C8D4E3"
             },
             "line": {
              "color": "white"
             }
            },
            "type": "table"
           }
          ]
         },
         "layout": {
          "annotationdefaults": {
           "arrowcolor": "#2a3f5f",
           "arrowhead": 0,
           "arrowwidth": 1
          },
          "autotypenumbers": "strict",
          "coloraxis": {
           "colorbar": {
            "outlinewidth": 0,
            "ticks": ""
           }
          },
          "colorscale": {
           "diverging": [
            [
             0,
             "#8e0152"
            ],
            [
             0.1,
             "#c51b7d"
            ],
            [
             0.2,
             "#de77ae"
            ],
            [
             0.3,
             "#f1b6da"
            ],
            [
             0.4,
             "#fde0ef"
            ],
            [
             0.5,
             "#f7f7f7"
            ],
            [
             0.6,
             "#e6f5d0"
            ],
            [
             0.7,
             "#b8e186"
            ],
            [
             0.8,
             "#7fbc41"
            ],
            [
             0.9,
             "#4d9221"
            ],
            [
             1,
             "#276419"
            ]
           ],
           "sequential": [
            [
             0,
             "#0d0887"
            ],
            [
             0.1111111111111111,
             "#46039f"
            ],
            [
             0.2222222222222222,
             "#7201a8"
            ],
            [
             0.3333333333333333,
             "#9c179e"
            ],
            [
             0.4444444444444444,
             "#bd3786"
            ],
            [
             0.5555555555555556,
             "#d8576b"
            ],
            [
             0.6666666666666666,
             "#ed7953"
            ],
            [
             0.7777777777777778,
             "#fb9f3a"
            ],
            [
             0.8888888888888888,
             "#fdca26"
            ],
            [
             1,
             "#f0f921"
            ]
           ],
           "sequentialminus": [
            [
             0,
             "#0d0887"
            ],
            [
             0.1111111111111111,
             "#46039f"
            ],
            [
             0.2222222222222222,
             "#7201a8"
            ],
            [
             0.3333333333333333,
             "#9c179e"
            ],
            [
             0.4444444444444444,
             "#bd3786"
            ],
            [
             0.5555555555555556,
             "#d8576b"
            ],
            [
             0.6666666666666666,
             "#ed7953"
            ],
            [
             0.7777777777777778,
             "#fb9f3a"
            ],
            [
             0.8888888888888888,
             "#fdca26"
            ],
            [
             1,
             "#f0f921"
            ]
           ]
          },
          "colorway": [
           "#636efa",
           "#EF553B",
           "#00cc96",
           "#ab63fa",
           "#FFA15A",
           "#19d3f3",
           "#FF6692",
           "#B6E880",
           "#FF97FF",
           "#FECB52"
          ],
          "font": {
           "color": "#2a3f5f"
          },
          "geo": {
           "bgcolor": "white",
           "lakecolor": "white",
           "landcolor": "#E5ECF6",
           "showlakes": true,
           "showland": true,
           "subunitcolor": "white"
          },
          "hoverlabel": {
           "align": "left"
          },
          "hovermode": "closest",
          "mapbox": {
           "style": "light"
          },
          "paper_bgcolor": "white",
          "plot_bgcolor": "#E5ECF6",
          "polar": {
           "angularaxis": {
            "gridcolor": "white",
            "linecolor": "white",
            "ticks": ""
           },
           "bgcolor": "#E5ECF6",
           "radialaxis": {
            "gridcolor": "white",
            "linecolor": "white",
            "ticks": ""
           }
          },
          "scene": {
           "xaxis": {
            "backgroundcolor": "#E5ECF6",
            "gridcolor": "white",
            "gridwidth": 2,
            "linecolor": "white",
            "showbackground": true,
            "ticks": "",
            "zerolinecolor": "white"
           },
           "yaxis": {
            "backgroundcolor": "#E5ECF6",
            "gridcolor": "white",
            "gridwidth": 2,
            "linecolor": "white",
            "showbackground": true,
            "ticks": "",
            "zerolinecolor": "white"
           },
           "zaxis": {
            "backgroundcolor": "#E5ECF6",
            "gridcolor": "white",
            "gridwidth": 2,
            "linecolor": "white",
            "showbackground": true,
            "ticks": "",
            "zerolinecolor": "white"
           }
          },
          "shapedefaults": {
           "line": {
            "color": "#2a3f5f"
           }
          },
          "ternary": {
           "aaxis": {
            "gridcolor": "white",
            "linecolor": "white",
            "ticks": ""
           },
           "baxis": {
            "gridcolor": "white",
            "linecolor": "white",
            "ticks": ""
           },
           "bgcolor": "#E5ECF6",
           "caxis": {
            "gridcolor": "white",
            "linecolor": "white",
            "ticks": ""
           }
          },
          "title": {
           "x": 0.05
          },
          "xaxis": {
           "automargin": true,
           "gridcolor": "white",
           "linecolor": "white",
           "ticks": "",
           "title": {
            "standoff": 15
           },
           "zerolinecolor": "white",
           "zerolinewidth": 2
          },
          "yaxis": {
           "automargin": true,
           "gridcolor": "white",
           "linecolor": "white",
           "ticks": "",
           "title": {
            "standoff": 15
           },
           "zerolinecolor": "white",
           "zerolinewidth": 2
          }
         }
        },
        "title": "Top 5 pokemons com IAP mais próximos de: chansey",
        "width": 985,
        "xaxis": {
         "fixedrange": true,
         "side": "top"
        },
        "yaxis": {
         "fixedrange": true,
         "visible": false
        }
       }
      },
      "image/png": "[encoded data removed]",
      "image/svg+xml": [
       "<svg class=\"main-svg\" xmlns=\"http://www.w3.org/2000/svg\" xmlns:xlink=\"http://www.w3.org/1999/xlink\" width=\"700\" height=\"500\" style=\"\" viewBox=\"0 0 700 500\"><rect x=\"0\" y=\"0\" width=\"700\" height=\"500\" style=\"fill: rgb(235, 219, 171); fill-opacity: 1;\"/><defs id=\"defs-a2d74d\"><g class=\"clips\"><clipPath id=\"clipa2d74dxyplot\" class=\"plotclip\"><rect width=\"548\" height=\"420\"/></clipPath><clipPath class=\"axesclip\" id=\"clipa2d74dx\"><rect x=\"50\" y=\"0\" width=\"548\" height=\"500\"/></clipPath><clipPath class=\"axesclip\" id=\"clipa2d74dy\"><rect x=\"0\" y=\"50\" width=\"700\" height=\"420\"/></clipPath><clipPath class=\"axesclip\" id=\"clipa2d74dxy\"><rect x=\"50\" y=\"50\" width=\"548\" height=\"420\"/></clipPath></g><g class=\"gradients\"><linearGradient x1=\"0\" x2=\"0\" y1=\"1\" y2=\"0\" id=\"ga2d74d-cb6057b6\"><stop offset=\"0%\" stop-color=\"rgb(0, 0, 131)\" stop-opacity=\"1\"/><stop offset=\"12.5%\" stop-color=\"rgb(0, 60, 170)\" stop-opacity=\"1\"/><stop offset=\"37.5%\" stop-color=\"rgb(5, 255, 255)\" stop-opacity=\"1\"/><stop offset=\"62.5%\" stop-color=\"rgb(255, 255, 0)\" stop-opacity=\"1\"/><stop offset=\"87.5%\" stop-color=\"rgb(250, 0, 0)\" stop-opacity=\"1\"/><stop offset=\"100%\" stop-color=\"rgb(128, 0, 0)\" stop-opacity=\"1\"/></linearGradient></g><g class=\"patterns\"/></defs><g class=\"bglayer\"><rect class=\"bg\" x=\"50\" y=\"50\" width=\"548\" height=\"420\" style=\"fill: rgb(229, 236, 246); fill-opacity: 1; stroke-width: 0;\"/></g><g class=\"layer-below\"><g class=\"imagelayer\"/><g class=\"shapelayer\"/></g><g class=\"cartesianlayer\"><g class=\"subplot xy\"><g class=\"layer-subplot\"><g class=\"shapelayer\"/><g class=\"imagelayer\"/></g><g class=\"gridlayer\"><g class=\"x\"><path class=\"xgrid crisp\" transform=\"translate(104.8,0)\" d=\"M0,50v420\" style=\"stroke: rgb(255, 255, 255); stroke-opacity: 1; stroke-width: 1px;\"/><path class=\"xgrid crisp\" transform=\"translate(214.4,0)\" d=\"M0,50v420\" style=\"stroke: rgb(255, 255, 255); stroke-opacity: 1; stroke-width: 1px;\"/><path class=\"xgrid crisp\" transform=\"translate(324,0)\" d=\"M0,50v420\" style=\"stroke: rgb(255, 255, 255); stroke-opacity: 1; stroke-width: 1px;\"/><path class=\"xgrid crisp\" transform=\"translate(433.6,0)\" d=\"M0,50v420\" style=\"stroke: rgb(255, 255, 255); stroke-opacity: 1; stroke-width: 1px;\"/><path class=\"xgrid crisp\" transform=\"translate(543.2,0)\" d=\"M0,50v420\" style=\"stroke: rgb(255, 255, 255); stroke-opacity: 1; stroke-width: 1px;\"/></g><g class=\"y\"/></g><g class=\"zerolinelayer\"/><path class=\"xlines-below\"/><path class=\"ylines-below\"/><g class=\"overlines-below\"/><g class=\"xaxislayer-below\"/><g class=\"yaxislayer-below\"/><g class=\"overaxes-below\"/><g class=\"plot\" transform=\"translate(50,50)\" clip-path=\"url(#clipa2d74dxyplot)\"><g class=\"heatmaplayer mlayer\"><g class=\"hm\"><image xmlns=\"http://www.w3.org/2000/svg\" preserveAspectRatio=\"none\" height=\"420\" width=\"548\" x=\"0\" y=\"0\" xlink:href=\"data:image/png;base64,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\" style=\"opacity: 1;\"/></g></g></g><g class=\"overplot\"/><path class=\"xlines-above crisp\" d=\"M0,0\" style=\"fill: none;\"/><path class=\"ylines-above crisp\" d=\"M0,0\" style=\"fill: none;\"/><g class=\"overlines-above\"/><g class=\"xaxislayer-above\"><g class=\"xtick\"><text text-anchor=\"middle\" x=\"0\" y=\"46.2\" transform=\"translate(104.8,0)\" style=\"font-family: 'Arial Black'; font-size: 14px; fill: rgb(0, 0, 0); fill-opacity: 1; white-space: pre; opacity: 1;\">1º krabby</text></g><g class=\"xtick\"><text text-anchor=\"middle\" x=\"0\" y=\"46.2\" transform=\"translate(214.4,0)\" style=\"font-family: 'Arial Black'; font-size: 14px; fill: rgb(0, 0, 0); fill-opacity: 1; white-space: pre; opacity: 1;\">2º shellder</text></g><g class=\"xtick\"><text text-anchor=\"middle\" x=\"0\" y=\"46.2\" transform=\"translate(324,0)\" style=\"font-family: 'Arial Black'; font-size: 14px; fill: rgb(0, 0, 0); fill-opacity: 1; white-space: pre; opacity: 1;\">3º onix</text></g><g class=\"xtick\"><text text-anchor=\"middle\" x=\"0\" y=\"46.2\" transform=\"translate(433.6,0)\" style=\"font-family: 'Arial Black'; font-size: 14px; fill: rgb(0, 0, 0); fill-opacity: 1; white-space: pre; opacity: 1;\">4º diglett</text></g><g class=\"xtick\"><text text-anchor=\"middle\" x=\"0\" y=\"46.2\" transform=\"translate(543.2,0)\" style=\"font-family: 'Arial Black'; font-size: 14px; fill: rgb(0, 0, 0); fill-opacity: 1; white-space: pre; opacity: 1;\">5º geodude</text></g></g><g class=\"yaxislayer-above\"/><g class=\"overaxes-above\"/></g></g><g class=\"polarlayer\"/><g class=\"ternarylayer\"/><g class=\"geolayer\"/><g class=\"funnelarealayer\"/><g class=\"pielayer\"/><g class=\"iciclelayer\"/><g class=\"treemaplayer\"/><g class=\"sunburstlayer\"/><g class=\"glimages\"/><defs id=\"topdefs-a2d74d\"><g class=\"clips\"/></defs><g class=\"layer-above\"><g class=\"imagelayer\"><image xmlns=\"http://www.w3.org/2000/svg\" x=\"30.820000000000007\" y=\"-23.5\" width=\"147.95999999999998\" height=\"567\" preserveAspectRatio=\"xMidYMid\" opacity=\"1\" clip-path=\"url(#clipa2d74dxy)\" xlink:href=\"data:image/png;base64,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\"/><image xmlns=\"http://www.w3.org/2000/svg\" x=\"140.42000000000002\" y=\"-23.5\" width=\"147.95999999999998\" height=\"567\" preserveAspectRatio=\"xMidYMid\" opacity=\"1\" clip-path=\"url(#clipa2d74dxy)\" xlink:href=\"data:image/png;base64,iVBORw0KGgoAAAANSUhEUgAAAGAAAABgCAYAAADimHc4AAAFMUlEQVR4Xu2aL3gbVxDEX1jKZJiiqExhNotpWcxU5rAaKqwKcmCM6kJBF5pVLGGlDrNZxSLWQIslzPnmormsnp4ku1+SeY3mSCLdn72b387u3pPvJW9SBe5Jozt4MgBxEhiAAYgVEIe3AwxArIA4vB1gAGIFxOHtAAMQKyAObwcYgFgBcXg7wADECojD2wEGIFZAHN4OMACxAuLwdoABiBUQh7cDDECsgDi8HWAAYgXE4e0AAxArIA5vBxiAWAFxeDvAAMQKiMPbAQYgVkAcvgoH/Hb4+w10+OP8eRX38y2ZyB8Y4g9eDppnHr0YbR0EOYAnj3+9OX55mh507zcQnj19ll6/+XPtfdExOH4ynSwkLM8tHbPput8y8xlLDgA3ArH6R0ft85+8GC5BiIL2dveXtJpcXTTfRSD9/udrYt94fNZet5ayVwUAuiCqSggUCqL39nrtIZPLSaLo+LIEBYJjAwgcSzi9bi/VUvaqAACRcggUOBe+yeSzubDBNSSD8/INICA6AETxb1vyvmZpqgYAMp1ZzMyOZakpL/Osz7/PBcrdwdLEXvNu+qE5BS67mIzTbDaT6SALXMoquAAZWsr624gfhY8wS9c7+OWndHr8qrmN4cmBDEI1AOAAlAjU61jrmfkoI8jgVVsJEMtR3jsgOMWH285en2w3AJYfiFEqO/9F/LwnAAKAQPz9Xr9tzErxcY9yB+Ti502UDTSfcpjVOH4doHg9iH/05LgdV1H/sW1tD4jzPxpinNtLc30zbs57RJvhVxfFnsHSFUtWHFtZ7ra6BxAAs7gkMLI7f6FqxA0vXqX960ZH9gBeQ1mGZCWIpSfO6LkD8mWGVYDw/W0hsAxBdG5bWYLiyMmMjoI/3L2fzs/Pi4mMOp4vOTCbS2/EvD5Ex7nKjM8fSOaATqdzg1GQYyBv7PLy3/Ye9/Z+XAJweHiYhsPP4yhWUBtnzNeHcL0cAlyGhovpBz3EAOayAkKcQvD5+vq6FX1nZ2cJQAQUdwIEG2uEECcfgFHP/dU4oFRbCADCA8QqAN3uDwunT6fvm89wTD7js1yxRyjfekvPLCtBqwCgxIxGozQYDIo9AA4AAELidQCBJQsQUHJQ4vIpygBWzIdcDcUazbqNgPJjcmDsL3l/qKn+496qcADF5+rkWgIpJTZiOAGZf3o6XHILsx9NlxvE5/e1/DomB0DxscbP0ZJLBH/vd9L4n1kazTYhWdzPPsB3DOzlCMoJKf46drerf9mj5QDiOEoAu+/Gqf+o0zwpAPD/P19sJsFRE0ITAF+6uA5UE4RqAEDs6eigEZ2C5wDWuYHCMz8JIP7gwrEXILC/hoYsBwDBjh9+eh+Iwufi83MsRxC9abKhzscCQQh5vc/fP75sUbnb1aQAIDxE39vtLtz15dV0ofRwJxzwYf/TcnLc4rJEhIHfFkp/YXE3ib7u0TIAJfEhPDdC4Xcl8eOSMs+La0L4zQBjrXKxbRM+GQCUAUw52HIHxJsmADRglpymXM3/5gd1PG6v/nrbfqxdfNyoDACCRwglEFF8/oZLdSl8nt2s7ziu5sznc0gBEAL+pRtiNnPshJBR2P+LuJvKj9wB8QZzgb8nkdeBkDvgNlnyPR9jAGK6BmAAYgXE4e0AAxArIA5vBxiAWAFxeDvAAMQKiMPbAQYgVkAc3g4wALEC4vB2gAGIFRCHtwMMQKyAOLwdYABiBcTh7QADECsgDm8HGIBYAXF4O8AAxAqIw9sBBiBWQBzeDjAAsQLi8HaAAYgVEIf/CIzc2X8IOZNbAAAAAElFTkSuQmCC\"/><image xmlns=\"http://www.w3.org/2000/svg\" x=\"250.02\" y=\"-23.5\" width=\"147.95999999999998\" height=\"567\" preserveAspectRatio=\"xMidYMid\" opacity=\"1\" clip-path=\"url(#clipa2d74dxy)\" xlink:href=\"data:image/png;base64,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\"/><image xmlns=\"http://www.w3.org/2000/svg\" x=\"359.62\" y=\"-23.5\" width=\"147.95999999999998\" height=\"567\" preserveAspectRatio=\"xMidYMid\" opacity=\"1\" clip-path=\"url(#clipa2d74dxy)\" xlink:href=\"data:image/png;base64,iVBORw0KGgoAAAANSUhEUgAAAGAAAABgCAYAAADimHc4AAAEeElEQVR4Xu2YL3QTQRCHr664k8SBTF3qiGtkQBXUPRRB0brUgcO2jjqK6osqVRAZFME1rpHgioysC28uzL3JcqHtdF5m973fmnJ/dufu+2Zmj2xkGK4ENlyjI3gGAc5JAAEQ4EzAOTwqAAKcCTiHRwVAgDMB5/CoAAhwJuAcHhUAAc4EnMOjAiDAmYBzeFQABDgTcA6PCoAAZwLO4VEBEOBMwDk8KgACnAk4h0cFQIAzAefwqAAIcCbgHB4VAAHOBJzDowIgwJmAc3hUAAQ4E3AOjwqAAGcCzuFRARDgTMA5fHIV8L2/M/951ciG09ESusHkd3LvQi+QzEOfFsWcHrjdWXC/ml4tCTgeTcvj1EQkIYDgM3hJPZRAlbE/HGaz2SyJ90qiAlbBr6sCOpeahKgzheA/bixaTaPZWGo5YfbLi9SOUmlFUQsoWg/ne51mybZ9OMrGB383gJpjFkAVQNKenkySaEXJCCCgX3utKtHDY1kBKbWhaAXI9kNwbyuAKyAVCdEKyPN8LjP+Lv9fIvg0UvgiSkJAPn6QffpxseRgt7/YG8KBCrhLqv7nXq4Agr/V7y7uHI3LP5eTWSkklCDhowLuKYIFnB9Ns8Ozd/8IoBOrJHBotKB7SJACXj3ZzrZaeZn5PLglySqoq4BuJ6/mDM5/Rddyo3ugYvdR+ZvPcDTLPnS75Tc9VcFJfr2kszfbzFpFp7xOgzdeeRNVAAkoiufl6cHgcxabhKgEvH/bnbdai8315euTUgANglwH+KZroQCWICV5C4lGgIQfCmDQYUdbJUXuAdyCms2t8vR0ellVhBTiJSIqAQxItiDNNjK8HpctjIbcA+iY2xH9ezJZ/ITNcT0kRCWgt/emAnKwv19B5FZ0GxkEnyETYMp4kkEiqAq4xYUCjo7HLr8duQugTZfASPgE52L8rcpQgnMbCdTzTz/2Kk+c4Syhv9euBMjspwkUg6tlnZXgKoC/eFYJ4B5NGUzwCCSP7mY7k62Gzkv4dRke7gcEnYYU8+zF0VqZrDVY2EK+nPXLT06GxVVA2c/nCBIBkhVC1+kriYFTNtN9Nwmg6/QpyvuDJ3h+b1cB/BBShMxchk99e7u9U97OclhAuJFS/w/bC2+ycgPm2OvO+DAJ3QUQfIIg/8rsD7M6rAz5QiyMz8kNWMIP43lKcBdAsEIJfI4yWX61SNhhlhPs8CtH3l8HneOGWbnO4ygE1O0NElgoKbw/vLdOagg7Bvj0nFEKuElIXduqk7DOTNbGSkKAfLm6dqV9+RjmJScgBmiWzwABljQVa0GAAprlFAiwpKlYCwIU0CynQIAlTcVaEKCAZjkFAixpKtaCAAU0yykQYElTsRYEKKBZToEAS5qKtSBAAc1yCgRY0lSsBQEKaJZTIMCSpmItCFBAs5wCAZY0FWtBgAKa5RQIsKSpWAsCFNAsp0CAJU3FWhCggGY5BQIsaSrWggAFNMspEGBJU7EWBCigWU6BAEuairUgQAHNcgoEWNJUrAUBCmiWUyDAkqZirT/22z5/2megrgAAAABJRU5ErkJggg==\"/><image xmlns=\"http://www.w3.org/2000/svg\" x=\"469.22\" y=\"-23.5\" width=\"147.95999999999998\" height=\"567\" preserveAspectRatio=\"xMidYMid\" opacity=\"1\" clip-path=\"url(#clipa2d74dxy)\" xlink:href=\"data:image/png;base64,iVBORw0KGgoAAAANSUhEUgAAAGAAAABgCAYAAADimHc4AAAFOUlEQVR4Xu2aIVMbURSFl39AHXUgwQVHXcGBAwc4qogEBxJckKCoI0gkjiLrwBVJXevgH9A5O3Mydx5vQzqTtycwZw3J7mZv9nz33HvfhqnKm1SBKWl0B68MQJwEBmAAYgXE4e0AAxArIA5vBxiAWAFxeDvAAMQKiMPbAQYgVkAc3g4wALEC4vB2gAGIFRCHtwMMQKyAOLwdYABiBcTh7QADECsgDm8HGIBYAXF4O8AAxAqIw9sBBiBWQBzeDjAAsQLi8HaAAYgVEIe3AwxArIA4/IdxwO7u+kvU8uzs6l3c27v4khQWIj/cP9Zvb3/e19/961LnZb4zV62urg70//v7T9XvX1X3D4/V8/PzRN/jRH+5KDxeb3U3611Pj8/VyfFpLfDFRS9bRADh7td9dXn5o+rMzw2AiSvOq/ATDwBZT+Epfk7E6+vrejedAEBbW+vVzOznej/e0zWTBEECAGUjlpEmQaL4yHpsEDqWGwoPSDyH14Poewfd+i3LUhME9pC0xJWG1SqAtF5DPNzwMFEg9vb2frW5uTwQHp9bXOjUdR4Cf5qbHpQmCgbBseEcOIGv01gUProM5x5+O27FMa0BgPhH5wevhMIOCJxrltPT0y+o373+ebWyuFJDoPAQlQCY4fuHJ4OExedwDvoAPsN+EOPgO6UACfPh9qG+fumy1QoAlpJYItJSkoMAAGiya2s71d3jXQ0BW+9obyB0FP2o16uWljv1MZxLCHgPANjQlAGB4ufKGi8OGP3Ty6rkSFscQK6O8wYJAeUCQqYuoGu+LGwMAETx0WAB7ubuphb86empvjRgfe8d15mfboxDALFPpOfSDSUhFAUwSuZzWkkBxJKFcoAMXlhcrWZnXrdFgMSx7s7O4GC3u5EFEEdTlqi0qcf3uCBAlOoJxQCMkvmxdqe1Gf0inWremkg4EeUyn58FAE462JeOqpyaYiw6oQSE1gDEms+RkI2Uf+PqNifEWwDS45yE4v7YuOk+HI/70xJZ0gVFADRlf7xhNk/W9FiC2HzpEDbRmLkUCY8hsKVlIyd+Tmj0EGycsLhwS4cExhv3gq4YgFQQislnNHifTjOxDAECj6Ns5K5HUeiouOga5hZmO0TGVIQ4SADG49qBMACJjzzeBQDcPFxA0bhwwn7cKG4GN5XLfgrHNQAynCJRkChuzPS46GoCQPGZ+bmRNo6vdOq7BgAxeMPx4VkUITeGEgJXsqP0AAgMaGzEeI8t7otlBmUtd/20ROIz485+fK8iJYhCxcVOKl50BY/l+kDsG6MA4DkUPj6G4GsuylJIw0CXWhUXBQAx+OAtN9WkjZIAYhPOAaCAKZBh4ycbedPiDE2YW3pOzp3/kwzDzi0OILoBr98CEZthzOaYvW/N+U3Hce1Y35uuz97VtEIfl/jFS1DuiyK7sT/9ISW6IZ1IsD6Ak0btBXwAF0tb/FEmXou1venaJbNfAiBOOYTQNLPnHk/gV7A4uQzLRmZ87olmLI1pfAIsLb4UAPsDBMWWE7VJAP42zM/mIIzyM2RuSOACrOkR+TjLjxxAvBmIEbO71NSRCpiD0Jb4EwUglia8bvO/GViO6Kg2Y7c2BY3buh/legYgJmkABiBWQBzeDjAAsQLi8HaAAYgVEIe3AwxArIA4vB1gAGIFxOHtAAMQKyAObwcYgFgBcXg7wADECojD2wEGIFZAHN4OMACxAuLwdoABiBUQh7cDDECsgDi8HWAAYgXE4e0AAxArIA5vBxiAWAFxeDvAAMQKiMPbAQYgVkAc3g4QA/gHgforjk4fJusAAAAASUVORK5CYII=\"/></g><g class=\"shapelayer\"/></g><g class=\"infolayer\"><g class=\"cb6057b6 colorbar\" transform=\"translate(50,50)\"><rect class=\"cbbg\" x=\"559\" y=\"0\" width=\"78.6875\" height=\"420\" style=\"fill: rgb(0, 0, 0); fill-opacity: 0; stroke: rgb(68, 68, 68); stroke-opacity: 1; stroke-width: 0;\"/><g class=\"cbfills\" transform=\"translate(0,10)\"><rect class=\"cbfill\" x=\"569\" width=\"30\" y=\"0\" height=\"400\" style=\"fill: url('#ga2d74d-cb6057b6');\"/></g><g class=\"cblines\" transform=\"translate(0,10)\"/><g class=\"cbaxis crisp\" transform=\"translate(0,-50)\"><g class=\"ycb6057b6tick\"><text text-anchor=\"start\" x=\"602.3\" y=\"4.8999999999999995\" transform=\"translate(0,460)\" style=\"font-family: 'Arial Black'; font-size: 14px; fill: rgb(0, 0, 0); fill-opacity: 1; white-space: pre; opacity: 1;\">0</text></g><g class=\"ycb6057b6tick\"><text text-anchor=\"start\" x=\"602.3\" y=\"4.8999999999999995\" style=\"font-family: 'Arial Black'; font-size: 14px; fill: rgb(0, 0, 0); fill-opacity: 1; white-space: pre; opacity: 1;\" transform=\"translate(0,380)\">20</text></g><g class=\"ycb6057b6tick\"><text text-anchor=\"start\" x=\"602.3\" y=\"4.8999999999999995\" style=\"font-family: 'Arial Black'; font-size: 14px; fill: rgb(0, 0, 0); fill-opacity: 1; white-space: pre; opacity: 1;\" transform=\"translate(0,300)\">40</text></g><g class=\"ycb6057b6tick\"><text text-anchor=\"start\" x=\"602.3\" y=\"4.8999999999999995\" style=\"font-family: 'Arial Black'; font-size: 14px; fill: rgb(0, 0, 0); fill-opacity: 1; white-space: pre; opacity: 1;\" transform=\"translate(0,220)\">60</text></g><g class=\"ycb6057b6tick\"><text text-anchor=\"start\" x=\"602.3\" y=\"4.8999999999999995\" style=\"font-family: 'Arial Black'; font-size: 14px; fill: rgb(0, 0, 0); fill-opacity: 1; white-space: pre; opacity: 1;\" transform=\"translate(0,140)\">80</text></g><g class=\"ycb6057b6tick\"><text text-anchor=\"start\" x=\"602.3\" y=\"4.8999999999999995\" style=\"font-family: 'Arial Black'; font-size: 14px; fill: rgb(0, 0, 0); fill-opacity: 1; white-space: pre; opacity: 1;\" transform=\"translate(0,60.000000000000014)\">100</text></g></g><g class=\"cbtitleunshift\" transform=\"translate(-50,-50)\"><g class=\"cbtitle\"/></g><rect class=\"cboutline\" x=\"569\" y=\"10\" width=\"30\" height=\"400\" style=\"stroke: rgb(68, 68, 68); stroke-opacity: 1; fill: none; stroke-width: 0;\"/></g><g class=\"g-gtitle\"><text class=\"gtitle\" x=\"35\" y=\"25\" text-anchor=\"start\" dy=\"0em\" style=\"font-family: 'Arial Black'; font-size: 20px; fill: rgb(0, 0, 0); opacity: 1; font-weight: normal; white-space: pre;\">Top 5 pokemons com IAP mais próximos de: chansey</text></g><g class=\"g-xtitle\"/><g class=\"annotation\" data-index=\"0\" style=\"opacity: 1;\"><g class=\"annotation-text-g\" transform=\"rotate(0,104.8,93)\"><g class=\"cursor-pointer\" transform=\"translate(81,82)\"><rect class=\"bg\" x=\"0.5\" y=\"0.5\" width=\"46\" height=\"22\" style=\"stroke-width: 1px; stroke: rgb(0, 0, 0); stroke-opacity: 0; fill: rgb(0, 0, 0); fill-opacity: 0;\"/><text class=\"annotation-text\" text-anchor=\"middle\" x=\"23.015625\" y=\"17\" style=\"font-family: 'Arial Black'; font-size: 14px; fill: rgb(0, 0, 0); fill-opacity: 1; white-space: pre;\">90.68</text></g></g></g><g class=\"annotation\" data-index=\"1\" style=\"opacity: 1;\"><g class=\"annotation-text-g\" transform=\"rotate(0,214.4,93)\"><g class=\"cursor-pointer\" transform=\"translate(182,82)\"><rect class=\"bg\" x=\"0.5\" y=\"0.5\" width=\"64\" height=\"22\" style=\"stroke-width: 1px; stroke: rgb(0, 0, 0); stroke-opacity: 0; fill: rgb(0, 0, 0); fill-opacity: 0;\"/><text class=\"annotation-text\" text-anchor=\"middle\" x=\"32.359375\" y=\"17\" style=\"font-family: 'Arial Black'; font-size: 14px; fill: rgb(0, 0, 0); fill-opacity: 1; white-space: pre;\">97.6021</text></g></g></g><g class=\"annotation\" data-index=\"2\" style=\"opacity: 1;\"><g class=\"annotation-text-g\" transform=\"rotate(0,324,93)\"><g class=\"cursor-pointer\" transform=\"translate(292,82)\"><rect class=\"bg\" x=\"0.5\" y=\"0.5\" width=\"64\" height=\"22\" style=\"stroke-width: 1px; stroke: rgb(0, 0, 0); stroke-opacity: 0; fill: rgb(0, 0, 0); fill-opacity: 0;\"/><text class=\"annotation-text\" text-anchor=\"middle\" x=\"32.359375\" y=\"17\" style=\"font-family: 'Arial Black'; font-size: 14px; fill: rgb(0, 0, 0); fill-opacity: 1; white-space: pre;\">98.5529</text></g></g></g><g class=\"annotation\" data-index=\"3\" style=\"opacity: 1;\"><g class=\"annotation-text-g\" transform=\"rotate(0,433.6,93)\"><g class=\"cursor-pointer\" transform=\"translate(401,82)\"><rect class=\"bg\" x=\"0.5\" y=\"0.5\" width=\"64\" height=\"22\" style=\"stroke-width: 1px; stroke: rgb(0, 0, 0); stroke-opacity: 0; fill: rgb(0, 0, 0); fill-opacity: 0;\"/><text class=\"annotation-text\" text-anchor=\"middle\" x=\"32.359375\" y=\"17\" style=\"font-family: 'Arial Black'; font-size: 14px; fill: rgb(0, 0, 0); fill-opacity: 1; white-space: pre;\">99.3649</text></g></g></g><g class=\"annotation\" data-index=\"4\" style=\"opacity: 1;\"><g class=\"annotation-text-g\" transform=\"rotate(0,543.2,93)\"><g class=\"cursor-pointer\" transform=\"translate(506,82)\"><rect class=\"bg\" x=\"0.5\" y=\"0.5\" width=\"74\" height=\"22\" style=\"stroke-width: 1px; stroke: rgb(0, 0, 0); stroke-opacity: 0; fill: rgb(0, 0, 0); fill-opacity: 0;\"/><text class=\"annotation-text\" text-anchor=\"middle\" x=\"37.015625\" y=\"17\" style=\"font-family: 'Arial Black'; font-size: 14px; fill: rgb(0, 0, 0); fill-opacity: 1; white-space: pre;\">104.1159</text></g></g></g></g></svg>"
      ],
      "text/html": [
       "<div\n",
       "    class=\"webio-mountpoint\"\n",
       "    data-webio-mountpoint=\"18155598205924433977\"\n",
       ">\n",
       "    <script>\n",
       "    (function(){\n",
       "    // Some integrations (namely, IJulia/Jupyter) use an alternate render pathway than\n",
       "    // just putting the html on the page. If WebIO isn't defined, then it's pretty likely\n",
       "    // that we're in one of those situations and the integration just isn't installed\n",
       "    // correctly.\n",
       "    if (typeof window.WebIO === \"undefined\") {\n",
       "        document\n",
       "            .querySelector('[data-webio-mountpoint=\"18155598205924433977\"]')\n",
       "            .innerHTML = (\n",
       "                '<div style=\"padding: 1em; background-color: #f8d6da; border: 1px solid #f5c6cb; font-weight: bold;\">' +\n",
       "                '<p><strong>WebIO not detected.</strong></p>' +\n",
       "                '<p>Please read ' +\n",
       "                '<a href=\"https://juliagizmos.github.io/WebIO.jl/latest/troubleshooting/not-detected/\" target=\"_blank\">the troubleshooting guide</a> ' +\n",
       "                'for more information on how to resolve this issue.</p>' +\n",
       "                '<p><a href=\"https://juliagizmos.github.io/WebIO.jl/latest/troubleshooting/not-detected/\" target=\"_blank\">https://juliagizmos.github.io/WebIO.jl/latest/troubleshooting/not-detected/</a></p>' +\n",
       "                '</div>'\n",
       "            );\n",
       "        return;\n",
       "    }\n",
       "    WebIO.mount(\n",
       "        document.querySelector('[data-webio-mountpoint=\"18155598205924433977\"]'),\n",
       "        {\"props\":{},\"nodeType\":\"Scope\",\"type\":\"node\",\"instanceArgs\":{\"imports\":{\"data\":[{\"name\":\"Plotly\",\"type\":\"js\",\"url\":\"\\/assetserver\\/53a7aadb162a8ed394abcda57c2b6e741dfa1bbf-plotly.min.js\"},{\"name\":null,\"type\":\"js\",\"url\":\"\\/assetserver\\/6711c1456783a56df2a429d652f48fa138f5bf84-plotly_webio.bundle.js\"}],\"type\":\"async_block\"},\"id\":\"6901830794066870445\",\"handlers\":{\"_toImage\":[\"(function (options){return this.Plotly.toImage(this.plotElem,options).then((function (data){return WebIO.setval({\\\"name\\\":\\\"image\\\",\\\"scope\\\":\\\"6901830794066870445\\\",\\\"id\\\":\\\"1735\\\",\\\"type\\\":\\\"observable\\\"},data)}))})\"],\"__get_gd_contents\":[\"(function (prop){prop==\\\"data\\\" ? (WebIO.setval({\\\"name\\\":\\\"__gd_contents\\\",\\\"scope\\\":\\\"6901830794066870445\\\",\\\"id\\\":\\\"1736\\\",\\\"type\\\":\\\"observable\\\"},this.plotElem.data)) : undefined; return prop==\\\"layout\\\" ? (WebIO.setval({\\\"name\\\":\\\"__gd_contents\\\",\\\"scope\\\":\\\"6901830794066870445\\\",\\\"id\\\":\\\"1736\\\",\\\"type\\\":\\\"observable\\\"},this.plotElem.layout)) : undefined})\"],\"_downloadImage\":[\"(function (options){return this.Plotly.downloadImage(this.plotElem,options)})\"],\"_commands\":[\"(function (args){var fn=args.shift(); var elem=this.plotElem; var Plotly=this.Plotly; args.unshift(elem); return Plotly[fn].apply(this,args)})\"]},\"systemjs_options\":null,\"mount_callbacks\":[\"function () {\\n    var handler = ((function (Plotly,PlotlyWebIO){PlotlyWebIO.init(WebIO); var gd=this.dom.querySelector(\\\"#plot-3f7d93cc-29e7-4077-a705-8b5bd550ebf5\\\"); this.plotElem=gd; this.Plotly=Plotly; (window.Blink!==undefined) ? (gd.style.width=\\\"100%\\\", gd.style.height=\\\"100vh\\\", gd.style.marginLeft=\\\"0%\\\", gd.style.marginTop=\\\"0vh\\\") : undefined; window.onresize=(function (){return Plotly.Plots.resize(gd)}); Plotly.newPlot(gd,[{\\\"zmax\\\":100,\\\"y\\\":[\\\"\\\"],\\\"type\\\":\\\"heatmap\\\",\\\"zmin\\\":0,\\\"colorscale\\\":\\\"Jet\\\",\\\"z\\\":[[90.67999253817123],[97.60210349561514],[98.55292622391164],[99.36489657519904],[104.11589457686831]],\\\"transpose\\\":true,\\\"showscale\\\":true,\\\"x\\\":[\\\"1º krabby\\\",\\\"2º shellder\\\",\\\"3º onix\\\",\\\"4º diglett\\\",\\\"5º geodude\\\"]}],{\\\"coloraxis\\\":{\\\"colorbar\\\":{\\\"tickvals\\\":[0,50,100],\\\"title\\\":\\\"IAP\\\",\\\"ticktext\\\":[\\\"Baixo\\\",\\\"Médio\\\",\\\"Alto\\\"]}},\\\"xaxis\\\":{\\\"fixedrange\\\":true,\\\"side\\\":\\\"top\\\"},\\\"paper_bgcolor\\\":\\\"#EBDBAB\\\",\\\"template\\\":{\\\"layout\\\":{\\\"coloraxis\\\":{\\\"colorbar\\\":{\\\"ticks\\\":\\\"\\\",\\\"outlinewidth\\\":0}},\\\"xaxis\\\":{\\\"gridcolor\\\":\\\"white\\\",\\\"zerolinewidth\\\":2,\\\"title\\\":{\\\"standoff\\\":15},\\\"ticks\\\":\\\"\\\",\\\"zerolinecolor\\\":\\\"white\\\",\\\"automargin\\\":true,\\\"linecolor\\\":\\\"white\\\"},\\\"hovermode\\\":\\\"closest\\\",\\\"paper_bgcolor\\\":\\\"white\\\",\\\"geo\\\":{\\\"showlakes\\\":true,\\\"showland\\\":true,\\\"landcolor\\\":\\\"#E5ECF6\\\",\\\"bgcolor\\\":\\\"white\\\",\\\"subunitcolor\\\":\\\"white\\\",\\\"lakecolor\\\":\\\"white\\\"},\\\"colorscale\\\":{\\\"sequential\\\":[[0.0,\\\"#0d0887\\\"],[0.1111111111111111,\\\"#46039f\\\"],[0.2222222222222222,\\\"#7201a8\\\"],[0.3333333333333333,\\\"#9c179e\\\"],[0.4444444444444444,\\\"#bd3786\\\"],[0.5555555555555556,\\\"#d8576b\\\"],[0.6666666666666666,\\\"#ed7953\\\"],[0.7777777777777778,\\\"#fb9f3a\\\"],[0.8888888888888888,\\\"#fdca26\\\"],[1.0,\\\"#f0f921\\\"]],\\\"diverging\\\":[[0,\\\"#8e0152\\\"],[0.1,\\\"#c51b7d\\\"],[0.2,\\\"#de77ae\\\"],[0.3,\\\"#f1b6da\\\"],[0.4,\\\"#fde0ef\\\"],[0.5,\\\"#f7f7f7\\\"],[0.6,\\\"#e6f5d0\\\"],[0.7,\\\"#b8e186\\\"],[0.8,\\\"#7fbc41\\\"],[0.9,\\\"#4d9221\\\"],[1,\\\"#276419\\\"]],\\\"sequentialminus\\\":[[0.0,\\\"#0d0887\\\"],[0.1111111111111111,\\\"#46039f\\\"],[0.2222222222222222,\\\"#7201a8\\\"],[0.3333333333333333,\\\"#9c179e\\\"],[0.4444444444444444,\\\"#bd3786\\\"],[0.5555555555555556,\\\"#d8576b\\\"],[0.6666666666666666,\\\"#ed7953\\\"],[0.7777777777777778,\\\"#fb9f3a\\\"],[0.8888888888888888,\\\"#fdca26\\\"],[1.0,\\\"#f0f921\\\"]]},\\\"yaxis\\\":{\\\"gridcolor\\\":\\\"white\\\",\\\"zerolinewidth\\\":2,\\\"title\\\":{\\\"standoff\\\":15},\\\"ticks\\\":\\\"\\\",\\\"zerolinecolor\\\":\\\"white\\\",\\\"automargin\\\":true,\\\"linecolor\\\":\\\"white\\\"},\\\"shapedefaults\\\":{\\\"line\\\":{\\\"color\\\":\\\"#2a3f5f\\\"}},\\\"hoverlabel\\\":{\\\"align\\\":\\\"left\\\"},\\\"mapbox\\\":{\\\"style\\\":\\\"light\\\"},\\\"polar\\\":{\\\"angularaxis\\\":{\\\"gridcolor\\\":\\\"white\\\",\\\"ticks\\\":\\\"\\\",\\\"linecolor\\\":\\\"white\\\"},\\\"bgcolor\\\":\\\"#E5ECF6\\\",\\\"radialaxis\\\":{\\\"gridcolor\\\":\\\"white\\\",\\\"ticks\\\":\\\"\\\",\\\"linecolor\\\":\\\"white\\\"}},\\\"autotypenumbers\\\":\\\"strict\\\",\\\"font\\\":{\\\"color\\\":\\\"#2a3f5f\\\"},\\\"ternary\\\":{\\\"baxis\\\":{\\\"gridcolor\\\":\\\"white\\\",\\\"ticks\\\":\\\"\\\",\\\"linecolor\\\":\\\"white\\\"},\\\"bgcolor\\\":\\\"#E5ECF6\\\",\\\"caxis\\\":{\\\"gridcolor\\\":\\\"white\\\",\\\"ticks\\\":\\\"\\\",\\\"linecolor\\\":\\\"white\\\"},\\\"aaxis\\\":{\\\"gridcolor\\\":\\\"white\\\",\\\"ticks\\\":\\\"\\\",\\\"linecolor\\\":\\\"white\\\"}},\\\"annotationdefaults\\\":{\\\"arrowhead\\\":0,\\\"arrowwidth\\\":1,\\\"arrowcolor\\\":\\\"#2a3f5f\\\"},\\\"plot_bgcolor\\\":\\\"#E5ECF6\\\",\\\"title\\\":{\\\"x\\\":0.05},\\\"scene\\\":{\\\"xaxis\\\":{\\\"gridcolor\\\":\\\"white\\\",\\\"gridwidth\\\":2,\\\"backgroundcolor\\\":\\\"#E5ECF6\\\",\\\"ticks\\\":\\\"\\\",\\\"showbackground\\\":true,\\\"zerolinecolor\\\":\\\"white\\\",\\\"linecolor\\\":\\\"white\\\"},\\\"zaxis\\\":{\\\"gridcolor\\\":\\\"white\\\",\\\"gridwidth\\\":2,\\\"backgroundcolor\\\":\\\"#E5ECF6\\\",\\\"ticks\\\":\\\"\\\",\\\"showbackground\\\":true,\\\"zerolinecolor\\\":\\\"white\\\",\\\"linecolor\\\":\\\"white\\\"},\\\"yaxis\\\":{\\\"gridcolor\\\":\\\"white\\\",\\\"gridwidth\\\":2,\\\"backgroundcolor\\\":\\\"#E5ECF6\\\",\\\"ticks\\\":\\\"\\\",\\\"showbackground\\\":true,\\\"zerolinecolor\\\":\\\"white\\\",\\\"linecolor\\\":\\\"white\\\"}},\\\"colorway\\\":[\\\"#636efa\\\",\\\"#EF553B\\\",\\\"#00cc96\\\",\\\"#ab63fa\\\",\\\"#FFA15A\\\",\\\"#19d3f3\\\",\\\"#FF6692\\\",\\\"#B6E880\\\",\\\"#FF97FF\\\",\\\"#FECB52\\\"]},\\\"data\\\":{\\\"barpolar\\\":[{\\\"type\\\":\\\"barpolar\\\",\\\"marker\\\":{\\\"line\\\":{\\\"color\\\":\\\"#E5ECF6\\\",\\\"width\\\":0.5}}}],\\\"carpet\\\":[{\\\"aaxis\\\":{\\\"gridcolor\\\":\\\"white\\\",\\\"endlinecolor\\\":\\\"#2a3f5f\\\",\\\"minorgridcolor\\\":\\\"white\\\",\\\"startlinecolor\\\":\\\"#2a3f5f\\\",\\\"linecolor\\\":\\\"white\\\"},\\\"type\\\":\\\"carpet\\\",\\\"baxis\\\":{\\\"gridcolor\\\":\\\"white\\\",\\\"endlinecolor\\\":\\\"#2a3f5f\\\",\\\"minorgridcolor\\\":\\\"white\\\",\\\"startlinecolor\\\":\\\"#2a3f5f\\\",\\\"linecolor\\\":\\\"white\\\"}}],\\\"scatterpolar\\\":[{\\\"type\\\":\\\"scatterpolar\\\",\\\"marker\\\":{\\\"colorbar\\\":{\\\"ticks\\\":\\\"\\\",\\\"outlinewidth\\\":0}}}],\\\"parcoords\\\":[{\\\"line\\\":{\\\"colorbar\\\":{\\\"ticks\\\":\\\"\\\",\\\"outlinewidth\\\":0}},\\\"type\\\":\\\"parcoords\\\"}],\\\"scatter\\\":[{\\\"type\\\":\\\"scatter\\\",\\\"marker\\\":{\\\"colorbar\\\":{\\\"ticks\\\":\\\"\\\",\\\"outlinewidth\\\":0}}}],\\\"histogram2dcontour\\\":[{\\\"colorbar\\\":{\\\"ticks\\\":\\\"\\\",\\\"outlinewidth\\\":0},\\\"type\\\":\\\"histogram2dcontour\\\",\\\"colorscale\\\":[[0.0,\\\"#0d0887\\\"],[0.1111111111111111,\\\"#46039f\\\"],[0.2222222222222222,\\\"#7201a8\\\"],[0.3333333333333333,\\\"#9c179e\\\"],[0.4444444444444444,\\\"#bd3786\\\"],[0.5555555555555556,\\\"#d8576b\\\"],[0.6666666666666666,\\\"#ed7953\\\"],[0.7777777777777778,\\\"#fb9f3a\\\"],[0.8888888888888888,\\\"#fdca26\\\"],[1.0,\\\"#f0f921\\\"]]}],\\\"contour\\\":[{\\\"colorbar\\\":{\\\"ticks\\\":\\\"\\\",\\\"outlinewidth\\\":0},\\\"type\\\":\\\"contour\\\",\\\"colorscale\\\":[[0.0,\\\"#0d0887\\\"],[0.1111111111111111,\\\"#46039f\\\"],[0.2222222222222222,\\\"#7201a8\\\"],[0.3333333333333333,\\\"#9c179e\\\"],[0.4444444444444444,\\\"#bd3786\\\"],[0.5555555555555556,\\\"#d8576b\\\"],[0.6666666666666666,\\\"#ed7953\\\"],[0.7777777777777778,\\\"#fb9f3a\\\"],[0.8888888888888888,\\\"#fdca26\\\"],[1.0,\\\"#f0f921\\\"]]}],\\\"scattercarpet\\\":[{\\\"type\\\":\\\"scattercarpet\\\",\\\"marker\\\":{\\\"colorbar\\\":{\\\"ticks\\\":\\\"\\\",\\\"outlinewidth\\\":0}}}],\\\"mesh3d\\\":[{\\\"colorbar\\\":{\\\"ticks\\\":\\\"\\\",\\\"outlinewidth\\\":0},\\\"type\\\":\\\"mesh3d\\\"}],\\\"surface\\\":[{\\\"colorbar\\\":{\\\"ticks\\\":\\\"\\\",\\\"outlinewidth\\\":0},\\\"type\\\":\\\"surface\\\",\\\"colorscale\\\":[[0.0,\\\"#0d0887\\\"],[0.1111111111111111,\\\"#46039f\\\"],[0.2222222222222222,\\\"#7201a8\\\"],[0.3333333333333333,\\\"#9c179e\\\"],[0.4444444444444444,\\\"#bd3786\\\"],[0.5555555555555556,\\\"#d8576b\\\"],[0.6666666666666666,\\\"#ed7953\\\"],[0.7777777777777778,\\\"#fb9f3a\\\"],[0.8888888888888888,\\\"#fdca26\\\"],[1.0,\\\"#f0f921\\\"]]}],\\\"scattermapbox\\\":[{\\\"type\\\":\\\"scattermapbox\\\",\\\"marker\\\":{\\\"colorbar\\\":{\\\"ticks\\\":\\\"\\\",\\\"outlinewidth\\\":0}}}],\\\"scattergeo\\\":[{\\\"type\\\":\\\"scattergeo\\\",\\\"marker\\\":{\\\"colorbar\\\":{\\\"ticks\\\":\\\"\\\",\\\"outlinewidth\\\":0}}}],\\\"histogram\\\":[{\\\"type\\\":\\\"histogram\\\",\\\"marker\\\":{\\\"colorbar\\\":{\\\"ticks\\\":\\\"\\\",\\\"outlinewidth\\\":0}}}],\\\"pie\\\":[{\\\"type\\\":\\\"pie\\\",\\\"automargin\\\":true}],\\\"choropleth\\\":[{\\\"colorbar\\\":{\\\"ticks\\\":\\\"\\\",\\\"outlinewidth\\\":0},\\\"type\\\":\\\"choropleth\\\"}],\\\"heatmapgl\\\":[{\\\"colorbar\\\":{\\\"ticks\\\":\\\"\\\",\\\"outlinewidth\\\":0},\\\"type\\\":\\\"heatmapgl\\\",\\\"colorscale\\\":[[0.0,\\\"#0d0887\\\"],[0.1111111111111111,\\\"#46039f\\\"],[0.2222222222222222,\\\"#7201a8\\\"],[0.3333333333333333,\\\"#9c179e\\\"],[0.4444444444444444,\\\"#bd3786\\\"],[0.5555555555555556,\\\"#d8576b\\\"],[0.6666666666666666,\\\"#ed7953\\\"],[0.7777777777777778,\\\"#fb9f3a\\\"],[0.8888888888888888,\\\"#fdca26\\\"],[1.0,\\\"#f0f921\\\"]]}],\\\"bar\\\":[{\\\"type\\\":\\\"bar\\\",\\\"error_y\\\":{\\\"color\\\":\\\"#2a3f5f\\\"},\\\"error_x\\\":{\\\"color\\\":\\\"#2a3f5f\\\"},\\\"marker\\\":{\\\"line\\\":{\\\"color\\\":\\\"#E5ECF6\\\",\\\"width\\\":0.5}}}],\\\"heatmap\\\":[{\\\"colorbar\\\":{\\\"ticks\\\":\\\"\\\",\\\"outlinewidth\\\":0},\\\"type\\\":\\\"heatmap\\\",\\\"colorscale\\\":[[0.0,\\\"#0d0887\\\"],[0.1111111111111111,\\\"#46039f\\\"],[0.2222222222222222,\\\"#7201a8\\\"],[0.3333333333333333,\\\"#9c179e\\\"],[0.4444444444444444,\\\"#bd3786\\\"],[0.5555555555555556,\\\"#d8576b\\\"],[0.6666666666666666,\\\"#ed7953\\\"],[0.7777777777777778,\\\"#fb9f3a\\\"],[0.8888888888888888,\\\"#fdca26\\\"],[1.0,\\\"#f0f921\\\"]]}],\\\"contourcarpet\\\":[{\\\"colorbar\\\":{\\\"ticks\\\":\\\"\\\",\\\"outlinewidth\\\":0},\\\"type\\\":\\\"contourcarpet\\\"}],\\\"table\\\":[{\\\"type\\\":\\\"table\\\",\\\"header\\\":{\\\"line\\\":{\\\"color\\\":\\\"white\\\"},\\\"fill\\\":{\\\"color\\\":\\\"#C8D4E3\\\"}},\\\"cells\\\":{\\\"line\\\":{\\\"color\\\":\\\"white\\\"},\\\"fill\\\":{\\\"color\\\":\\\"#EBF0F8\\\"}}}],\\\"scatter3d\\\":[{\\\"line\\\":{\\\"colorbar\\\":{\\\"ticks\\\":\\\"\\\",\\\"outlinewidth\\\":0}},\\\"type\\\":\\\"scatter3d\\\",\\\"marker\\\":{\\\"colorbar\\\":{\\\"ticks\\\":\\\"\\\",\\\"outlinewidth\\\":0}}}],\\\"scattergl\\\":[{\\\"type\\\":\\\"scattergl\\\",\\\"marker\\\":{\\\"colorbar\\\":{\\\"ticks\\\":\\\"\\\",\\\"outlinewidth\\\":0}}}],\\\"histogram2d\\\":[{\\\"colorbar\\\":{\\\"ticks\\\":\\\"\\\",\\\"outlinewidth\\\":0},\\\"type\\\":\\\"histogram2d\\\",\\\"colorscale\\\":[[0.0,\\\"#0d0887\\\"],[0.1111111111111111,\\\"#46039f\\\"],[0.2222222222222222,\\\"#7201a8\\\"],[0.3333333333333333,\\\"#9c179e\\\"],[0.4444444444444444,\\\"#bd3786\\\"],[0.5555555555555556,\\\"#d8576b\\\"],[0.6666666666666666,\\\"#ed7953\\\"],[0.7777777777777778,\\\"#fb9f3a\\\"],[0.8888888888888888,\\\"#fdca26\\\"],[1.0,\\\"#f0f921\\\"]]}],\\\"scatterternary\\\":[{\\\"type\\\":\\\"scatterternary\\\",\\\"marker\\\":{\\\"colorbar\\\":{\\\"ticks\\\":\\\"\\\",\\\"outlinewidth\\\":0}}}],\\\"scatterpolargl\\\":[{\\\"type\\\":\\\"scatterpolargl\\\",\\\"marker\\\":{\\\"colorbar\\\":{\\\"ticks\\\":\\\"\\\",\\\"outlinewidth\\\":0}}}]}},\\\"height\\\":300,\\\"yaxis\\\":{\\\"visible\\\":false,\\\"fixedrange\\\":true},\\\"images\\\":[{\\\"y\\\":0,\\\"yanchor\\\":\\\"middle\\\",\\\"sizex\\\":1.35,\\\"source\\\":\\\"https:\\/\\/raw.githubusercontent.com\\/PokeAPI\\/sprites\\/master\\/sprites\\/pokemon\\/98.png\\\",\\\"sizey\\\":1.35,\\\"x\\\":0,\\\"xref\\\":\\\"x\\\",\\\"yref\\\":\\\"y\\\",\\\"xanchor\\\":\\\"center\\\"},{\\\"y\\\":0,\\\"yanchor\\\":\\\"middle\\\",\\\"sizex\\\":1.35,\\\"source\\\":\\\"https:\\/\\/raw.githubusercontent.com\\/PokeAPI\\/sprites\\/master\\/sprites\\/pokemon\\/90.png\\\",\\\"sizey\\\":1.35,\\\"x\\\":1,\\\"xref\\\":\\\"x\\\",\\\"yref\\\":\\\"y\\\",\\\"xanchor\\\":\\\"center\\\"},{\\\"y\\\":0,\\\"yanchor\\\":\\\"middle\\\",\\\"sizex\\\":1.35,\\\"source\\\":\\\"https:\\/\\/raw.githubusercontent.com\\/PokeAPI\\/sprites\\/master\\/sprites\\/pokemon\\/95.png\\\",\\\"sizey\\\":1.35,\\\"x\\\":2,\\\"xref\\\":\\\"x\\\",\\\"yref\\\":\\\"y\\\",\\\"xanchor\\\":\\\"center\\\"},{\\\"y\\\":0,\\\"yanchor\\\":\\\"middle\\\",\\\"sizex\\\":1.35,\\\"source\\\":\\\"https:\\/\\/raw.githubusercontent.com\\/PokeAPI\\/sprites\\/master\\/sprites\\/pokemon\\/50.png\\\",\\\"sizey\\\":1.35,\\\"x\\\":3,\\\"xref\\\":\\\"x\\\",\\\"yref\\\":\\\"y\\\",\\\"xanchor\\\":\\\"center\\\"},{\\\"y\\\":0,\\\"yanchor\\\":\\\"middle\\\",\\\"sizex\\\":1.35,\\\"source\\\":\\\"https:\\/\\/raw.githubusercontent.com\\/PokeAPI\\/sprites\\/master\\/sprites\\/pokemon\\/74.png\\\",\\\"sizey\\\":1.35,\\\"x\\\":4,\\\"xref\\\":\\\"x\\\",\\\"yref\\\":\\\"y\\\",\\\"xanchor\\\":\\\"center\\\"}],\\\"autosize\\\":true,\\\"font\\\":{\\\"color\\\":\\\"black\\\",\\\"family\\\":\\\"Arial Black\\\",\\\"size\\\":14},\\\"annotations\\\":[{\\\"yshift\\\":20,\\\"x\\\":0,\\\"xref\\\":\\\"x\\\",\\\"yref\\\":\\\"y\\\",\\\"font\\\":{\\\"color\\\":\\\"black\\\",\\\"size\\\":14},\\\"text\\\":\\\"90.68\\\",\\\"showarrow\\\":false,\\\"y\\\":0.35},{\\\"yshift\\\":20,\\\"x\\\":1,\\\"xref\\\":\\\"x\\\",\\\"yref\\\":\\\"y\\\",\\\"font\\\":{\\\"color\\\":\\\"black\\\",\\\"size\\\":14},\\\"text\\\":\\\"97.6021\\\",\\\"showarrow\\\":false,\\\"y\\\":0.35},{\\\"yshift\\\":20,\\\"x\\\":2,\\\"xref\\\":\\\"x\\\",\\\"yref\\\":\\\"y\\\",\\\"font\\\":{\\\"color\\\":\\\"black\\\",\\\"size\\\":14},\\\"text\\\":\\\"98.5529\\\",\\\"showarrow\\\":false,\\\"y\\\":0.35},{\\\"yshift\\\":20,\\\"x\\\":3,\\\"xref\\\":\\\"x\\\",\\\"yref\\\":\\\"y\\\",\\\"font\\\":{\\\"color\\\":\\\"black\\\",\\\"size\\\":14},\\\"text\\\":\\\"99.3649\\\",\\\"showarrow\\\":false,\\\"y\\\":0.35},{\\\"yshift\\\":20,\\\"x\\\":4,\\\"xref\\\":\\\"x\\\",\\\"yref\\\":\\\"y\\\",\\\"font\\\":{\\\"color\\\":\\\"black\\\",\\\"size\\\":14},\\\"text\\\":\\\"104.1159\\\",\\\"showarrow\\\":false,\\\"y\\\":0.35}],\\\"title\\\":\\\"Top 5 pokemons com IAP mais próximos de: chansey\\\",\\\"margin\\\":{\\\"l\\\":50,\\\"b\\\":30,\\\"r\\\":50,\\\"t\\\":50},\\\"automargin\\\":true,\\\"width\\\":985},{\\\"showLink\\\":false,\\\"editable\\\":false,\\\"responsive\\\":true,\\\"staticPlot\\\":false,\\\"scrollZoom\\\":true}); gd.on(\\\"plotly_hover\\\",(function (data){var filtered_data=WebIO.PlotlyCommands.filterEventData(gd,data,\\\"hover\\\"); return !(filtered_data.isnil) ? (WebIO.setval({\\\"name\\\":\\\"hover\\\",\\\"scope\\\":\\\"6901830794066870445\\\",\\\"id\\\":\\\"1731\\\",\\\"type\\\":\\\"observable\\\"},filtered_data.out)) : undefined})); gd.on(\\\"plotly_unhover\\\",(function (){return WebIO.setval({\\\"name\\\":\\\"hover\\\",\\\"scope\\\":\\\"6901830794066870445\\\",\\\"id\\\":\\\"1731\\\",\\\"type\\\":\\\"observable\\\"},{})})); gd.on(\\\"plotly_selected\\\",(function (data){var filtered_data=WebIO.PlotlyCommands.filterEventData(gd,data,\\\"selected\\\"); return !(filtered_data.isnil) ? (WebIO.setval({\\\"name\\\":\\\"selected\\\",\\\"scope\\\":\\\"6901830794066870445\\\",\\\"id\\\":\\\"1732\\\",\\\"type\\\":\\\"observable\\\"},filtered_data.out)) : undefined})); gd.on(\\\"plotly_deselect\\\",(function (){return WebIO.setval({\\\"name\\\":\\\"selected\\\",\\\"scope\\\":\\\"6901830794066870445\\\",\\\"id\\\":\\\"1732\\\",\\\"type\\\":\\\"observable\\\"},{})})); gd.on(\\\"plotly_relayout\\\",(function (data){var filtered_data=WebIO.PlotlyCommands.filterEventData(gd,data,\\\"relayout\\\"); return !(filtered_data.isnil) ? (WebIO.setval({\\\"name\\\":\\\"relayout\\\",\\\"scope\\\":\\\"6901830794066870445\\\",\\\"id\\\":\\\"1734\\\",\\\"type\\\":\\\"observable\\\"},filtered_data.out)) : undefined})); return gd.on(\\\"plotly_click\\\",(function (data){var filtered_data=WebIO.PlotlyCommands.filterEventData(gd,data,\\\"click\\\"); return !(filtered_data.isnil) ? (WebIO.setval({\\\"name\\\":\\\"click\\\",\\\"scope\\\":\\\"6901830794066870445\\\",\\\"id\\\":\\\"1733\\\",\\\"type\\\":\\\"observable\\\"},filtered_data.out)) : undefined}))}));\\n    (WebIO.importBlock({\\\"data\\\":[{\\\"name\\\":\\\"Plotly\\\",\\\"type\\\":\\\"js\\\",\\\"url\\\":\\\"\\/assetserver\\/53a7aadb162a8ed394abcda57c2b6e741dfa1bbf-plotly.min.js\\\"},{\\\"name\\\":null,\\\"type\\\":\\\"js\\\",\\\"url\\\":\\\"\\/assetserver\\/6711c1456783a56df2a429d652f48fa138f5bf84-plotly_webio.bundle.js\\\"}],\\\"type\\\":\\\"async_block\\\"})).then((imports) => handler.apply(this, imports));\\n}\\n\"],\"observables\":{\"_toImage\":{\"sync\":false,\"id\":\"1738\",\"value\":{}},\"hover\":{\"sync\":false,\"id\":\"1731\",\"value\":{}},\"selected\":{\"sync\":false,\"id\":\"1732\",\"value\":{}},\"__gd_contents\":{\"sync\":false,\"id\":\"1736\",\"value\":{}},\"click\":{\"sync\":false,\"id\":\"1733\",\"value\":{}},\"image\":{\"sync\":true,\"id\":\"1735\",\"value\":\"\"},\"__get_gd_contents\":{\"sync\":false,\"id\":\"1740\",\"value\":\"\"},\"_downloadImage\":{\"sync\":false,\"id\":\"1739\",\"value\":{}},\"relayout\":{\"sync\":false,\"id\":\"1734\",\"value\":{}},\"_commands\":{\"sync\":false,\"id\":\"1737\",\"value\":[]}}},\"children\":[{\"props\":{\"id\":\"plot-3f7d93cc-29e7-4077-a705-8b5bd550ebf5\"},\"nodeType\":\"DOM\",\"type\":\"node\",\"instanceArgs\":{\"namespace\":\"html\",\"tag\":\"div\"},\"children\":[]}]},\n",
       "        window,\n",
       "    );\n",
       "    })()\n",
       "    </script>\n",
       "</div>\n"
      ],
      "text/plain": [
       "data: [\n",
       "  \"heatmap with fields colorscale, showscale, transpose, type, x, y, z, zmax, and zmin\"\n",
       "]\n",
       "\n",
       "layout: \"layout with fields annotations, automargin, autosize, coloraxis, font, height, images, margin, paper_bgcolor, template, title, width, xaxis, and yaxis\"\n",
       "\n"
      ]
     },
     "metadata": {},
     "output_type": "display_data"
    }
   ],
   "source": [
    "plot_graphic(most_excentric_dist[1], most_excentric_dist[2], most_excentric_dist[3])"
   ]
  },
  {
   "cell_type": "code",
   "execution_count": 347,
   "metadata": {},
   "outputs": [
    {
     "data": {
      "application/vnd.plotly.v1+json": {
       "config": {
        "editable": false,
        "responsive": true,
        "scrollZoom": true,
        "showLink": false,
        "staticPlot": false
       },
       "data": [
        {
         "colorscale": "Jet",
         "showscale": true,
         "transpose": true,
         "type": "heatmap",
         "x": [
          "1º nidoran-f",
          "2º nidoran-m",
          "3º venonat",
          "4º dratini",
          "5º psyduck"
         ],
         "y": [
          ""
         ],
         "z": [
          [
           15.457282052582125
          ],
          [
           16.60112748800147
          ],
          [
           17.70658757436876
          ],
          [
           17.87641098752202
          ],
          [
           18.920534723362
          ]
         ],
         "zmax": 100,
         "zmin": 0
        }
       ],
       "frames": [],
       "layout": {
        "annotations": [
         {
          "font": {
           "color": "black",
           "size": 14
          },
          "showarrow": false,
          "text": "15.4573",
          "x": 0,
          "xref": "x",
          "y": 0.35,
          "yref": "y",
          "yshift": 20
         },
         {
          "font": {
           "color": "black",
           "size": 14
          },
          "showarrow": false,
          "text": "16.6011",
          "x": 1,
          "xref": "x",
          "y": 0.35,
          "yref": "y",
          "yshift": 20
         },
         {
          "font": {
           "color": "black",
           "size": 14
          },
          "showarrow": false,
          "text": "17.7066",
          "x": 2,
          "xref": "x",
          "y": 0.35,
          "yref": "y",
          "yshift": 20
         },
         {
          "font": {
           "color": "black",
           "size": 14
          },
          "showarrow": false,
          "text": "17.8764",
          "x": 3,
          "xref": "x",
          "y": 0.35,
          "yref": "y",
          "yshift": 20
         },
         {
          "font": {
           "color": "black",
           "size": 14
          },
          "showarrow": false,
          "text": "18.9205",
          "x": 4,
          "xref": "x",
          "y": 0.35,
          "yref": "y",
          "yshift": 20
         }
        ],
        "automargin": true,
        "autosize": true,
        "coloraxis": {
         "colorbar": {
          "ticktext": [
           "Baixo",
           "Médio",
           "Alto"
          ],
          "tickvals": [
           0,
           50,
           100
          ],
          "title": "IAP"
         }
        },
        "font": {
         "color": "black",
         "family": "Arial Black",
         "size": 14
        },
        "height": 300,
        "images": [
         {
          "sizex": 1.35,
          "sizey": 1.35,
          "source": "https://raw.githubusercontent.com/PokeAPI/sprites/master/sprites/pokemon/29.png",
          "x": 0,
          "xanchor": "center",
          "xref": "x",
          "y": 0,
          "yanchor": "middle",
          "yref": "y"
         },
         {
          "sizex": 1.35,
          "sizey": 1.35,
          "source": "https://raw.githubusercontent.com/PokeAPI/sprites/master/sprites/pokemon/32.png",
          "x": 1,
          "xanchor": "center",
          "xref": "x",
          "y": 0,
          "yanchor": "middle",
          "yref": "y"
         },
         {
          "sizex": 1.35,
          "sizey": 1.35,
          "source": "https://raw.githubusercontent.com/PokeAPI/sprites/master/sprites/pokemon/48.png",
          "x": 2,
          "xanchor": "center",
          "xref": "x",
          "y": 0,
          "yanchor": "middle",
          "yref": "y"
         },
         {
          "sizex": 1.35,
          "sizey": 1.35,
          "source": "https://raw.githubusercontent.com/PokeAPI/sprites/master/sprites/pokemon/147.png",
          "x": 3,
          "xanchor": "center",
          "xref": "x",
          "y": 0,
          "yanchor": "middle",
          "yref": "y"
         },
         {
          "sizex": 1.35,
          "sizey": 1.35,
          "source": "https://raw.githubusercontent.com/PokeAPI/sprites/master/sprites/pokemon/54.png",
          "x": 4,
          "xanchor": "center",
          "xref": "x",
          "y": 0,
          "yanchor": "middle",
          "yref": "y"
         }
        ],
        "margin": {
         "b": 30,
         "l": 50,
         "r": 50,
         "t": 50
        },
        "paper_bgcolor": "#EBDBAB",
        "template": {
         "data": {
          "bar": [
           {
            "error_x": {
             "color": "#2a3f5f"
            },
            "error_y": {
             "color": "#2a3f5f"
            },
            "marker": {
             "line": {
              "color": "#E5ECF6",
              "width": 0.5
             }
            },
            "type": "bar"
           }
          ],
          "barpolar": [
           {
            "marker": {
             "line": {
              "color": "#E5ECF6",
              "width": 0.5
             }
            },
            "type": "barpolar"
           }
          ],
          "carpet": [
           {
            "aaxis": {
             "endlinecolor": "#2a3f5f",
             "gridcolor": "white",
             "linecolor": "white",
             "minorgridcolor": "white",
             "startlinecolor": "#2a3f5f"
            },
            "baxis": {
             "endlinecolor": "#2a3f5f",
             "gridcolor": "white",
             "linecolor": "white",
             "minorgridcolor": "white",
             "startlinecolor": "#2a3f5f"
            },
            "type": "carpet"
           }
          ],
          "choropleth": [
           {
            "colorbar": {
             "outlinewidth": 0,
             "ticks": ""
            },
            "type": "choropleth"
           }
          ],
          "contour": [
           {
            "colorbar": {
             "outlinewidth": 0,
             "ticks": ""
            },
            "colorscale": [
             [
              0,
              "#0d0887"
             ],
             [
              0.1111111111111111,
              "#46039f"
             ],
             [
              0.2222222222222222,
              "#7201a8"
             ],
             [
              0.3333333333333333,
              "#9c179e"
             ],
             [
              0.4444444444444444,
              "#bd3786"
             ],
             [
              0.5555555555555556,
              "#d8576b"
             ],
             [
              0.6666666666666666,
              "#ed7953"
             ],
             [
              0.7777777777777778,
              "#fb9f3a"
             ],
             [
              0.8888888888888888,
              "#fdca26"
             ],
             [
              1,
              "#f0f921"
             ]
            ],
            "type": "contour"
           }
          ],
          "contourcarpet": [
           {
            "colorbar": {
             "outlinewidth": 0,
             "ticks": ""
            },
            "type": "contourcarpet"
           }
          ],
          "heatmap": [
           {
            "colorbar": {
             "outlinewidth": 0,
             "ticks": ""
            },
            "colorscale": [
             [
              0,
              "#0d0887"
             ],
             [
              0.1111111111111111,
              "#46039f"
             ],
             [
              0.2222222222222222,
              "#7201a8"
             ],
             [
              0.3333333333333333,
              "#9c179e"
             ],
             [
              0.4444444444444444,
              "#bd3786"
             ],
             [
              0.5555555555555556,
              "#d8576b"
             ],
             [
              0.6666666666666666,
              "#ed7953"
             ],
             [
              0.7777777777777778,
              "#fb9f3a"
             ],
             [
              0.8888888888888888,
              "#fdca26"
             ],
             [
              1,
              "#f0f921"
             ]
            ],
            "type": "heatmap"
           }
          ],
          "heatmapgl": [
           {
            "colorbar": {
             "outlinewidth": 0,
             "ticks": ""
            },
            "colorscale": [
             [
              0,
              "#0d0887"
             ],
             [
              0.1111111111111111,
              "#46039f"
             ],
             [
              0.2222222222222222,
              "#7201a8"
             ],
             [
              0.3333333333333333,
              "#9c179e"
             ],
             [
              0.4444444444444444,
              "#bd3786"
             ],
             [
              0.5555555555555556,
              "#d8576b"
             ],
             [
              0.6666666666666666,
              "#ed7953"
             ],
             [
              0.7777777777777778,
              "#fb9f3a"
             ],
             [
              0.8888888888888888,
              "#fdca26"
             ],
             [
              1,
              "#f0f921"
             ]
            ],
            "type": "heatmapgl"
           }
          ],
          "histogram": [
           {
            "marker": {
             "colorbar": {
              "outlinewidth": 0,
              "ticks": ""
             }
            },
            "type": "histogram"
           }
          ],
          "histogram2d": [
           {
            "colorbar": {
             "outlinewidth": 0,
             "ticks": ""
            },
            "colorscale": [
             [
              0,
              "#0d0887"
             ],
             [
              0.1111111111111111,
              "#46039f"
             ],
             [
              0.2222222222222222,
              "#7201a8"
             ],
             [
              0.3333333333333333,
              "#9c179e"
             ],
             [
              0.4444444444444444,
              "#bd3786"
             ],
             [
              0.5555555555555556,
              "#d8576b"
             ],
             [
              0.6666666666666666,
              "#ed7953"
             ],
             [
              0.7777777777777778,
              "#fb9f3a"
             ],
             [
              0.8888888888888888,
              "#fdca26"
             ],
             [
              1,
              "#f0f921"
             ]
            ],
            "type": "histogram2d"
           }
          ],
          "histogram2dcontour": [
           {
            "colorbar": {
             "outlinewidth": 0,
             "ticks": ""
            },
            "colorscale": [
             [
              0,
              "#0d0887"
             ],
             [
              0.1111111111111111,
              "#46039f"
             ],
             [
              0.2222222222222222,
              "#7201a8"
             ],
             [
              0.3333333333333333,
              "#9c179e"
             ],
             [
              0.4444444444444444,
              "#bd3786"
             ],
             [
              0.5555555555555556,
              "#d8576b"
             ],
             [
              0.6666666666666666,
              "#ed7953"
             ],
             [
              0.7777777777777778,
              "#fb9f3a"
             ],
             [
              0.8888888888888888,
              "#fdca26"
             ],
             [
              1,
              "#f0f921"
             ]
            ],
            "type": "histogram2dcontour"
           }
          ],
          "mesh3d": [
           {
            "colorbar": {
             "outlinewidth": 0,
             "ticks": ""
            },
            "type": "mesh3d"
           }
          ],
          "parcoords": [
           {
            "line": {
             "colorbar": {
              "outlinewidth": 0,
              "ticks": ""
             }
            },
            "type": "parcoords"
           }
          ],
          "pie": [
           {
            "automargin": true,
            "type": "pie"
           }
          ],
          "scatter": [
           {
            "marker": {
             "colorbar": {
              "outlinewidth": 0,
              "ticks": ""
             }
            },
            "type": "scatter"
           }
          ],
          "scatter3d": [
           {
            "line": {
             "colorbar": {
              "outlinewidth": 0,
              "ticks": ""
             }
            },
            "marker": {
             "colorbar": {
              "outlinewidth": 0,
              "ticks": ""
             }
            },
            "type": "scatter3d"
           }
          ],
          "scattercarpet": [
           {
            "marker": {
             "colorbar": {
              "outlinewidth": 0,
              "ticks": ""
             }
            },
            "type": "scattercarpet"
           }
          ],
          "scattergeo": [
           {
            "marker": {
             "colorbar": {
              "outlinewidth": 0,
              "ticks": ""
             }
            },
            "type": "scattergeo"
           }
          ],
          "scattergl": [
           {
            "marker": {
             "colorbar": {
              "outlinewidth": 0,
              "ticks": ""
             }
            },
            "type": "scattergl"
           }
          ],
          "scattermapbox": [
           {
            "marker": {
             "colorbar": {
              "outlinewidth": 0,
              "ticks": ""
             }
            },
            "type": "scattermapbox"
           }
          ],
          "scatterpolar": [
           {
            "marker": {
             "colorbar": {
              "outlinewidth": 0,
              "ticks": ""
             }
            },
            "type": "scatterpolar"
           }
          ],
          "scatterpolargl": [
           {
            "marker": {
             "colorbar": {
              "outlinewidth": 0,
              "ticks": ""
             }
            },
            "type": "scatterpolargl"
           }
          ],
          "scatterternary": [
           {
            "marker": {
             "colorbar": {
              "outlinewidth": 0,
              "ticks": ""
             }
            },
            "type": "scatterternary"
           }
          ],
          "surface": [
           {
            "colorbar": {
             "outlinewidth": 0,
             "ticks": ""
            },
            "colorscale": [
             [
              0,
              "#0d0887"
             ],
             [
              0.1111111111111111,
              "#46039f"
             ],
             [
              0.2222222222222222,
              "#7201a8"
             ],
             [
              0.3333333333333333,
              "#9c179e"
             ],
             [
              0.4444444444444444,
              "#bd3786"
             ],
             [
              0.5555555555555556,
              "#d8576b"
             ],
             [
              0.6666666666666666,
              "#ed7953"
             ],
             [
              0.7777777777777778,
              "#fb9f3a"
             ],
             [
              0.8888888888888888,
              "#fdca26"
             ],
             [
              1,
              "#f0f921"
             ]
            ],
            "type": "surface"
           }
          ],
          "table": [
           {
            "cells": {
             "fill": {
              "color": "#EBF0F8"
             },
             "line": {
              "color": "white"
             }
            },
            "header": {
             "fill": {
              "color": "#C8D4E3"
             },
             "line": {
              "color": "white"
             }
            },
            "type": "table"
           }
          ]
         },
         "layout": {
          "annotationdefaults": {
           "arrowcolor": "#2a3f5f",
           "arrowhead": 0,
           "arrowwidth": 1
          },
          "autotypenumbers": "strict",
          "coloraxis": {
           "colorbar": {
            "outlinewidth": 0,
            "ticks": ""
           }
          },
          "colorscale": {
           "diverging": [
            [
             0,
             "#8e0152"
            ],
            [
             0.1,
             "#c51b7d"
            ],
            [
             0.2,
             "#de77ae"
            ],
            [
             0.3,
             "#f1b6da"
            ],
            [
             0.4,
             "#fde0ef"
            ],
            [
             0.5,
             "#f7f7f7"
            ],
            [
             0.6,
             "#e6f5d0"
            ],
            [
             0.7,
             "#b8e186"
            ],
            [
             0.8,
             "#7fbc41"
            ],
            [
             0.9,
             "#4d9221"
            ],
            [
             1,
             "#276419"
            ]
           ],
           "sequential": [
            [
             0,
             "#0d0887"
            ],
            [
             0.1111111111111111,
             "#46039f"
            ],
            [
             0.2222222222222222,
             "#7201a8"
            ],
            [
             0.3333333333333333,
             "#9c179e"
            ],
            [
             0.4444444444444444,
             "#bd3786"
            ],
            [
             0.5555555555555556,
             "#d8576b"
            ],
            [
             0.6666666666666666,
             "#ed7953"
            ],
            [
             0.7777777777777778,
             "#fb9f3a"
            ],
            [
             0.8888888888888888,
             "#fdca26"
            ],
            [
             1,
             "#f0f921"
            ]
           ],
           "sequentialminus": [
            [
             0,
             "#0d0887"
            ],
            [
             0.1111111111111111,
             "#46039f"
            ],
            [
             0.2222222222222222,
             "#7201a8"
            ],
            [
             0.3333333333333333,
             "#9c179e"
            ],
            [
             0.4444444444444444,
             "#bd3786"
            ],
            [
             0.5555555555555556,
             "#d8576b"
            ],
            [
             0.6666666666666666,
             "#ed7953"
            ],
            [
             0.7777777777777778,
             "#fb9f3a"
            ],
            [
             0.8888888888888888,
             "#fdca26"
            ],
            [
             1,
             "#f0f921"
            ]
           ]
          },
          "colorway": [
           "#636efa",
           "#EF553B",
           "#00cc96",
           "#ab63fa",
           "#FFA15A",
           "#19d3f3",
           "#FF6692",
           "#B6E880",
           "#FF97FF",
           "#FECB52"
          ],
          "font": {
           "color": "#2a3f5f"
          },
          "geo": {
           "bgcolor": "white",
           "lakecolor": "white",
           "landcolor": "#E5ECF6",
           "showlakes": true,
           "showland": true,
           "subunitcolor": "white"
          },
          "hoverlabel": {
           "align": "left"
          },
          "hovermode": "closest",
          "mapbox": {
           "style": "light"
          },
          "paper_bgcolor": "white",
          "plot_bgcolor": "#E5ECF6",
          "polar": {
           "angularaxis": {
            "gridcolor": "white",
            "linecolor": "white",
            "ticks": ""
           },
           "bgcolor": "#E5ECF6",
           "radialaxis": {
            "gridcolor": "white",
            "linecolor": "white",
            "ticks": ""
           }
          },
          "scene": {
           "xaxis": {
            "backgroundcolor": "#E5ECF6",
            "gridcolor": "white",
            "gridwidth": 2,
            "linecolor": "white",
            "showbackground": true,
            "ticks": "",
            "zerolinecolor": "white"
           },
           "yaxis": {
            "backgroundcolor": "#E5ECF6",
            "gridcolor": "white",
            "gridwidth": 2,
            "linecolor": "white",
            "showbackground": true,
            "ticks": "",
            "zerolinecolor": "white"
           },
           "zaxis": {
            "backgroundcolor": "#E5ECF6",
            "gridcolor": "white",
            "gridwidth": 2,
            "linecolor": "white",
            "showbackground": true,
            "ticks": "",
            "zerolinecolor": "white"
           }
          },
          "shapedefaults": {
           "line": {
            "color": "#2a3f5f"
           }
          },
          "ternary": {
           "aaxis": {
            "gridcolor": "white",
            "linecolor": "white",
            "ticks": ""
           },
           "baxis": {
            "gridcolor": "white",
            "linecolor": "white",
            "ticks": ""
           },
           "bgcolor": "#E5ECF6",
           "caxis": {
            "gridcolor": "white",
            "linecolor": "white",
            "ticks": ""
           }
          },
          "title": {
           "x": 0.05
          },
          "xaxis": {
           "automargin": true,
           "gridcolor": "white",
           "linecolor": "white",
           "ticks": "",
           "title": {
            "standoff": 15
           },
           "zerolinecolor": "white",
           "zerolinewidth": 2
          },
          "yaxis": {
           "automargin": true,
           "gridcolor": "white",
           "linecolor": "white",
           "ticks": "",
           "title": {
            "standoff": 15
           },
           "zerolinecolor": "white",
           "zerolinewidth": 2
          }
         }
        },
        "title": "Top 5 pokemons com IAP mais próximos de: ditto",
        "width": 985,
        "xaxis": {
         "fixedrange": true,
         "side": "top"
        },
        "yaxis": {
         "fixedrange": true,
         "visible": false
        }
       }
      },
      "image/png": "[encoded data removed]",
      "image/svg+xml": [
       "<svg class=\"main-svg\" xmlns=\"http://www.w3.org/2000/svg\" xmlns:xlink=\"http://www.w3.org/1999/xlink\" width=\"700\" height=\"500\" style=\"\" viewBox=\"0 0 700 500\"><rect x=\"0\" y=\"0\" width=\"700\" height=\"500\" style=\"fill: rgb(235, 219, 171); fill-opacity: 1;\"/><defs id=\"defs-4d172d\"><g class=\"clips\"><clipPath id=\"clip4d172dxyplot\" class=\"plotclip\"><rect width=\"548\" height=\"420\"/></clipPath><clipPath class=\"axesclip\" id=\"clip4d172dx\"><rect x=\"50\" y=\"0\" width=\"548\" height=\"500\"/></clipPath><clipPath class=\"axesclip\" id=\"clip4d172dy\"><rect x=\"0\" y=\"50\" width=\"700\" height=\"420\"/></clipPath><clipPath class=\"axesclip\" id=\"clip4d172dxy\"><rect x=\"50\" y=\"50\" width=\"548\" height=\"420\"/></clipPath></g><g class=\"gradients\"><linearGradient x1=\"0\" x2=\"0\" y1=\"1\" y2=\"0\" id=\"g4d172d-cbf99038\"><stop offset=\"0%\" stop-color=\"rgb(0, 0, 131)\" stop-opacity=\"1\"/><stop offset=\"12.5%\" stop-color=\"rgb(0, 60, 170)\" stop-opacity=\"1\"/><stop offset=\"37.5%\" stop-color=\"rgb(5, 255, 255)\" stop-opacity=\"1\"/><stop offset=\"62.5%\" stop-color=\"rgb(255, 255, 0)\" stop-opacity=\"1\"/><stop offset=\"87.5%\" stop-color=\"rgb(250, 0, 0)\" stop-opacity=\"1\"/><stop offset=\"100%\" stop-color=\"rgb(128, 0, 0)\" stop-opacity=\"1\"/></linearGradient></g><g class=\"patterns\"/></defs><g class=\"bglayer\"><rect class=\"bg\" x=\"50\" y=\"50\" width=\"548\" height=\"420\" style=\"fill: rgb(229, 236, 246); fill-opacity: 1; stroke-width: 0;\"/></g><g class=\"layer-below\"><g class=\"imagelayer\"/><g class=\"shapelayer\"/></g><g class=\"cartesianlayer\"><g class=\"subplot xy\"><g class=\"layer-subplot\"><g class=\"shapelayer\"/><g class=\"imagelayer\"/></g><g class=\"gridlayer\"><g class=\"x\"><path class=\"xgrid crisp\" transform=\"translate(104.8,0)\" d=\"M0,50v420\" style=\"stroke: rgb(255, 255, 255); stroke-opacity: 1; stroke-width: 1px;\"/><path class=\"xgrid crisp\" transform=\"translate(214.4,0)\" d=\"M0,50v420\" style=\"stroke: rgb(255, 255, 255); stroke-opacity: 1; stroke-width: 1px;\"/><path class=\"xgrid crisp\" transform=\"translate(324,0)\" d=\"M0,50v420\" style=\"stroke: rgb(255, 255, 255); stroke-opacity: 1; stroke-width: 1px;\"/><path class=\"xgrid crisp\" transform=\"translate(433.6,0)\" d=\"M0,50v420\" style=\"stroke: rgb(255, 255, 255); stroke-opacity: 1; stroke-width: 1px;\"/><path class=\"xgrid crisp\" transform=\"translate(543.2,0)\" d=\"M0,50v420\" style=\"stroke: rgb(255, 255, 255); stroke-opacity: 1; stroke-width: 1px;\"/></g><g class=\"y\"/></g><g class=\"zerolinelayer\"/><path class=\"xlines-below\"/><path class=\"ylines-below\"/><g class=\"overlines-below\"/><g class=\"xaxislayer-below\"/><g class=\"yaxislayer-below\"/><g class=\"overaxes-below\"/><g class=\"plot\" transform=\"translate(50,50)\" clip-path=\"url(#clip4d172dxyplot)\"><g class=\"heatmaplayer mlayer\"><g class=\"hm\"><image xmlns=\"http://www.w3.org/2000/svg\" preserveAspectRatio=\"none\" height=\"420\" width=\"548\" x=\"0\" y=\"0\" xlink:href=\"data:image/png;base64,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\" style=\"opacity: 1;\"/></g></g></g><g class=\"overplot\"/><path class=\"xlines-above crisp\" d=\"M0,0\" style=\"fill: none;\"/><path class=\"ylines-above crisp\" d=\"M0,0\" style=\"fill: none;\"/><g class=\"overlines-above\"/><g class=\"xaxislayer-above\"><g class=\"xtick\"><text text-anchor=\"middle\" x=\"0\" y=\"46.2\" transform=\"translate(104.8,0)\" style=\"font-family: 'Arial Black'; font-size: 14px; fill: rgb(0, 0, 0); fill-opacity: 1; white-space: pre; opacity: 1;\">1º nidoran-f</text></g><g class=\"xtick\"><text text-anchor=\"middle\" x=\"0\" y=\"46.2\" transform=\"translate(214.4,0)\" style=\"font-family: 'Arial Black'; font-size: 14px; fill: rgb(0, 0, 0); fill-opacity: 1; white-space: pre; opacity: 1;\">2º nidoran-m</text></g><g class=\"xtick\"><text text-anchor=\"middle\" x=\"0\" y=\"46.2\" transform=\"translate(324,0)\" style=\"font-family: 'Arial Black'; font-size: 14px; fill: rgb(0, 0, 0); fill-opacity: 1; white-space: pre; opacity: 1;\">3º venonat</text></g><g class=\"xtick\"><text text-anchor=\"middle\" x=\"0\" y=\"46.2\" transform=\"translate(433.6,0)\" style=\"font-family: 'Arial Black'; font-size: 14px; fill: rgb(0, 0, 0); fill-opacity: 1; white-space: pre; opacity: 1;\">4º dratini</text></g><g class=\"xtick\"><text text-anchor=\"middle\" x=\"0\" y=\"46.2\" transform=\"translate(543.2,0)\" style=\"font-family: 'Arial Black'; font-size: 14px; fill: rgb(0, 0, 0); fill-opacity: 1; white-space: pre; opacity: 1;\">5º psyduck</text></g></g><g class=\"yaxislayer-above\"/><g class=\"overaxes-above\"/></g></g><g class=\"polarlayer\"/><g class=\"ternarylayer\"/><g class=\"geolayer\"/><g class=\"funnelarealayer\"/><g class=\"pielayer\"/><g class=\"iciclelayer\"/><g class=\"treemaplayer\"/><g class=\"sunburstlayer\"/><g class=\"glimages\"/><defs id=\"topdefs-4d172d\"><g class=\"clips\"/></defs><g class=\"layer-above\"><g class=\"imagelayer\"><image xmlns=\"http://www.w3.org/2000/svg\" x=\"30.820000000000007\" y=\"-23.5\" width=\"147.95999999999998\" height=\"567\" preserveAspectRatio=\"xMidYMid\" opacity=\"1\" clip-path=\"url(#clip4d172dxy)\" xlink:href=\"data:image/png;base64,iVBORw0KGgoAAAANSUhEUgAAAGAAAABgCAYAAADimHc4AAAE2klEQVR4Xu2aLXAUQRCFJw6Zk8jIkzkHKA4HDiQoEgcuyKASSVziQhyO4IjjUBQuOE6eBHdxSKi3V29ppuZ+9qpSb0K9MZfszGzvvm+6e352I7lIFdiQWrfxZADiQWAABiBWQGzeHmAAYgXE5u0BBiBWQGzeHmAAYgXE5u0BBiBWQGzeHmAAYgXE5u0BBiBWQGzeHmAAYgXE5u0BBiBWQGzeHmAAYgXE5u0BBiBWQGzeHmAAYgXE5u0BBiBWQGzeHmAAYgXE5u0BBiBWQGzeHmAA3RS4f//gN3p8/vz6vxg81b3E3sH7RmCWy9G4+ROCQ/zj4/308uVh+z/bEQj7s19e3w339beuCgDEu9PfSsPhoH3zHz9SGo8v08nJRXPtxYuH7d+AgcL6wbCfnj9+8o9qqENB/xq9pkoAX8eTRsjbt/9qCRAo9+71mt/T009tJcQljKh+7eLjWasBgNEfR28u/s9njxpth1u/UjofpV6v10CI4iM05QVg6CH2gAUhNQeQNz37cJ7e7D9Jo8GjfyB8+TJtmkL88dOZd6BsXaZ0azyrqxlCFR7A2N/vDxohS7EcQgLCww9nM0+4/Ji+f59dQ8KN4hNC/90MAApyBwpzSS3eUA0AhB+IPxrtp8lkknZ23hXjesmJdk9O0uRv3m6blACwspakXBUAhhkAGAwGaXt7byUIAIASIcQQFD3AAApDeHNz8zdiOcPJt29H6XzrbtPy4vHzdmoZp6P5rIcQeHvG/yj+7u6D1vrV1VUVg0/+EIj/b492E5MpppkUH2odbt4pegHCFUChxESc82Xsh/i1iB6fUQaAK1bEfogeRdy/+to+YwRQEh0N0T+uC3IItYqP55QAiFNOzt0xmiOEUW/U6DicDpd6AL2AizTkjlg446lxH0kCgEJAJIrDPIBrzWxoDgDUlVa9FBx5grGeIYf24j5SaTaluCYBkL8owxFzQb73g/UBCpI0p6uLILAt7hdnUjWuiOUAGI4Y3xHLKXhpRDJfLPME9o35oZa5fxVJmA+Rx2WEogiBG2oRCmM9c0YJFL0lJmkDWDHIEkJsvsgr8ttyPYHrDFWA5mnomgC6iM/4zwMZ7isxOXOG5L2gBTB48rUir2IzeAEKt7gJgFvYBrBE3a4QcsHz2zOX1LYok8+C5nHoCoALunknY0jA2JYwgBXjyroAIHLMGfFY0gBWFB/NCAAC5km4dC2uhEtmcM6MA397wIoQ4ico+aietwgDGAo9z4wBrAkgduNBfEy8eahh+wikNvHxjFUn4biXn3+Gkn8fFGc5bBu/JcLLGsCKoz9uU5QgcEZTuh1EBgCMfCzGfCDTUfTYHHmAAnIE45eLqVjHfgQQ78Nr9oCOMEoAsJ+DvSKCKAkdYcR2BrAGAOzloMQpJMDgBC0/hoyH7uizs3fa9nUOWEN8fCP06nD2RRx+ccDCHU14AQXOAaFuOp3O7dvxUa61ebWzILw1Qw0ViNvJy0Re1PdaFe1486oBLHuXmyLyove40QCWAboJ9QYgpmQABiBWQGzeHmAAYgXE5u0BBiBWQGzeHmAAYgXE5u0BBiBWQGzeHmAAYgXE5u0BBiBWQGzeHmAAYgXE5u0BBiBWQGzeHmAAYgXE5u0BBiBWQGzeHmAAYgXE5u0BBiBWQGz+D+xO2H/EOmoyAAAAAElFTkSuQmCC\"/><image xmlns=\"http://www.w3.org/2000/svg\" x=\"140.42000000000002\" y=\"-23.5\" width=\"147.95999999999998\" height=\"567\" preserveAspectRatio=\"xMidYMid\" opacity=\"1\" clip-path=\"url(#clip4d172dxy)\" xlink:href=\"data:image/png;base64,iVBORw0KGgoAAAANSUhEUgAAAGAAAABgCAYAAADimHc4AAAFJ0lEQVR4Xu2aIVgbQRCFF1dcJK0LLnUgqWriqAPXOKgqlUgkEksVoEpVwbUuqSKydUQii4xrHf3ewYTJ9u6SSyBv+frWQC63N3fvn5mdnctC0KAqsEC1LuNBAMhOIAACQFaAbF4RIABkBcjmFQECQFaAbF4RIABkBcjmFQECQFaAbF4RIABkBcjmFQECQFaAbF4RIABkBcjmFQECQFaAbF4RIABkBcjmFQECQFaAbF4RIABkBcjmFQECcKvA1uv3NyffP/53DpHEA3e2Lm4aa7Wwd3oYpoWQBxDXPb06nfqa8wiOZAFUiQgD+HL3VRgMBtkz4dhKuxGWN5eHx+YhaFUbSQHo9wYBHoux394JXtCyB/MAcN7ZxtcA8TEEYAKXMAFxKiDY2Dx/M9Z7/dzY1KQAJ7jFRzuFHgFF4uOJywBgHs6Bp/+5+jUUyABOAu/RVK1wYSqAMvHLAFh+t+cEAEtfJ/V+6IT9LJVNu6BX0G/mU58cgDjleOFNDQDAsPXk/OfnsalsZiWnvEASAHzej5/DUgmqIluc7ZysbK33cx/dIIxLZVPq9mDTnhQAVEal4jdXh993uhvZ/6mvBTQA4/J/XAkhAgzAP57vhF9qNMJ1vx8AIHXx8YzJA7A8frC3n1U7SFetsHefAu7Eh/A2YgCWvlJclGkAjta/3KxvNEbq/rzECgAQHwMARrx/QvFHIiexfhMVQH3p+USLmUEAgBe9DyPe7z0fX3jv31h5m+2oMVLdlNEAQBREwSQQAABCjqSfMd6PdgQGmnwCUODnVQFU8X4DEFdCVZp8E4XnjCdRIyAvCmzRtefCJury4CL7WAbAp5488f0+IqV0lAwA3wX1TgWxAMCnn2Grod4PSzvtYd43bwcAvwvGWtCut5NMR3QAEA3eaZWOiW8NNlQ9lv89mKzXg11wczWr+b34qP8Bwf76eantDegA8sT3EOD5WEh9u8LEj9sNPvUYEHg/BiIgNfFxXxQA1kr2+b4oAgxGGYA8T4+jRQDuFCnyeN/TLyosrPMJMTEAEIt07Pn2nXm+nWevK2csXB50OiUCAAEi2mtDPFFVAEXiW92PtcNXUrYwp9aOoACAMLVa7SbeLJW5VtyyBgAfCZhru95v5/ct6t7v7jD/Yz0QAKeyh4DD5r0xCPNmE9xXPD7drC02A/pLHoDttLFOCECkLADgkM/hMQSIv3OwHQ53j4cePw4AvjcIvtWhKigHADZZ2GxZuRi/dDluXIdweBa2mzuFAHwU+Plx2hKAAgDmrcjXJiDEg2A/Vp6HevcydLd7M1cfAjAGAPK3DaQelJifng3C4vptL8iGX4DLjvk5KYqP+6NVQSYO1gFrttmxspf0Pv/7VrPf8eaFigDkqIJ29G7v3bDbGW+0Yg/GZ/+Sxb733U0APVg7CkhnqIrwVz9LKcjeBiBvJ2tT4LkY2MX6F/N54vuo6nQ6WeWECqrVaul3QTEDiHncPcyqG3goPBtiYUA4HDPhba7toPF53JsuK3HjaxT4Au0wbQ2AQPBSeKd5qwHJ2616YDgPVVGqeb0KTRoA3GTspfY5r2lmwJ5CWnkyAKrcaB6wqvNTPJ8aASkKMu97EoB5Kx7ZEwABICtANq8IEACyAmTzigABICtANq8IEACyAmTzigABICtANq8IEACyAmTzigABICtANq8IEACyAmTzigABICtANq8IEACyAmTzigABICtANq8IEACyAmTzigABICtANq8IEACyAmTzigABICtANv8X3TpajjbOYPAAAAAASUVORK5CYII=\"/><image xmlns=\"http://www.w3.org/2000/svg\" x=\"250.02\" y=\"-23.5\" width=\"147.95999999999998\" height=\"567\" preserveAspectRatio=\"xMidYMid\" opacity=\"1\" clip-path=\"url(#clip4d172dxy)\" xlink:href=\"data:image/png;base64,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\"/><image xmlns=\"http://www.w3.org/2000/svg\" x=\"359.62\" y=\"-23.5\" width=\"147.95999999999998\" height=\"567\" preserveAspectRatio=\"xMidYMid\" opacity=\"1\" clip-path=\"url(#clip4d172dxy)\" xlink:href=\"data:image/png;base64,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\"/><image xmlns=\"http://www.w3.org/2000/svg\" x=\"469.22\" y=\"-23.5\" width=\"147.95999999999998\" height=\"567\" preserveAspectRatio=\"xMidYMid\" opacity=\"1\" clip-path=\"url(#clip4d172dxy)\" xlink:href=\"data:image/png;base64,iVBORw0KGgoAAAANSUhEUgAAAGAAAABgCAYAAADimHc4AAAE9UlEQVR4Xu2bL3QTQRDGr664xIEMso46iisuuNYFHDJ1PFSCopV1jcRBHHXEEUdwxVVSCS5x4ML7Lp3LdLv3J8nxZl7edyaX5m5n8/3mm93bTXcSHqYK7JhGZ/CEAIyTgAAIwFgB4/B0AAEYK2Acng4gAGMFjMPTAQRgrIBxeDqAAIwVMA5PBxCAsQLG4ekAAjBWwDg8HUAAxgoYh6cDCMBYAePwdAABGCtgHJ4OIIB6Fej1evPBYJDMZrM0ucL39UbbvLWtc0AoeKPRmEMmAbK5ZPW2sHUAtODesx8otxoAYHjNfPHR1gHAFxMX4Lzb7abfVY8L9RaRzVpzDeCi05ifDGc78oqvivOir4zrdRnSMDy6wS0ACH3UPkwuR+MEr3sn41T36beDwpQbnE3Sz/uj5WUehXdfggTAPeGbnbsApsMoEAEBR2xWJP7v3S47p8W/k/Gh+KJNDoS09p9NEs8Q3AHIFV/ErugAnbeAgJLksRS5AiDiQzyUnquPh5mOrdbftWsBAHR7B0nz2SQ5bS/GBy8w3ACIid968TkT/ebLcVIE4eZm9w4gXCuZHw7cAEEAQT6HAKbTaXpFs9lM5DwPAsTXsHAfrh0Nx2nm68OT+OiXCwdo8aX8iOhavBgALb6GlQeBACKVPAYA9T8sQZ+Gl9nd/V47PY9lv1wEYPuvxveeHTxBcOuA64vD5G9jSQvi9y++Zn84PXmeFEGA+LuzxWDOMaBk/hI6QMoQIHwYLbL+ZecoaR0s1nVuJoP0FVBet4/Scw0L7yF+Vs4iT89eXODCARAqhCDCI+shuBYfwgPIw72nyXn/bYZXYGjeMQekg7uTmZA7AFr40DgAocV/0NhPL/kzu0p+X39P6z1cQwAlJSfv4/edZK7rfNVm8gDkZb+068EFbhxQt/hF9Z8AIqm9LgCUJV16sHwtB5Ycipav6QAFAhsn05/LpYcq5UeXHqzx4MDegRwoQTImPHqyXEv69WOxbIHPrZck3JQgAEgfvm6nmlUAhNkf3iObObG2PIiPfrkBgM4IBJwXgZDMx3WxmY8ITgBV0ji4RvZw9VJ0rBkIjyOcdlZxgZfsd+cAdAgPZLJ2X8SvTPi8ez2J7w6AiL+KcWRALbsH5QizIgzWnrYoXY0B6wAQ4VcBQQA56boJgKog4AQCiACoQ3zdbJEjNAT5oZcVFDclqG4ARY7QT8vy4GbljK0HABChG2LPBwRwO/0sm82s+nmsFIUArMR3NQ2tuwTljQGest8VAHkIQ03WC2erZHyVqaheoEPbltnvFoCIXgaiiuAaoM5+GYitZj/SLzeDsHQIa0HrLjOUuUWy3zrrdT/dAUDnZEGuThAQX/YMrLPeJQDsiEnH8IsHHFVXPIsyX/6/wHrjJa+PLhwQ246U3/6sA0JEx72yrC0wvYFwAUCXnXBbMgairNYX7SV4A+EGgIgqbmg+Ps50hqAQrkr24n79K7oYLNnKrNJeGexNP3cHIPaf7av8v68G+KY9y35PCqB4L8e7oY/tWHcANs0oKWeS3TK4n48alRxUR/xV2thKAKsIYH0tARgTIAACMFbAODwdQADGChiHpwMIwFgB4/B0AAEYK2Acng4gAGMFjMPTAQRgrIBxeDqAAIwVMA5PBxCAsQLG4ekAAjBWwDg8HUAAxgoYh6cDCMBYAePwdAABGCtgHJ4OMAbwD6FguH/s1AOzAAAAAElFTkSuQmCC\"/></g><g class=\"shapelayer\"/></g><g class=\"infolayer\"><g class=\"cbf99038 colorbar\" transform=\"translate(50,50)\"><rect class=\"cbbg\" x=\"559\" y=\"0\" width=\"78.6875\" height=\"420\" style=\"fill: rgb(0, 0, 0); fill-opacity: 0; stroke: rgb(68, 68, 68); stroke-opacity: 1; stroke-width: 0;\"/><g class=\"cbfills\" transform=\"translate(0,10)\"><rect class=\"cbfill\" x=\"569\" width=\"30\" y=\"0\" height=\"400\" style=\"fill: url('#g4d172d-cbf99038');\"/></g><g class=\"cblines\" transform=\"translate(0,10)\"/><g class=\"cbaxis crisp\" transform=\"translate(0,-50)\"><g class=\"ycbf99038tick\"><text text-anchor=\"start\" x=\"602.3\" y=\"4.8999999999999995\" transform=\"translate(0,460)\" style=\"font-family: 'Arial Black'; font-size: 14px; fill: rgb(0, 0, 0); fill-opacity: 1; white-space: pre; opacity: 1;\">0</text></g><g class=\"ycbf99038tick\"><text text-anchor=\"start\" x=\"602.3\" y=\"4.8999999999999995\" style=\"font-family: 'Arial Black'; font-size: 14px; fill: rgb(0, 0, 0); fill-opacity: 1; white-space: pre; opacity: 1;\" transform=\"translate(0,380)\">20</text></g><g class=\"ycbf99038tick\"><text text-anchor=\"start\" x=\"602.3\" y=\"4.8999999999999995\" style=\"font-family: 'Arial Black'; font-size: 14px; fill: rgb(0, 0, 0); fill-opacity: 1; white-space: pre; opacity: 1;\" transform=\"translate(0,300)\">40</text></g><g class=\"ycbf99038tick\"><text text-anchor=\"start\" x=\"602.3\" y=\"4.8999999999999995\" style=\"font-family: 'Arial Black'; font-size: 14px; fill: rgb(0, 0, 0); fill-opacity: 1; white-space: pre; opacity: 1;\" transform=\"translate(0,220)\">60</text></g><g class=\"ycbf99038tick\"><text text-anchor=\"start\" x=\"602.3\" y=\"4.8999999999999995\" style=\"font-family: 'Arial Black'; font-size: 14px; fill: rgb(0, 0, 0); fill-opacity: 1; white-space: pre; opacity: 1;\" transform=\"translate(0,140)\">80</text></g><g class=\"ycbf99038tick\"><text text-anchor=\"start\" x=\"602.3\" y=\"4.8999999999999995\" style=\"font-family: 'Arial Black'; font-size: 14px; fill: rgb(0, 0, 0); fill-opacity: 1; white-space: pre; opacity: 1;\" transform=\"translate(0,60.000000000000014)\">100</text></g></g><g class=\"cbtitleunshift\" transform=\"translate(-50,-50)\"><g class=\"cbtitle\"/></g><rect class=\"cboutline\" x=\"569\" y=\"10\" width=\"30\" height=\"400\" style=\"stroke: rgb(68, 68, 68); stroke-opacity: 1; fill: none; stroke-width: 0;\"/></g><g class=\"g-gtitle\"><text class=\"gtitle\" x=\"35\" y=\"25\" text-anchor=\"start\" dy=\"0em\" style=\"font-family: 'Arial Black'; font-size: 20px; fill: rgb(0, 0, 0); opacity: 1; font-weight: normal; white-space: pre;\">Top 5 pokemons com IAP mais próximos de: ditto</text></g><g class=\"g-xtitle\"/><g class=\"annotation\" data-index=\"0\" style=\"opacity: 1;\"><g class=\"annotation-text-g\" transform=\"rotate(0,104.8,93)\"><g class=\"cursor-pointer\" transform=\"translate(72,82)\"><rect class=\"bg\" x=\"0.5\" y=\"0.5\" width=\"64\" height=\"22\" style=\"stroke-width: 1px; stroke: rgb(0, 0, 0); stroke-opacity: 0; fill: rgb(0, 0, 0); fill-opacity: 0;\"/><text class=\"annotation-text\" text-anchor=\"middle\" x=\"32.359375\" y=\"17\" style=\"font-family: 'Arial Black'; font-size: 14px; fill: rgb(0, 0, 0); fill-opacity: 1; white-space: pre;\">15.4573</text></g></g></g><g class=\"annotation\" data-index=\"1\" style=\"opacity: 1;\"><g class=\"annotation-text-g\" transform=\"rotate(0,214.4,93)\"><g class=\"cursor-pointer\" transform=\"translate(182,82)\"><rect class=\"bg\" x=\"0.5\" y=\"0.5\" width=\"64\" height=\"22\" style=\"stroke-width: 1px; stroke: rgb(0, 0, 0); stroke-opacity: 0; fill: rgb(0, 0, 0); fill-opacity: 0;\"/><text class=\"annotation-text\" text-anchor=\"middle\" x=\"32.359375\" y=\"17\" style=\"font-family: 'Arial Black'; font-size: 14px; fill: rgb(0, 0, 0); fill-opacity: 1; white-space: pre;\">16.6011</text></g></g></g><g class=\"annotation\" data-index=\"2\" style=\"opacity: 1;\"><g class=\"annotation-text-g\" transform=\"rotate(0,324,93)\"><g class=\"cursor-pointer\" transform=\"translate(292,82)\"><rect class=\"bg\" x=\"0.5\" y=\"0.5\" width=\"64\" height=\"22\" style=\"stroke-width: 1px; stroke: rgb(0, 0, 0); stroke-opacity: 0; fill: rgb(0, 0, 0); fill-opacity: 0;\"/><text class=\"annotation-text\" text-anchor=\"middle\" x=\"32.359375\" y=\"17\" style=\"font-family: 'Arial Black'; font-size: 14px; fill: rgb(0, 0, 0); fill-opacity: 1; white-space: pre;\">17.7066</text></g></g></g><g class=\"annotation\" data-index=\"3\" style=\"opacity: 1;\"><g class=\"annotation-text-g\" transform=\"rotate(0,433.6,93)\"><g class=\"cursor-pointer\" transform=\"translate(401,82)\"><rect class=\"bg\" x=\"0.5\" y=\"0.5\" width=\"64\" height=\"22\" style=\"stroke-width: 1px; stroke: rgb(0, 0, 0); stroke-opacity: 0; fill: rgb(0, 0, 0); fill-opacity: 0;\"/><text class=\"annotation-text\" text-anchor=\"middle\" x=\"32.359375\" y=\"17\" style=\"font-family: 'Arial Black'; font-size: 14px; fill: rgb(0, 0, 0); fill-opacity: 1; white-space: pre;\">17.8764</text></g></g></g><g class=\"annotation\" data-index=\"4\" style=\"opacity: 1;\"><g class=\"annotation-text-g\" transform=\"rotate(0,543.2,93)\"><g class=\"cursor-pointer\" transform=\"translate(511,82)\"><rect class=\"bg\" x=\"0.5\" y=\"0.5\" width=\"64\" height=\"22\" style=\"stroke-width: 1px; stroke: rgb(0, 0, 0); stroke-opacity: 0; fill: rgb(0, 0, 0); fill-opacity: 0;\"/><text class=\"annotation-text\" text-anchor=\"middle\" x=\"32.359375\" y=\"17\" style=\"font-family: 'Arial Black'; font-size: 14px; fill: rgb(0, 0, 0); fill-opacity: 1; white-space: pre;\">18.9205</text></g></g></g></g></svg>"
      ],
      "text/html": [
       "<div\n",
       "    class=\"webio-mountpoint\"\n",
       "    data-webio-mountpoint=\"10874395443348835984\"\n",
       ">\n",
       "    <script>\n",
       "    (function(){\n",
       "    // Some integrations (namely, IJulia/Jupyter) use an alternate render pathway than\n",
       "    // just putting the html on the page. If WebIO isn't defined, then it's pretty likely\n",
       "    // that we're in one of those situations and the integration just isn't installed\n",
       "    // correctly.\n",
       "    if (typeof window.WebIO === \"undefined\") {\n",
       "        document\n",
       "            .querySelector('[data-webio-mountpoint=\"10874395443348835984\"]')\n",
       "            .innerHTML = (\n",
       "                '<div style=\"padding: 1em; background-color: #f8d6da; border: 1px solid #f5c6cb; font-weight: bold;\">' +\n",
       "                '<p><strong>WebIO not detected.</strong></p>' +\n",
       "                '<p>Please read ' +\n",
       "                '<a href=\"https://juliagizmos.github.io/WebIO.jl/latest/troubleshooting/not-detected/\" target=\"_blank\">the troubleshooting guide</a> ' +\n",
       "                'for more information on how to resolve this issue.</p>' +\n",
       "                '<p><a href=\"https://juliagizmos.github.io/WebIO.jl/latest/troubleshooting/not-detected/\" target=\"_blank\">https://juliagizmos.github.io/WebIO.jl/latest/troubleshooting/not-detected/</a></p>' +\n",
       "                '</div>'\n",
       "            );\n",
       "        return;\n",
       "    }\n",
       "    WebIO.mount(\n",
       "        document.querySelector('[data-webio-mountpoint=\"10874395443348835984\"]'),\n",
       "        {\"props\":{},\"nodeType\":\"Scope\",\"type\":\"node\",\"instanceArgs\":{\"imports\":{\"data\":[{\"name\":\"Plotly\",\"type\":\"js\",\"url\":\"\\/assetserver\\/53a7aadb162a8ed394abcda57c2b6e741dfa1bbf-plotly.min.js\"},{\"name\":null,\"type\":\"js\",\"url\":\"\\/assetserver\\/6711c1456783a56df2a429d652f48fa138f5bf84-plotly_webio.bundle.js\"}],\"type\":\"async_block\"},\"id\":\"13187683843060238022\",\"handlers\":{\"_toImage\":[\"(function (options){return this.Plotly.toImage(this.plotElem,options).then((function (data){return WebIO.setval({\\\"name\\\":\\\"image\\\",\\\"scope\\\":\\\"13187683843060238022\\\",\\\"id\\\":\\\"1755\\\",\\\"type\\\":\\\"observable\\\"},data)}))})\"],\"__get_gd_contents\":[\"(function (prop){prop==\\\"data\\\" ? (WebIO.setval({\\\"name\\\":\\\"__gd_contents\\\",\\\"scope\\\":\\\"13187683843060238022\\\",\\\"id\\\":\\\"1756\\\",\\\"type\\\":\\\"observable\\\"},this.plotElem.data)) : undefined; return prop==\\\"layout\\\" ? (WebIO.setval({\\\"name\\\":\\\"__gd_contents\\\",\\\"scope\\\":\\\"13187683843060238022\\\",\\\"id\\\":\\\"1756\\\",\\\"type\\\":\\\"observable\\\"},this.plotElem.layout)) : undefined})\"],\"_downloadImage\":[\"(function (options){return this.Plotly.downloadImage(this.plotElem,options)})\"],\"_commands\":[\"(function (args){var fn=args.shift(); var elem=this.plotElem; var Plotly=this.Plotly; args.unshift(elem); return Plotly[fn].apply(this,args)})\"]},\"systemjs_options\":null,\"mount_callbacks\":[\"function () {\\n    var handler = ((function (Plotly,PlotlyWebIO){PlotlyWebIO.init(WebIO); var gd=this.dom.querySelector(\\\"#plot-349c7572-d075-4f89-94e2-53121759fab9\\\"); this.plotElem=gd; this.Plotly=Plotly; (window.Blink!==undefined) ? (gd.style.width=\\\"100%\\\", gd.style.height=\\\"100vh\\\", gd.style.marginLeft=\\\"0%\\\", gd.style.marginTop=\\\"0vh\\\") : undefined; window.onresize=(function (){return Plotly.Plots.resize(gd)}); Plotly.newPlot(gd,[{\\\"zmax\\\":100,\\\"y\\\":[\\\"\\\"],\\\"type\\\":\\\"heatmap\\\",\\\"zmin\\\":0,\\\"colorscale\\\":\\\"Jet\\\",\\\"z\\\":[[15.457282052582125],[16.60112748800147],[17.70658757436876],[17.87641098752202],[18.920534723362]],\\\"transpose\\\":true,\\\"showscale\\\":true,\\\"x\\\":[\\\"1º nidoran-f\\\",\\\"2º nidoran-m\\\",\\\"3º venonat\\\",\\\"4º dratini\\\",\\\"5º psyduck\\\"]}],{\\\"coloraxis\\\":{\\\"colorbar\\\":{\\\"tickvals\\\":[0,50,100],\\\"title\\\":\\\"IAP\\\",\\\"ticktext\\\":[\\\"Baixo\\\",\\\"Médio\\\",\\\"Alto\\\"]}},\\\"xaxis\\\":{\\\"fixedrange\\\":true,\\\"side\\\":\\\"top\\\"},\\\"paper_bgcolor\\\":\\\"#EBDBAB\\\",\\\"template\\\":{\\\"layout\\\":{\\\"coloraxis\\\":{\\\"colorbar\\\":{\\\"ticks\\\":\\\"\\\",\\\"outlinewidth\\\":0}},\\\"xaxis\\\":{\\\"gridcolor\\\":\\\"white\\\",\\\"zerolinewidth\\\":2,\\\"title\\\":{\\\"standoff\\\":15},\\\"ticks\\\":\\\"\\\",\\\"zerolinecolor\\\":\\\"white\\\",\\\"automargin\\\":true,\\\"linecolor\\\":\\\"white\\\"},\\\"hovermode\\\":\\\"closest\\\",\\\"paper_bgcolor\\\":\\\"white\\\",\\\"geo\\\":{\\\"showlakes\\\":true,\\\"showland\\\":true,\\\"landcolor\\\":\\\"#E5ECF6\\\",\\\"bgcolor\\\":\\\"white\\\",\\\"subunitcolor\\\":\\\"white\\\",\\\"lakecolor\\\":\\\"white\\\"},\\\"colorscale\\\":{\\\"sequential\\\":[[0.0,\\\"#0d0887\\\"],[0.1111111111111111,\\\"#46039f\\\"],[0.2222222222222222,\\\"#7201a8\\\"],[0.3333333333333333,\\\"#9c179e\\\"],[0.4444444444444444,\\\"#bd3786\\\"],[0.5555555555555556,\\\"#d8576b\\\"],[0.6666666666666666,\\\"#ed7953\\\"],[0.7777777777777778,\\\"#fb9f3a\\\"],[0.8888888888888888,\\\"#fdca26\\\"],[1.0,\\\"#f0f921\\\"]],\\\"diverging\\\":[[0,\\\"#8e0152\\\"],[0.1,\\\"#c51b7d\\\"],[0.2,\\\"#de77ae\\\"],[0.3,\\\"#f1b6da\\\"],[0.4,\\\"#fde0ef\\\"],[0.5,\\\"#f7f7f7\\\"],[0.6,\\\"#e6f5d0\\\"],[0.7,\\\"#b8e186\\\"],[0.8,\\\"#7fbc41\\\"],[0.9,\\\"#4d9221\\\"],[1,\\\"#276419\\\"]],\\\"sequentialminus\\\":[[0.0,\\\"#0d0887\\\"],[0.1111111111111111,\\\"#46039f\\\"],[0.2222222222222222,\\\"#7201a8\\\"],[0.3333333333333333,\\\"#9c179e\\\"],[0.4444444444444444,\\\"#bd3786\\\"],[0.5555555555555556,\\\"#d8576b\\\"],[0.6666666666666666,\\\"#ed7953\\\"],[0.7777777777777778,\\\"#fb9f3a\\\"],[0.8888888888888888,\\\"#fdca26\\\"],[1.0,\\\"#f0f921\\\"]]},\\\"yaxis\\\":{\\\"gridcolor\\\":\\\"white\\\",\\\"zerolinewidth\\\":2,\\\"title\\\":{\\\"standoff\\\":15},\\\"ticks\\\":\\\"\\\",\\\"zerolinecolor\\\":\\\"white\\\",\\\"automargin\\\":true,\\\"linecolor\\\":\\\"white\\\"},\\\"shapedefaults\\\":{\\\"line\\\":{\\\"color\\\":\\\"#2a3f5f\\\"}},\\\"hoverlabel\\\":{\\\"align\\\":\\\"left\\\"},\\\"mapbox\\\":{\\\"style\\\":\\\"light\\\"},\\\"polar\\\":{\\\"angularaxis\\\":{\\\"gridcolor\\\":\\\"white\\\",\\\"ticks\\\":\\\"\\\",\\\"linecolor\\\":\\\"white\\\"},\\\"bgcolor\\\":\\\"#E5ECF6\\\",\\\"radialaxis\\\":{\\\"gridcolor\\\":\\\"white\\\",\\\"ticks\\\":\\\"\\\",\\\"linecolor\\\":\\\"white\\\"}},\\\"autotypenumbers\\\":\\\"strict\\\",\\\"font\\\":{\\\"color\\\":\\\"#2a3f5f\\\"},\\\"ternary\\\":{\\\"baxis\\\":{\\\"gridcolor\\\":\\\"white\\\",\\\"ticks\\\":\\\"\\\",\\\"linecolor\\\":\\\"white\\\"},\\\"bgcolor\\\":\\\"#E5ECF6\\\",\\\"caxis\\\":{\\\"gridcolor\\\":\\\"white\\\",\\\"ticks\\\":\\\"\\\",\\\"linecolor\\\":\\\"white\\\"},\\\"aaxis\\\":{\\\"gridcolor\\\":\\\"white\\\",\\\"ticks\\\":\\\"\\\",\\\"linecolor\\\":\\\"white\\\"}},\\\"annotationdefaults\\\":{\\\"arrowhead\\\":0,\\\"arrowwidth\\\":1,\\\"arrowcolor\\\":\\\"#2a3f5f\\\"},\\\"plot_bgcolor\\\":\\\"#E5ECF6\\\",\\\"title\\\":{\\\"x\\\":0.05},\\\"scene\\\":{\\\"xaxis\\\":{\\\"gridcolor\\\":\\\"white\\\",\\\"gridwidth\\\":2,\\\"backgroundcolor\\\":\\\"#E5ECF6\\\",\\\"ticks\\\":\\\"\\\",\\\"showbackground\\\":true,\\\"zerolinecolor\\\":\\\"white\\\",\\\"linecolor\\\":\\\"white\\\"},\\\"zaxis\\\":{\\\"gridcolor\\\":\\\"white\\\",\\\"gridwidth\\\":2,\\\"backgroundcolor\\\":\\\"#E5ECF6\\\",\\\"ticks\\\":\\\"\\\",\\\"showbackground\\\":true,\\\"zerolinecolor\\\":\\\"white\\\",\\\"linecolor\\\":\\\"white\\\"},\\\"yaxis\\\":{\\\"gridcolor\\\":\\\"white\\\",\\\"gridwidth\\\":2,\\\"backgroundcolor\\\":\\\"#E5ECF6\\\",\\\"ticks\\\":\\\"\\\",\\\"showbackground\\\":true,\\\"zerolinecolor\\\":\\\"white\\\",\\\"linecolor\\\":\\\"white\\\"}},\\\"colorway\\\":[\\\"#636efa\\\",\\\"#EF553B\\\",\\\"#00cc96\\\",\\\"#ab63fa\\\",\\\"#FFA15A\\\",\\\"#19d3f3\\\",\\\"#FF6692\\\",\\\"#B6E880\\\",\\\"#FF97FF\\\",\\\"#FECB52\\\"]},\\\"data\\\":{\\\"barpolar\\\":[{\\\"type\\\":\\\"barpolar\\\",\\\"marker\\\":{\\\"line\\\":{\\\"color\\\":\\\"#E5ECF6\\\",\\\"width\\\":0.5}}}],\\\"carpet\\\":[{\\\"aaxis\\\":{\\\"gridcolor\\\":\\\"white\\\",\\\"endlinecolor\\\":\\\"#2a3f5f\\\",\\\"minorgridcolor\\\":\\\"white\\\",\\\"startlinecolor\\\":\\\"#2a3f5f\\\",\\\"linecolor\\\":\\\"white\\\"},\\\"type\\\":\\\"carpet\\\",\\\"baxis\\\":{\\\"gridcolor\\\":\\\"white\\\",\\\"endlinecolor\\\":\\\"#2a3f5f\\\",\\\"minorgridcolor\\\":\\\"white\\\",\\\"startlinecolor\\\":\\\"#2a3f5f\\\",\\\"linecolor\\\":\\\"white\\\"}}],\\\"scatterpolar\\\":[{\\\"type\\\":\\\"scatterpolar\\\",\\\"marker\\\":{\\\"colorbar\\\":{\\\"ticks\\\":\\\"\\\",\\\"outlinewidth\\\":0}}}],\\\"parcoords\\\":[{\\\"line\\\":{\\\"colorbar\\\":{\\\"ticks\\\":\\\"\\\",\\\"outlinewidth\\\":0}},\\\"type\\\":\\\"parcoords\\\"}],\\\"scatter\\\":[{\\\"type\\\":\\\"scatter\\\",\\\"marker\\\":{\\\"colorbar\\\":{\\\"ticks\\\":\\\"\\\",\\\"outlinewidth\\\":0}}}],\\\"histogram2dcontour\\\":[{\\\"colorbar\\\":{\\\"ticks\\\":\\\"\\\",\\\"outlinewidth\\\":0},\\\"type\\\":\\\"histogram2dcontour\\\",\\\"colorscale\\\":[[0.0,\\\"#0d0887\\\"],[0.1111111111111111,\\\"#46039f\\\"],[0.2222222222222222,\\\"#7201a8\\\"],[0.3333333333333333,\\\"#9c179e\\\"],[0.4444444444444444,\\\"#bd3786\\\"],[0.5555555555555556,\\\"#d8576b\\\"],[0.6666666666666666,\\\"#ed7953\\\"],[0.7777777777777778,\\\"#fb9f3a\\\"],[0.8888888888888888,\\\"#fdca26\\\"],[1.0,\\\"#f0f921\\\"]]}],\\\"contour\\\":[{\\\"colorbar\\\":{\\\"ticks\\\":\\\"\\\",\\\"outlinewidth\\\":0},\\\"type\\\":\\\"contour\\\",\\\"colorscale\\\":[[0.0,\\\"#0d0887\\\"],[0.1111111111111111,\\\"#46039f\\\"],[0.2222222222222222,\\\"#7201a8\\\"],[0.3333333333333333,\\\"#9c179e\\\"],[0.4444444444444444,\\\"#bd3786\\\"],[0.5555555555555556,\\\"#d8576b\\\"],[0.6666666666666666,\\\"#ed7953\\\"],[0.7777777777777778,\\\"#fb9f3a\\\"],[0.8888888888888888,\\\"#fdca26\\\"],[1.0,\\\"#f0f921\\\"]]}],\\\"scattercarpet\\\":[{\\\"type\\\":\\\"scattercarpet\\\",\\\"marker\\\":{\\\"colorbar\\\":{\\\"ticks\\\":\\\"\\\",\\\"outlinewidth\\\":0}}}],\\\"mesh3d\\\":[{\\\"colorbar\\\":{\\\"ticks\\\":\\\"\\\",\\\"outlinewidth\\\":0},\\\"type\\\":\\\"mesh3d\\\"}],\\\"surface\\\":[{\\\"colorbar\\\":{\\\"ticks\\\":\\\"\\\",\\\"outlinewidth\\\":0},\\\"type\\\":\\\"surface\\\",\\\"colorscale\\\":[[0.0,\\\"#0d0887\\\"],[0.1111111111111111,\\\"#46039f\\\"],[0.2222222222222222,\\\"#7201a8\\\"],[0.3333333333333333,\\\"#9c179e\\\"],[0.4444444444444444,\\\"#bd3786\\\"],[0.5555555555555556,\\\"#d8576b\\\"],[0.6666666666666666,\\\"#ed7953\\\"],[0.7777777777777778,\\\"#fb9f3a\\\"],[0.8888888888888888,\\\"#fdca26\\\"],[1.0,\\\"#f0f921\\\"]]}],\\\"scattermapbox\\\":[{\\\"type\\\":\\\"scattermapbox\\\",\\\"marker\\\":{\\\"colorbar\\\":{\\\"ticks\\\":\\\"\\\",\\\"outlinewidth\\\":0}}}],\\\"scattergeo\\\":[{\\\"type\\\":\\\"scattergeo\\\",\\\"marker\\\":{\\\"colorbar\\\":{\\\"ticks\\\":\\\"\\\",\\\"outlinewidth\\\":0}}}],\\\"histogram\\\":[{\\\"type\\\":\\\"histogram\\\",\\\"marker\\\":{\\\"colorbar\\\":{\\\"ticks\\\":\\\"\\\",\\\"outlinewidth\\\":0}}}],\\\"pie\\\":[{\\\"type\\\":\\\"pie\\\",\\\"automargin\\\":true}],\\\"choropleth\\\":[{\\\"colorbar\\\":{\\\"ticks\\\":\\\"\\\",\\\"outlinewidth\\\":0},\\\"type\\\":\\\"choropleth\\\"}],\\\"heatmapgl\\\":[{\\\"colorbar\\\":{\\\"ticks\\\":\\\"\\\",\\\"outlinewidth\\\":0},\\\"type\\\":\\\"heatmapgl\\\",\\\"colorscale\\\":[[0.0,\\\"#0d0887\\\"],[0.1111111111111111,\\\"#46039f\\\"],[0.2222222222222222,\\\"#7201a8\\\"],[0.3333333333333333,\\\"#9c179e\\\"],[0.4444444444444444,\\\"#bd3786\\\"],[0.5555555555555556,\\\"#d8576b\\\"],[0.6666666666666666,\\\"#ed7953\\\"],[0.7777777777777778,\\\"#fb9f3a\\\"],[0.8888888888888888,\\\"#fdca26\\\"],[1.0,\\\"#f0f921\\\"]]}],\\\"bar\\\":[{\\\"type\\\":\\\"bar\\\",\\\"error_y\\\":{\\\"color\\\":\\\"#2a3f5f\\\"},\\\"error_x\\\":{\\\"color\\\":\\\"#2a3f5f\\\"},\\\"marker\\\":{\\\"line\\\":{\\\"color\\\":\\\"#E5ECF6\\\",\\\"width\\\":0.5}}}],\\\"heatmap\\\":[{\\\"colorbar\\\":{\\\"ticks\\\":\\\"\\\",\\\"outlinewidth\\\":0},\\\"type\\\":\\\"heatmap\\\",\\\"colorscale\\\":[[0.0,\\\"#0d0887\\\"],[0.1111111111111111,\\\"#46039f\\\"],[0.2222222222222222,\\\"#7201a8\\\"],[0.3333333333333333,\\\"#9c179e\\\"],[0.4444444444444444,\\\"#bd3786\\\"],[0.5555555555555556,\\\"#d8576b\\\"],[0.6666666666666666,\\\"#ed7953\\\"],[0.7777777777777778,\\\"#fb9f3a\\\"],[0.8888888888888888,\\\"#fdca26\\\"],[1.0,\\\"#f0f921\\\"]]}],\\\"contourcarpet\\\":[{\\\"colorbar\\\":{\\\"ticks\\\":\\\"\\\",\\\"outlinewidth\\\":0},\\\"type\\\":\\\"contourcarpet\\\"}],\\\"table\\\":[{\\\"type\\\":\\\"table\\\",\\\"header\\\":{\\\"line\\\":{\\\"color\\\":\\\"white\\\"},\\\"fill\\\":{\\\"color\\\":\\\"#C8D4E3\\\"}},\\\"cells\\\":{\\\"line\\\":{\\\"color\\\":\\\"white\\\"},\\\"fill\\\":{\\\"color\\\":\\\"#EBF0F8\\\"}}}],\\\"scatter3d\\\":[{\\\"line\\\":{\\\"colorbar\\\":{\\\"ticks\\\":\\\"\\\",\\\"outlinewidth\\\":0}},\\\"type\\\":\\\"scatter3d\\\",\\\"marker\\\":{\\\"colorbar\\\":{\\\"ticks\\\":\\\"\\\",\\\"outlinewidth\\\":0}}}],\\\"scattergl\\\":[{\\\"type\\\":\\\"scattergl\\\",\\\"marker\\\":{\\\"colorbar\\\":{\\\"ticks\\\":\\\"\\\",\\\"outlinewidth\\\":0}}}],\\\"histogram2d\\\":[{\\\"colorbar\\\":{\\\"ticks\\\":\\\"\\\",\\\"outlinewidth\\\":0},\\\"type\\\":\\\"histogram2d\\\",\\\"colorscale\\\":[[0.0,\\\"#0d0887\\\"],[0.1111111111111111,\\\"#46039f\\\"],[0.2222222222222222,\\\"#7201a8\\\"],[0.3333333333333333,\\\"#9c179e\\\"],[0.4444444444444444,\\\"#bd3786\\\"],[0.5555555555555556,\\\"#d8576b\\\"],[0.6666666666666666,\\\"#ed7953\\\"],[0.7777777777777778,\\\"#fb9f3a\\\"],[0.8888888888888888,\\\"#fdca26\\\"],[1.0,\\\"#f0f921\\\"]]}],\\\"scatterternary\\\":[{\\\"type\\\":\\\"scatterternary\\\",\\\"marker\\\":{\\\"colorbar\\\":{\\\"ticks\\\":\\\"\\\",\\\"outlinewidth\\\":0}}}],\\\"scatterpolargl\\\":[{\\\"type\\\":\\\"scatterpolargl\\\",\\\"marker\\\":{\\\"colorbar\\\":{\\\"ticks\\\":\\\"\\\",\\\"outlinewidth\\\":0}}}]}},\\\"height\\\":300,\\\"yaxis\\\":{\\\"visible\\\":false,\\\"fixedrange\\\":true},\\\"images\\\":[{\\\"y\\\":0,\\\"yanchor\\\":\\\"middle\\\",\\\"sizex\\\":1.35,\\\"source\\\":\\\"https:\\/\\/raw.githubusercontent.com\\/PokeAPI\\/sprites\\/master\\/sprites\\/pokemon\\/29.png\\\",\\\"sizey\\\":1.35,\\\"x\\\":0,\\\"xref\\\":\\\"x\\\",\\\"yref\\\":\\\"y\\\",\\\"xanchor\\\":\\\"center\\\"},{\\\"y\\\":0,\\\"yanchor\\\":\\\"middle\\\",\\\"sizex\\\":1.35,\\\"source\\\":\\\"https:\\/\\/raw.githubusercontent.com\\/PokeAPI\\/sprites\\/master\\/sprites\\/pokemon\\/32.png\\\",\\\"sizey\\\":1.35,\\\"x\\\":1,\\\"xref\\\":\\\"x\\\",\\\"yref\\\":\\\"y\\\",\\\"xanchor\\\":\\\"center\\\"},{\\\"y\\\":0,\\\"yanchor\\\":\\\"middle\\\",\\\"sizex\\\":1.35,\\\"source\\\":\\\"https:\\/\\/raw.githubusercontent.com\\/PokeAPI\\/sprites\\/master\\/sprites\\/pokemon\\/48.png\\\",\\\"sizey\\\":1.35,\\\"x\\\":2,\\\"xref\\\":\\\"x\\\",\\\"yref\\\":\\\"y\\\",\\\"xanchor\\\":\\\"center\\\"},{\\\"y\\\":0,\\\"yanchor\\\":\\\"middle\\\",\\\"sizex\\\":1.35,\\\"source\\\":\\\"https:\\/\\/raw.githubusercontent.com\\/PokeAPI\\/sprites\\/master\\/sprites\\/pokemon\\/147.png\\\",\\\"sizey\\\":1.35,\\\"x\\\":3,\\\"xref\\\":\\\"x\\\",\\\"yref\\\":\\\"y\\\",\\\"xanchor\\\":\\\"center\\\"},{\\\"y\\\":0,\\\"yanchor\\\":\\\"middle\\\",\\\"sizex\\\":1.35,\\\"source\\\":\\\"https:\\/\\/raw.githubusercontent.com\\/PokeAPI\\/sprites\\/master\\/sprites\\/pokemon\\/54.png\\\",\\\"sizey\\\":1.35,\\\"x\\\":4,\\\"xref\\\":\\\"x\\\",\\\"yref\\\":\\\"y\\\",\\\"xanchor\\\":\\\"center\\\"}],\\\"autosize\\\":true,\\\"font\\\":{\\\"color\\\":\\\"black\\\",\\\"family\\\":\\\"Arial Black\\\",\\\"size\\\":14},\\\"annotations\\\":[{\\\"yshift\\\":20,\\\"x\\\":0,\\\"xref\\\":\\\"x\\\",\\\"yref\\\":\\\"y\\\",\\\"font\\\":{\\\"color\\\":\\\"black\\\",\\\"size\\\":14},\\\"text\\\":\\\"15.4573\\\",\\\"showarrow\\\":false,\\\"y\\\":0.35},{\\\"yshift\\\":20,\\\"x\\\":1,\\\"xref\\\":\\\"x\\\",\\\"yref\\\":\\\"y\\\",\\\"font\\\":{\\\"color\\\":\\\"black\\\",\\\"size\\\":14},\\\"text\\\":\\\"16.6011\\\",\\\"showarrow\\\":false,\\\"y\\\":0.35},{\\\"yshift\\\":20,\\\"x\\\":2,\\\"xref\\\":\\\"x\\\",\\\"yref\\\":\\\"y\\\",\\\"font\\\":{\\\"color\\\":\\\"black\\\",\\\"size\\\":14},\\\"text\\\":\\\"17.7066\\\",\\\"showarrow\\\":false,\\\"y\\\":0.35},{\\\"yshift\\\":20,\\\"x\\\":3,\\\"xref\\\":\\\"x\\\",\\\"yref\\\":\\\"y\\\",\\\"font\\\":{\\\"color\\\":\\\"black\\\",\\\"size\\\":14},\\\"text\\\":\\\"17.8764\\\",\\\"showarrow\\\":false,\\\"y\\\":0.35},{\\\"yshift\\\":20,\\\"x\\\":4,\\\"xref\\\":\\\"x\\\",\\\"yref\\\":\\\"y\\\",\\\"font\\\":{\\\"color\\\":\\\"black\\\",\\\"size\\\":14},\\\"text\\\":\\\"18.9205\\\",\\\"showarrow\\\":false,\\\"y\\\":0.35}],\\\"title\\\":\\\"Top 5 pokemons com IAP mais próximos de: ditto\\\",\\\"margin\\\":{\\\"l\\\":50,\\\"b\\\":30,\\\"r\\\":50,\\\"t\\\":50},\\\"automargin\\\":true,\\\"width\\\":985},{\\\"showLink\\\":false,\\\"editable\\\":false,\\\"responsive\\\":true,\\\"staticPlot\\\":false,\\\"scrollZoom\\\":true}); gd.on(\\\"plotly_hover\\\",(function (data){var filtered_data=WebIO.PlotlyCommands.filterEventData(gd,data,\\\"hover\\\"); return !(filtered_data.isnil) ? (WebIO.setval({\\\"name\\\":\\\"hover\\\",\\\"scope\\\":\\\"13187683843060238022\\\",\\\"id\\\":\\\"1751\\\",\\\"type\\\":\\\"observable\\\"},filtered_data.out)) : undefined})); gd.on(\\\"plotly_unhover\\\",(function (){return WebIO.setval({\\\"name\\\":\\\"hover\\\",\\\"scope\\\":\\\"13187683843060238022\\\",\\\"id\\\":\\\"1751\\\",\\\"type\\\":\\\"observable\\\"},{})})); gd.on(\\\"plotly_selected\\\",(function (data){var filtered_data=WebIO.PlotlyCommands.filterEventData(gd,data,\\\"selected\\\"); return !(filtered_data.isnil) ? (WebIO.setval({\\\"name\\\":\\\"selected\\\",\\\"scope\\\":\\\"13187683843060238022\\\",\\\"id\\\":\\\"1752\\\",\\\"type\\\":\\\"observable\\\"},filtered_data.out)) : undefined})); gd.on(\\\"plotly_deselect\\\",(function (){return WebIO.setval({\\\"name\\\":\\\"selected\\\",\\\"scope\\\":\\\"13187683843060238022\\\",\\\"id\\\":\\\"1752\\\",\\\"type\\\":\\\"observable\\\"},{})})); gd.on(\\\"plotly_relayout\\\",(function (data){var filtered_data=WebIO.PlotlyCommands.filterEventData(gd,data,\\\"relayout\\\"); return !(filtered_data.isnil) ? (WebIO.setval({\\\"name\\\":\\\"relayout\\\",\\\"scope\\\":\\\"13187683843060238022\\\",\\\"id\\\":\\\"1754\\\",\\\"type\\\":\\\"observable\\\"},filtered_data.out)) : undefined})); return gd.on(\\\"plotly_click\\\",(function (data){var filtered_data=WebIO.PlotlyCommands.filterEventData(gd,data,\\\"click\\\"); return !(filtered_data.isnil) ? (WebIO.setval({\\\"name\\\":\\\"click\\\",\\\"scope\\\":\\\"13187683843060238022\\\",\\\"id\\\":\\\"1753\\\",\\\"type\\\":\\\"observable\\\"},filtered_data.out)) : undefined}))}));\\n    (WebIO.importBlock({\\\"data\\\":[{\\\"name\\\":\\\"Plotly\\\",\\\"type\\\":\\\"js\\\",\\\"url\\\":\\\"\\/assetserver\\/53a7aadb162a8ed394abcda57c2b6e741dfa1bbf-plotly.min.js\\\"},{\\\"name\\\":null,\\\"type\\\":\\\"js\\\",\\\"url\\\":\\\"\\/assetserver\\/6711c1456783a56df2a429d652f48fa138f5bf84-plotly_webio.bundle.js\\\"}],\\\"type\\\":\\\"async_block\\\"})).then((imports) => handler.apply(this, imports));\\n}\\n\"],\"observables\":{\"_toImage\":{\"sync\":false,\"id\":\"1758\",\"value\":{}},\"hover\":{\"sync\":false,\"id\":\"1751\",\"value\":{}},\"selected\":{\"sync\":false,\"id\":\"1752\",\"value\":{}},\"__gd_contents\":{\"sync\":false,\"id\":\"1756\",\"value\":{}},\"click\":{\"sync\":false,\"id\":\"1753\",\"value\":{}},\"image\":{\"sync\":true,\"id\":\"1755\",\"value\":\"\"},\"__get_gd_contents\":{\"sync\":false,\"id\":\"1760\",\"value\":\"\"},\"_downloadImage\":{\"sync\":false,\"id\":\"1759\",\"value\":{}},\"relayout\":{\"sync\":false,\"id\":\"1754\",\"value\":{}},\"_commands\":{\"sync\":false,\"id\":\"1757\",\"value\":[]}}},\"children\":[{\"props\":{\"id\":\"plot-349c7572-d075-4f89-94e2-53121759fab9\"},\"nodeType\":\"DOM\",\"type\":\"node\",\"instanceArgs\":{\"namespace\":\"html\",\"tag\":\"div\"},\"children\":[]}]},\n",
       "        window,\n",
       "    );\n",
       "    })()\n",
       "    </script>\n",
       "</div>\n"
      ],
      "text/plain": [
       "data: [\n",
       "  \"heatmap with fields colorscale, showscale, transpose, type, x, y, z, zmax, and zmin\"\n",
       "]\n",
       "\n",
       "layout: \"layout with fields annotations, automargin, autosize, coloraxis, font, height, images, margin, paper_bgcolor, template, title, width, xaxis, and yaxis\"\n",
       "\n"
      ]
     },
     "metadata": {},
     "output_type": "display_data"
    }
   ],
   "source": [
    "plot_graphic(most_generic_dist[1], most_generic_dist[2], most_generic_dist[3])"
   ]
  }
 ],
 "metadata": {
  "kernelspec": {
   "display_name": "Julia 1.11.1",
   "language": "julia",
   "name": "julia-1.11"
  },
  "language_info": {
   "file_extension": ".jl",
   "mimetype": "application/julia",
   "name": "julia",
   "version": "1.11.1"
  }
 },
 "nbformat": 4,
 "nbformat_minor": 2
}
